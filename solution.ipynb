{
 "cells": [
  {
   "cell_type": "markdown",
   "metadata": {},
   "source": [
    "####BLOOM-DATE PREDICTION OF SAKURA"
   ]
  },
  {
   "cell_type": "markdown",
   "metadata": {
    "colab_type": "text",
    "id": "g3SobCWoBR-M"
   },
   "source": [
    "# Entrance Challenge: When Will the Sakura Bloom?"
   ]
  },
  {
   "cell_type": "markdown",
   "metadata": {
    "colab_type": "text",
    "id": "aJ20mLKzBR-S"
   },
   "source": [
    "# 0. Basics of the Sakura Bloom-cycle (5pts total)"
   ]
  },
  {
   "cell_type": "markdown",
   "metadata": {
    "colab_type": "text",
    "id": "zM4tyK4pBR-V"
   },
   "source": [
    "In a year, sakura trees basically go through 4 phases: energy production, hibernation, growth, and of course flowering. These phases\n",
    "roughly follow the seasons, but not exactly. <br>\n",
    "\n",
    "   Production phase： Initial development of the buds（Summer-Fall） <br>\n",
    "   Hibernation phase： Bud growth stops while the tree goes into hibernation（Late Fall-Winter） <br>\n",
    "   Growth phase： Buds once again continue to grow when the tree comes out of its winter hibernation（Late Winter-Spring） <br>\n",
    "   Flowering phase： The buds finally bloom in spring (as climate conditions allow), once they have been able to fully develop.（Spring） <br>\n",
    "    \n",
    "Each year, near the end of winter but before the trees finally bloom, the hibernation period ends. The sakura that rested through the winter once gain become metabolically active, and the buds continue to grow (though we may not immediately notice when this happens.) However, the cycle is not simply clockwork- for example, in places where the temperature is above 20℃ year-round, the trees are unable to hibernate sufficiently, and thus cannot blossom.\n",
    "    \n",
    "In this challenge, we have outlined the basic mechanism by which the sakura reach their eventual bloom-date. We consider building a bloom-date prediction model for the case of sakura in Tokyo, with the data split as follows: <br>\n",
    "    \n",
    "Test years： 1966, 1971, 1985, 1994, and 2008 <br>\n",
    "Training years: 1961 to 2017 (Excluding the test years) <br>\n",
    "    \n",
    "You should fit the model to the data from the training years, then use the model to predict the bloom-date for each of the test years. The 3 models to be applied to the data are described below.\n",
    "    \n"
   ]
  },
  {
   "cell_type": "markdown",
   "metadata": {
    "colab_type": "text",
    "id": "ihNJdwkrBR-d"
   },
   "source": [
    "### Problem 0-1: (5pts)\n",
    "Acquire data of sakura blooming date (桜の開花日) for Tokyo from 1961 to 2018 using the Japanese Meteorological Agency website (気象庁)."
   ]
  },
  {
   "cell_type": "markdown",
   "metadata": {
    "colab_type": "text",
    "id": "sJLPsdx8jOvW"
   },
   "source": [
    "<p><u>Data Acquisition</u>-<br>\n",
    "  The Dates of sakura-blooming were collected from the Japanese Meteorological Agency website. The following links shown below are the source of Sakura bloom-dates in our dataset.<br>From\n",
    "  <li>http://www.data.jma.go.jp/sakura/data/sakura003_01.html</li>To\n",
    "    <li> http://www.data.jma.go.jp/sakura/data/sakura003_06.html</li>The bloom-dates were storred in a CSV file named BloomDate.CSV. The weather-data of Tokyo for the last 51 years were stored Tokyo_en.CSV.  Then both datasets were combined in one CSV file named sakura.CSV that contains the complete information on weather and bloom-dates."
   ]
  },
  {
   "cell_type": "code",
   "execution_count": 0,
   "metadata": {
    "colab": {},
    "colab_type": "code",
    "collapsed": true,
    "id": "qW77MAWtGI4G"
   },
   "outputs": [],
   "source": [
    "#import some necessary librairies\n",
    "#data processing\n",
    "import pandas as pd \n",
    "\n",
    "#numpy for mathematical computation \n",
    "import numpy as np # linear algebra"
   ]
  },
  {
   "cell_type": "code",
   "execution_count": 0,
   "metadata": {
    "colab": {
     "base_uri": "https://localhost:8080/",
     "height": 35
    },
    "colab_type": "code",
    "executionInfo": {
     "elapsed": 41077,
     "status": "ok",
     "timestamp": 1551549799842,
     "user": {
      "displayName": "Tasnim Ahmed",
      "photoUrl": "https://lh5.googleusercontent.com/-_bXMSpk9fII/AAAAAAAAAAI/AAAAAAAAAOE/nghm7uaSFOo/s64/photo.jpg",
      "userId": "12044029492916722191"
     },
     "user_tz": 480
    },
    "id": "5_kf-BTWGJXz",
    "outputId": "a0e13439-c8b2-431b-a466-839f928885b5"
   },
   "outputs": [
    {
     "name": "stdout",
     "output_type": "stream",
     "text": [
      "Data Manipulation, Mathematical Computation and Visualisation packages imported!\n"
     ]
    }
   ],
   "source": [
    "#and matplotlib & seaborn, for visualisation.\n",
    "%matplotlib inline\n",
    "import matplotlib.pyplot as plt  # Matlab-style plotting\n",
    "from IPython.display import display\n",
    "import seaborn as sns\n",
    "color = sns.color_palette()\n",
    "sns.set_style('darkgrid')\n",
    "print('Data Manipulation, Mathematical Computation and Visualisation packages imported!')"
   ]
  },
  {
   "cell_type": "code",
   "execution_count": 0,
   "metadata": {
    "colab": {
     "base_uri": "https://localhost:8080/",
     "height": 35
    },
    "colab_type": "code",
    "executionInfo": {
     "elapsed": 41028,
     "status": "ok",
     "timestamp": 1551549799849,
     "user": {
      "displayName": "Tasnim Ahmed",
      "photoUrl": "https://lh5.googleusercontent.com/-_bXMSpk9fII/AAAAAAAAAAI/AAAAAAAAAOE/nghm7uaSFOo/s64/photo.jpg",
      "userId": "12044029492916722191"
     },
     "user_tz": 480
    },
    "id": "32CegktPGJ5L",
    "outputId": "e9ee9ddf-a513-4a31-af9f-5eb162f02d93"
   },
   "outputs": [
    {
     "name": "stdout",
     "output_type": "stream",
     "text": [
      "Statistical packages imported!\n"
     ]
    }
   ],
   "source": [
    "# Statistical packages used for transformations\n",
    "from scipy import stats\n",
    "from scipy.stats import norm, skew #for some statistics\n",
    "from scipy.special import boxcox1p #For box-com transformation\n",
    "from scipy.stats.stats import pearsonr\n",
    "print('Statistical packages imported!')"
   ]
  },
  {
   "cell_type": "code",
   "execution_count": 0,
   "metadata": {
    "colab": {
     "base_uri": "https://localhost:8080/",
     "height": 35
    },
    "colab_type": "code",
    "executionInfo": {
     "elapsed": 40987,
     "status": "ok",
     "timestamp": 1551549799854,
     "user": {
      "displayName": "Tasnim Ahmed",
      "photoUrl": "https://lh5.googleusercontent.com/-_bXMSpk9fII/AAAAAAAAAAI/AAAAAAAAAOE/nghm7uaSFOo/s64/photo.jpg",
      "userId": "12044029492916722191"
     },
     "user_tz": 480
    },
    "id": "nw3ePXNIGVbi",
    "outputId": "98ae8500-2765-4c36-d98b-cc211604749c"
   },
   "outputs": [
    {
     "name": "stdout",
     "output_type": "stream",
     "text": [
      "Algorithm packages imported!\n"
     ]
    }
   ],
   "source": [
    "# Algorithms used for modeling\n",
    "from sklearn.linear_model import ElasticNet, Lasso,  BayesianRidge, LassoLarsIC\n",
    "from sklearn.ensemble import RandomForestRegressor,  GradientBoostingRegressor, ExtraTreesRegressor\n",
    "from sklearn.base import BaseEstimator, TransformerMixin, RegressorMixin, clone\n",
    "from sklearn.kernel_ridge import KernelRidge\n",
    "from sklearn.metrics import mean_squared_error\n",
    "import xgboost as xgb\n",
    "import lightgbm as lgb\n",
    "print('Algorithm packages imported!')"
   ]
  },
  {
   "cell_type": "code",
   "execution_count": 0,
   "metadata": {
    "colab": {
     "base_uri": "https://localhost:8080/",
     "height": 35
    },
    "colab_type": "code",
    "executionInfo": {
     "elapsed": 40952,
     "status": "ok",
     "timestamp": 1551549799859,
     "user": {
      "displayName": "Tasnim Ahmed",
      "photoUrl": "https://lh5.googleusercontent.com/-_bXMSpk9fII/AAAAAAAAAAI/AAAAAAAAAOE/nghm7uaSFOo/s64/photo.jpg",
      "userId": "12044029492916722191"
     },
     "user_tz": 480
    },
    "id": "vbrHdJu9GWC1",
    "outputId": "459ebbcf-aa36-4bbd-f3a0-73bf4443a8a9"
   },
   "outputs": [
    {
     "name": "stdout",
     "output_type": "stream",
     "text": [
      "Pipeline and preprocessing packages imported!\n"
     ]
    }
   ],
   "source": [
    "# Pipeline and scaling preprocessing will be used for models that are sensitive\n",
    "from sklearn.pipeline import make_pipeline\n",
    "from sklearn.preprocessing import RobustScaler\n",
    "from sklearn.preprocessing import StandardScaler\n",
    "from sklearn.preprocessing import LabelEncoder\n",
    "from sklearn.feature_selection import SelectFromModel\n",
    "from sklearn.feature_selection import SelectKBest\n",
    "from sklearn.feature_selection import chi2\n",
    "print('Pipeline and preprocessing packages imported!')"
   ]
  },
  {
   "cell_type": "code",
   "execution_count": 0,
   "metadata": {
    "colab": {
     "base_uri": "https://localhost:8080/",
     "height": 35
    },
    "colab_type": "code",
    "executionInfo": {
     "elapsed": 40911,
     "status": "ok",
     "timestamp": 1551549799863,
     "user": {
      "displayName": "Tasnim Ahmed",
      "photoUrl": "https://lh5.googleusercontent.com/-_bXMSpk9fII/AAAAAAAAAAI/AAAAAAAAAOE/nghm7uaSFOo/s64/photo.jpg",
      "userId": "12044029492916722191"
     },
     "user_tz": 480
    },
    "id": "6iNXp35WGeVo",
    "outputId": "9e68ea7b-bd3f-4411-d5d5-9b294c93ff50"
   },
   "outputs": [
    {
     "name": "stdout",
     "output_type": "stream",
     "text": [
      "Model selection packages imported!\n"
     ]
    }
   ],
   "source": [
    "# Model selection packages used for sampling dataset and optimising parameters\n",
    "from sklearn import model_selection\n",
    "from sklearn.model_selection import KFold\n",
    "from sklearn.model_selection import cross_val_score, train_test_split\n",
    "from sklearn.model_selection import GridSearchCV\n",
    "from sklearn.model_selection import ShuffleSplit\n",
    "print('Model selection packages imported!')"
   ]
  },
  {
   "cell_type": "code",
   "execution_count": 0,
   "metadata": {
    "colab": {},
    "colab_type": "code",
    "collapsed": true,
    "id": "4xBXhTOlGlj4"
   },
   "outputs": [],
   "source": [
    "# To ignore annoying warning\n",
    "import warnings\n",
    "\n",
    "import warnings\n",
    "warnings.filterwarnings('ignore')\n",
    "\n",
    "\n",
    "#Limiting floats output to 3 decimal points\n",
    "pd.set_option('display.float_format', lambda x: '{:.4f}'.format(x)) "
   ]
  },
  {
   "cell_type": "code",
   "execution_count": 0,
   "metadata": {
    "colab": {
     "base_uri": "https://localhost:8080/",
     "height": 109
    },
    "colab_type": "code",
    "executionInfo": {
     "elapsed": 41329,
     "status": "ok",
     "timestamp": 1551549800332,
     "user": {
      "displayName": "Tasnim Ahmed",
      "photoUrl": "https://lh5.googleusercontent.com/-_bXMSpk9fII/AAAAAAAAAAI/AAAAAAAAAOE/nghm7uaSFOo/s64/photo.jpg",
      "userId": "12044029492916722191"
     },
     "user_tz": 480
    },
    "id": "8F-u_HbQG7vc",
    "outputId": "54d47c5e-b10b-4c5e-cc18-7604a5dabfd4"
   },
   "outputs": [
    {
     "name": "stdout",
     "output_type": "stream",
     "text": [
      "BloomDate.csv\n",
      "sakura.csv\n",
      "tokyo_en.csv\n",
      "\n",
      "Dataset Imported!\n"
     ]
    }
   ],
   "source": [
    "#check the files available in the directory\n",
    "from subprocess import check_output\n",
    "print(check_output(['ls', '/content/drive/My Drive/Sakura/db']).decode('utf8'))\n",
    "\n",
    "#Now let's import and put the train and test datasets in  pandas dataframe\n",
    "sakuradb = pd.read_csv('/content/drive/My Drive/Sakura/db/sakura.csv')\n",
    "print('Dataset Imported!')"
   ]
  },
  {
   "cell_type": "code",
   "execution_count": 0,
   "metadata": {
    "colab": {
     "base_uri": "https://localhost:8080/",
     "height": 260
    },
    "colab_type": "code",
    "executionInfo": {
     "elapsed": 41289,
     "status": "ok",
     "timestamp": 1551549800339,
     "user": {
      "displayName": "Tasnim Ahmed",
      "photoUrl": "https://lh5.googleusercontent.com/-_bXMSpk9fII/AAAAAAAAAAI/AAAAAAAAAOE/nghm7uaSFOo/s64/photo.jpg",
      "userId": "12044029492916722191"
     },
     "user_tz": 480
    },
    "id": "77cJLdPoBR-j",
    "inputHidden": false,
    "outputHidden": false,
    "outputId": "cd081c74-ace0-41ad-974b-c6dd062c6345"
   },
   "outputs": [
    {
     "name": "stdout",
     "output_type": "stream",
     "text": [
      "5 rows of Train dataset:\n",
      "Shape of the sakura dataset = (20561, 16)\n"
     ]
    },
    {
     "data": {
      "text/html": [
       "<div>\n",
       "<style scoped>\n",
       "    .dataframe tbody tr th:only-of-type {\n",
       "        vertical-align: middle;\n",
       "    }\n",
       "\n",
       "    .dataframe tbody tr th {\n",
       "        vertical-align: top;\n",
       "    }\n",
       "\n",
       "    .dataframe thead th {\n",
       "        text-align: right;\n",
       "    }\n",
       "</style>\n",
       "<table border=\"1\" class=\"dataframe\">\n",
       "  <thead>\n",
       "    <tr style=\"text-align: right;\">\n",
       "      <th></th>\n",
       "      <th>serial</th>\n",
       "      <th>year</th>\n",
       "      <th>month</th>\n",
       "      <th>day</th>\n",
       "      <th>local pressure</th>\n",
       "      <th>sea pressure</th>\n",
       "      <th>total preci</th>\n",
       "      <th>hr1 preci</th>\n",
       "      <th>min10 preci</th>\n",
       "      <th>avg temp</th>\n",
       "      <th>max temp</th>\n",
       "      <th>min temp</th>\n",
       "      <th>avg humid</th>\n",
       "      <th>min humid</th>\n",
       "      <th>sun hours</th>\n",
       "      <th>bloom</th>\n",
       "    </tr>\n",
       "  </thead>\n",
       "  <tbody>\n",
       "    <tr>\n",
       "      <th>0</th>\n",
       "      <td>0</td>\n",
       "      <td>1961</td>\n",
       "      <td>1</td>\n",
       "      <td>1</td>\n",
       "      <td>1011.7000</td>\n",
       "      <td>1012.4000</td>\n",
       "      <td>0.0000</td>\n",
       "      <td>0.0000</td>\n",
       "      <td>0.0000</td>\n",
       "      <td>2.1000</td>\n",
       "      <td>7.9000</td>\n",
       "      <td>-3.9000</td>\n",
       "      <td>41.0000</td>\n",
       "      <td>15.0000</td>\n",
       "      <td>8.6000</td>\n",
       "      <td>0.0000</td>\n",
       "    </tr>\n",
       "    <tr>\n",
       "      <th>1</th>\n",
       "      <td>1</td>\n",
       "      <td>1961</td>\n",
       "      <td>1</td>\n",
       "      <td>2</td>\n",
       "      <td>1020.2000</td>\n",
       "      <td>1021.0000</td>\n",
       "      <td>0.0000</td>\n",
       "      <td>0.0000</td>\n",
       "      <td>0.0000</td>\n",
       "      <td>1.5000</td>\n",
       "      <td>9.2000</td>\n",
       "      <td>-3.3000</td>\n",
       "      <td>51.0000</td>\n",
       "      <td>26.0000</td>\n",
       "      <td>8.7000</td>\n",
       "      <td>0.0000</td>\n",
       "    </tr>\n",
       "    <tr>\n",
       "      <th>2</th>\n",
       "      <td>2</td>\n",
       "      <td>1961</td>\n",
       "      <td>1</td>\n",
       "      <td>3</td>\n",
       "      <td>1021.3000</td>\n",
       "      <td>1022.1000</td>\n",
       "      <td>0.1000</td>\n",
       "      <td>0.8000</td>\n",
       "      <td>0.0000</td>\n",
       "      <td>2.5000</td>\n",
       "      <td>7.3000</td>\n",
       "      <td>-2.4000</td>\n",
       "      <td>58.0000</td>\n",
       "      <td>37.0000</td>\n",
       "      <td>5.4000</td>\n",
       "      <td>0.0000</td>\n",
       "    </tr>\n",
       "    <tr>\n",
       "      <th>3</th>\n",
       "      <td>3</td>\n",
       "      <td>1961</td>\n",
       "      <td>1</td>\n",
       "      <td>4</td>\n",
       "      <td>1004.6000</td>\n",
       "      <td>1005.3000</td>\n",
       "      <td>20.2000</td>\n",
       "      <td>13.9000</td>\n",
       "      <td>3.2000</td>\n",
       "      <td>4.7000</td>\n",
       "      <td>11.5000</td>\n",
       "      <td>0.6000</td>\n",
       "      <td>60.0000</td>\n",
       "      <td>38.0000</td>\n",
       "      <td>1.0000</td>\n",
       "      <td>0.0000</td>\n",
       "    </tr>\n",
       "    <tr>\n",
       "      <th>4</th>\n",
       "      <td>4</td>\n",
       "      <td>1961</td>\n",
       "      <td>1</td>\n",
       "      <td>5</td>\n",
       "      <td>1016.3000</td>\n",
       "      <td>1017.0000</td>\n",
       "      <td>0.0000</td>\n",
       "      <td>0.0000</td>\n",
       "      <td>0.0000</td>\n",
       "      <td>3.8000</td>\n",
       "      <td>7.7000</td>\n",
       "      <td>1.4000</td>\n",
       "      <td>33.0000</td>\n",
       "      <td>19.0000</td>\n",
       "      <td>8.3000</td>\n",
       "      <td>0.0000</td>\n",
       "    </tr>\n",
       "  </tbody>\n",
       "</table>\n",
       "</div>"
      ],
      "text/plain": [
       "   serial  year  month  day  local pressure  sea pressure  total preci  \\\n",
       "0       0  1961      1    1       1011.7000     1012.4000       0.0000   \n",
       "1       1  1961      1    2       1020.2000     1021.0000       0.0000   \n",
       "2       2  1961      1    3       1021.3000     1022.1000       0.1000   \n",
       "3       3  1961      1    4       1004.6000     1005.3000      20.2000   \n",
       "4       4  1961      1    5       1016.3000     1017.0000       0.0000   \n",
       "\n",
       "   hr1 preci  min10 preci  avg temp  max temp  min temp  avg humid  min humid  \\\n",
       "0     0.0000       0.0000    2.1000    7.9000   -3.9000    41.0000    15.0000   \n",
       "1     0.0000       0.0000    1.5000    9.2000   -3.3000    51.0000    26.0000   \n",
       "2     0.8000       0.0000    2.5000    7.3000   -2.4000    58.0000    37.0000   \n",
       "3    13.9000       3.2000    4.7000   11.5000    0.6000    60.0000    38.0000   \n",
       "4     0.0000       0.0000    3.8000    7.7000    1.4000    33.0000    19.0000   \n",
       "\n",
       "   sun hours  bloom  \n",
       "0     8.6000 0.0000  \n",
       "1     8.7000 0.0000  \n",
       "2     5.4000 0.0000  \n",
       "3     1.0000 0.0000  \n",
       "4     8.3000 0.0000  "
      ]
     },
     "execution_count": 10,
     "metadata": {
      "tags": []
     },
     "output_type": "execute_result"
    }
   ],
   "source": [
    "#display the first five rows of the train dataset if necessary\n",
    "pd.set_option('display.max_columns', None)\n",
    "print('5 rows of Train dataset:')\n",
    "print('Shape of the sakura dataset =',str(sakuradb.shape))\n",
    "sakuradb.head()"
   ]
  },
  {
   "cell_type": "markdown",
   "metadata": {
    "colab_type": "text",
    "id": "SnaVvqkJjbs0"
   },
   "source": [
    "<p>Lets split train and test data and reset the index column for both datasets</p>"
   ]
  },
  {
   "cell_type": "code",
   "execution_count": 0,
   "metadata": {
    "colab": {
     "base_uri": "https://localhost:8080/",
     "height": 35
    },
    "colab_type": "code",
    "executionInfo": {
     "elapsed": 41246,
     "status": "ok",
     "timestamp": 1551549800342,
     "user": {
      "displayName": "Tasnim Ahmed",
      "photoUrl": "https://lh5.googleusercontent.com/-_bXMSpk9fII/AAAAAAAAAAI/AAAAAAAAAOE/nghm7uaSFOo/s64/photo.jpg",
      "userId": "12044029492916722191"
     },
     "user_tz": 480
    },
    "id": "zU4q_fSSM74P",
    "outputId": "a64af256-f05f-4729-bd57-9af35cea00b5"
   },
   "outputs": [
    {
     "name": "stdout",
     "output_type": "stream",
     "text": [
      "Total size of Train and test Dataset = 20561\n"
     ]
    }
   ],
   "source": [
    "#Split train and test \n",
    "traindb = sakuradb[(sakuradb.year != 1966)& (sakuradb.year != 1971)& \n",
    "                   (sakuradb.year != 1985)& (sakuradb.year != 1994)& \n",
    "                   (sakuradb.year != 2008)]\n",
    "traindb = traindb.reset_index(drop=True)\n",
    "testdb = sakuradb[(sakuradb.year == 1966)| (sakuradb.year == 1971)| \n",
    "                  (sakuradb.year == 1985)| (sakuradb.year == 1994)| \n",
    "                  (sakuradb.year == 2008)]\n",
    "testdb = testdb.reset_index(drop=True)\n",
    "print('Total size of Train and test Dataset =',str(testdb.shape[0]+traindb.shape[0]))"
   ]
  },
  {
   "cell_type": "markdown",
   "metadata": {
    "colab_type": "text",
    "id": "cZ_Eudc6hMEv"
   },
   "source": [
    "<p>So Train and Test dataset are now properly splitted. And the combined size of train and test-db is equal to the actual dataset-sakuradb. </p>"
   ]
  },
  {
   "cell_type": "markdown",
   "metadata": {
    "colab_type": "text",
    "id": "5CPYStYEBR-v"
   },
   "source": [
    "***\n",
    "## 1. Prediction using the \"600 Degree Rule\" (15pts total)"
   ]
  },
  {
   "cell_type": "markdown",
   "metadata": {
    "colab_type": "text",
    "id": "BtnIoJLqBR-y"
   },
   "source": [
    "For a rough approximaton of the bloom-date, we start with a simple \"rule-based\" prediction model, called the \"600 Degree Rule\". The rule consists of logging the maximum temperature of each day, starting  on February 1st, and sum these temperatures until the sum surpasses 600$^\\circ$C. The day that this happens is the predicted bloom-date. This 600$^\\circ$C threshold is used to easily predict bloom-date in various locations varies by location. However, for more precise predictions, it should be set differently for every location. In this challenge, we verify the accuracy of the \"600 Degree Rule\" in the case of Tokyo."
   ]
  },
  {
   "cell_type": "markdown",
   "metadata": {
    "colab_type": "text",
    "id": "qai6wBUMBR-z"
   },
   "source": [
    "### Problem 1-1: (5pts)\n",
    "From here-on, we refer to the bloom-date in a given year $j$ as $BD_{j}$. For each year in the training data, calculate the accumulated daily maximum temperature from February 1st to the actual bloom-date $BD_{j}$, and plot this accumulated value over the training period. Then, average this accumulated value as $T_{mean}$, and verify whether we should use 600$^\\circ$C as a rule for Tokyo."
   ]
  },
  {
   "cell_type": "markdown",
   "metadata": {
    "colab_type": "text",
    "id": "0Gt0pOSFl4la"
   },
   "source": [
    "<p><u>Lets calculate total temperature from February 1st to the actual bloom-date  for each year and then get the Tmean for Tokyo</u></p>"
   ]
  },
  {
   "cell_type": "code",
   "execution_count": 0,
   "metadata": {
    "colab": {
     "base_uri": "https://localhost:8080/",
     "height": 72
    },
    "colab_type": "code",
    "executionInfo": {
     "elapsed": 41202,
     "status": "ok",
     "timestamp": 1551549800347,
     "user": {
      "displayName": "Tasnim Ahmed",
      "photoUrl": "https://lh5.googleusercontent.com/-_bXMSpk9fII/AAAAAAAAAAI/AAAAAAAAAOE/nghm7uaSFOo/s64/photo.jpg",
      "userId": "12044029492916722191"
     },
     "user_tz": 480
    },
    "id": "dCsX8CWYHF-i",
    "outputId": "54edd66d-e15b-4b6e-8f12-aa400c8c078c"
   },
   "outputs": [
    {
     "name": "stdout",
     "output_type": "stream",
     "text": [
      "So each year has one bloom-date.\n",
      "The average of accumulated temperature for each year \n",
      " or Tmean for Tokyo is  638.3557692307693 Degree C\n"
     ]
    }
   ],
   "source": [
    "#Lets get a list for train and test years\n",
    "trainyears = traindb['year'].unique().tolist()\n",
    "testyears = testdb['year'].unique().tolist()\n",
    "total_temps = []\n",
    "\n",
    "#check if there is only one bloom-date for each year\n",
    "if(traindb[(traindb.bloom == 1)].shape[0] == len(trainyears)): print('So each year has one bloom-date.')\n",
    "\n",
    "#calculate total temperature from February 1st to the actual bloom-date  for each year\n",
    "for year in trainyears:\n",
    "    beginPeriod = traindb[(traindb.year == year) & (traindb.month == 2) & \n",
    "                          (traindb.day == 1)].index[0]\n",
    "    endPeriod = traindb[(traindb.year == year) & (traindb.bloom == 1)].index[0]\n",
    "    duration = traindb[beginPeriod:endPeriod+1]\n",
    "    total_max_temp = duration['max temp'].sum()\n",
    "    total_temps.append(total_max_temp)\n",
    "\n",
    "t_mean = np.average(total_temps)\n",
    "print('The average of accumulated temperature for each year','\\n', 'or Tmean for Tokyo is ',t_mean, 'Degree C')"
   ]
  },
  {
   "cell_type": "markdown",
   "metadata": {
    "colab_type": "text",
    "id": "EqHj5HMnnTvs"
   },
   "source": [
    "<p>So 600 degree rule cannot be used for Tokyo as  Tmean for Tokyo is higher than 600 degree by 38 degree centigrade. Therefore Tmean = 638 degree has to be used to predict the bloom-date in Tokyo</p>"
   ]
  },
  {
   "cell_type": "markdown",
   "metadata": {
    "colab_type": "text",
    "id": "b4OsHUdPrN6k"
   },
   "source": [
    "<p><u>Plotting Accumulated Max Temperature against Training Years</u></p>"
   ]
  },
  {
   "cell_type": "code",
   "execution_count": 0,
   "metadata": {
    "colab": {
     "base_uri": "https://localhost:8080/",
     "height": 213
    },
    "colab_type": "code",
    "executionInfo": {
     "elapsed": 41956,
     "status": "ok",
     "timestamp": 1551549801143,
     "user": {
      "displayName": "Tasnim Ahmed",
      "photoUrl": "https://lh5.googleusercontent.com/-_bXMSpk9fII/AAAAAAAAAAI/AAAAAAAAAOE/nghm7uaSFOo/s64/photo.jpg",
      "userId": "12044029492916722191"
     },
     "user_tz": 480
    },
    "id": "PatHI-PrBR-4",
    "outputId": "b0e60011-6286-4366-e722-1c8b594f7b8f",
    "scrolled": true
   },
   "outputs": [
    {
     "data": {
      "image/png": "[encoded data removed]",
      "text/plain": [
       "<Figure size 648x180 with 1 Axes>"
      ]
     },
     "metadata": {
      "tags": []
     },
     "output_type": "display_data"
    }
   ],
   "source": [
    "adding = 0\n",
    "all_avg = []\n",
    "for count in range(len(total_temps)):\n",
    "    adding = adding + total_temps[count]\n",
    "    avg = adding/(count+1)\n",
    "    all_avg.append(avg)\n",
    "\n",
    "plt.subplots(figsize=(9, 2.5))\n",
    "plt.plot(trainyears,total_temps,'-bo',label='Max Temp')\n",
    "plt.plot(trainyears,all_avg,'--r',label='Avg Max Temp')\n",
    "plt.xlabel('Training Years')\n",
    "plt.ylabel('Accumulated \\n Max Temperature')\n",
    "plt.ylim(500, 800)\n",
    "plt.title('Accumulated Maximun Temperature VS Training Year', fontsize = 12)\n",
    "plt.legend()\n",
    "plt.show()"
   ]
  },
  {
   "cell_type": "markdown",
   "metadata": {
    "colab_type": "text",
    "id": "tzW-GM1AvZnt"
   },
   "source": [
    "<p>So we can see that the accumulated Maximum Temperatures for most of the years are in between 600 and 700 degree centigrade. Here the dashed-line is representing average up-to a each year. From the line it can be easily understood that the accumulated Maximum Temperatures has gradually decreased over-time. The decreasing is clearly visible in the recent years</p>"
   ]
  },
  {
   "cell_type": "markdown",
   "metadata": {
    "colab_type": "text",
    "id": "PDaMRjDkBR_D"
   },
   "source": [
    "### Problem 1-2: (10pts)\n",
    "\n",
    "Use the average accumulated value $T_{mean}$ calculated in 1-1 to predict $BD_{j}$ for each test year, and show the error from the actual $BD_{j}$. Compare to the prediction results when 600$^\\circ$C is used a threshold value, and evaluate both models using the coefficient of determination ($R^2$ score)."
   ]
  },
  {
   "cell_type": "markdown",
   "metadata": {
    "colab_type": "text",
    "id": "0A1uFYs_qf3e"
   },
   "source": [
    "<p><u>Declaring variables</u></p>"
   ]
  },
  {
   "cell_type": "code",
   "execution_count": 0,
   "metadata": {
    "colab": {},
    "colab_type": "code",
    "collapsed": true,
    "id": "UuUEPyoPHMV3"
   },
   "outputs": [],
   "source": [
    "from datetime import date\n",
    "from sklearn.metrics import r2_score\n",
    "\n",
    "t600 = 600\n",
    "bloom_dates_by_tmean = []\n",
    "bloom_days_by_tmean = []\n",
    "\n",
    "bloom_dates_by_t600 = []\n",
    "bloom_days_by_t600 = []\n",
    "\n",
    "actual_bloom_dates = []\n",
    "actual_bloom_days = []"
   ]
  },
  {
   "cell_type": "markdown",
   "metadata": {
    "colab_type": "text",
    "id": "RURpXuOGqzN8"
   },
   "source": [
    "<p><u>Prediction bloom-dates of test-years using Tmean</u></p>"
   ]
  },
  {
   "cell_type": "code",
   "execution_count": 0,
   "metadata": {
    "colab": {},
    "colab_type": "code",
    "collapsed": true,
    "id": "XeytUYWZHRq5"
   },
   "outputs": [],
   "source": [
    "for year in testyears:\n",
    "    beginPeriod = testdb[(testdb.year == year) & (testdb.month == 2) & \n",
    "                         (testdb.day == 1)].index[0]\n",
    "    begin_date = date(year, int(testdb[beginPeriod:beginPeriod+1]['month']), \n",
    "                      int(testdb[beginPeriod:beginPeriod+1]['day']))\n",
    "    threshold_temp = 0\n",
    "    while(threshold_temp < t_mean):\n",
    "        threshold_temp = threshold_temp + float(testdb[beginPeriod:beginPeriod+1]['max temp'])\n",
    "        beginPeriod = beginPeriod+1 \n",
    "    endPeriod = beginPeriod\n",
    "    bloom_date = date(year, int(testdb[endPeriod:endPeriod+1]['month']), \n",
    "                      int(testdb[endPeriod:endPeriod+1]['day']))\n",
    "    bloom_duration = bloom_date - begin_date\n",
    "    bloom_dates_by_tmean.append(bloom_date)\n",
    "    bloom_days_by_tmean.append(bloom_duration.days-1)"
   ]
  },
  {
   "cell_type": "markdown",
   "metadata": {
    "colab_type": "text",
    "id": "75LFiMiXraO5"
   },
   "source": [
    "<p><u>Prediction bloom-dates of test-years using 600 degree rule</u></p>"
   ]
  },
  {
   "cell_type": "code",
   "execution_count": 0,
   "metadata": {
    "colab": {},
    "colab_type": "code",
    "collapsed": true,
    "id": "XR68rsVcHTUX"
   },
   "outputs": [],
   "source": [
    "for year in testyears:\n",
    "    beginPeriod = testdb[(testdb.year == year) & (testdb.month == 2) & \n",
    "                         (testdb.day == 1)].index[0]\n",
    "    begin_date = date(year, int(testdb[beginPeriod:beginPeriod+1]['month']), \n",
    "                      int(testdb[beginPeriod:beginPeriod+1]['day']))\n",
    "    threshold_temp = 0\n",
    "    while(threshold_temp < t600):\n",
    "        threshold_temp = threshold_temp + float(testdb[beginPeriod:beginPeriod+1]['max temp'])\n",
    "        beginPeriod = beginPeriod+1 \n",
    "    endPeriod = beginPeriod\n",
    "    bloom_date = date(year, int(testdb[endPeriod:endPeriod+1]['month']), \n",
    "                      int(testdb[endPeriod:endPeriod+1]['day']))\n",
    "    bloom_duration = bloom_date - begin_date\n",
    "    bloom_dates_by_t600.append(bloom_date)\n",
    "    bloom_days_by_t600.append(bloom_duration.days-1)"
   ]
  },
  {
   "cell_type": "markdown",
   "metadata": {
    "colab_type": "text",
    "id": "Q67Mytwjrqew"
   },
   "source": [
    "<p><u>Making a list of actual bloom-dates</u></p>"
   ]
  },
  {
   "cell_type": "code",
   "execution_count": 0,
   "metadata": {
    "colab": {},
    "colab_type": "code",
    "collapsed": true,
    "id": "IEKBj9vxBR_K"
   },
   "outputs": [],
   "source": [
    "for year in testyears: \n",
    "    beginPeriod = testdb[(testdb.year == year) & (testdb.month == 2) & \n",
    "                         (testdb.day == 1)].index[0]\n",
    "    begin_date = date(year, int(testdb[beginPeriod:beginPeriod+1]['month']), \n",
    "                      int(testdb[beginPeriod:beginPeriod+1]['day']))\n",
    "    endPeriod = testdb[(testdb.year == year) & (testdb.bloom == 1)].index[0]\n",
    "    bloom_date = date(year, int(testdb[endPeriod:endPeriod+1]['month']), \n",
    "                      int(testdb[endPeriod:endPeriod+1]['day']))\n",
    "    bloom_duration = (bloom_date - begin_date)\n",
    "    actual_bloom_days.append(bloom_duration.days)\n",
    "    actual_bloom_dates.append(bloom_date)"
   ]
  },
  {
   "cell_type": "markdown",
   "metadata": {
    "colab_type": "text",
    "id": "2Pk0Kis-sVnl"
   },
   "source": [
    "<p><u>Comparison of prediction for Tmean and 600-Degree rule with respect to actual bloom-dates</u></p>"
   ]
  },
  {
   "cell_type": "code",
   "execution_count": 0,
   "metadata": {
    "colab": {
     "base_uri": "https://localhost:8080/",
     "height": 243
    },
    "colab_type": "code",
    "executionInfo": {
     "elapsed": 41939,
     "status": "ok",
     "timestamp": 1551549801185,
     "user": {
      "displayName": "Tasnim Ahmed",
      "photoUrl": "https://lh5.googleusercontent.com/-_bXMSpk9fII/AAAAAAAAAAI/AAAAAAAAAOE/nghm7uaSFOo/s64/photo.jpg",
      "userId": "12044029492916722191"
     },
     "user_tz": 480
    },
    "id": "8pL12Bhur46W",
    "outputId": "66c869aa-f17e-451c-cde8-d3725516730b"
   },
   "outputs": [
    {
     "name": "stdout",
     "output_type": "stream",
     "text": [
      "Comparison of prediction for Tmean and 600-Degree rule \n",
      " with respect to actual bloom-dates\n"
     ]
    },
    {
     "data": {
      "text/html": [
       "<div>\n",
       "<style scoped>\n",
       "    .dataframe tbody tr th:only-of-type {\n",
       "        vertical-align: middle;\n",
       "    }\n",
       "\n",
       "    .dataframe tbody tr th {\n",
       "        vertical-align: top;\n",
       "    }\n",
       "\n",
       "    .dataframe thead th {\n",
       "        text-align: right;\n",
       "    }\n",
       "</style>\n",
       "<table border=\"1\" class=\"dataframe\">\n",
       "  <thead>\n",
       "    <tr style=\"text-align: right;\">\n",
       "      <th></th>\n",
       "      <th>Actual-bloom-dates</th>\n",
       "      <th>Bloom_dates_by_T600</th>\n",
       "      <th>Bloom_dates_by_Tmean</th>\n",
       "    </tr>\n",
       "  </thead>\n",
       "  <tbody>\n",
       "    <tr>\n",
       "      <th>0</th>\n",
       "      <td>1966-03-20</td>\n",
       "      <td>1966-03-21</td>\n",
       "      <td>1966-03-24</td>\n",
       "    </tr>\n",
       "    <tr>\n",
       "      <th>1</th>\n",
       "      <td>1971-03-30</td>\n",
       "      <td>1971-03-28</td>\n",
       "      <td>1971-03-30</td>\n",
       "    </tr>\n",
       "    <tr>\n",
       "      <th>2</th>\n",
       "      <td>1985-04-03</td>\n",
       "      <td>1985-03-30</td>\n",
       "      <td>1985-04-02</td>\n",
       "    </tr>\n",
       "    <tr>\n",
       "      <th>3</th>\n",
       "      <td>1994-03-31</td>\n",
       "      <td>1994-03-29</td>\n",
       "      <td>1994-04-01</td>\n",
       "    </tr>\n",
       "    <tr>\n",
       "      <th>4</th>\n",
       "      <td>2008-03-22</td>\n",
       "      <td>2008-03-24</td>\n",
       "      <td>2008-03-26</td>\n",
       "    </tr>\n",
       "  </tbody>\n",
       "</table>\n",
       "</div>"
      ],
      "text/plain": [
       "  Actual-bloom-dates Bloom_dates_by_T600 Bloom_dates_by_Tmean\n",
       "0         1966-03-20          1966-03-21           1966-03-24\n",
       "1         1971-03-30          1971-03-28           1971-03-30\n",
       "2         1985-04-03          1985-03-30           1985-04-02\n",
       "3         1994-03-31          1994-03-29           1994-04-01\n",
       "4         2008-03-22          2008-03-24           2008-03-26"
      ]
     },
     "execution_count": 18,
     "metadata": {
      "tags": []
     },
     "output_type": "execute_result"
    }
   ],
   "source": [
    "print('Comparison of prediction for Tmean and 600-Degree rule','\\n',\n",
    "      'with respect to actual bloom-dates')  \n",
    "percentile_list = pd.DataFrame({'Actual-bloom-dates' : actual_bloom_dates,\n",
    "                                'Bloom_dates_by_Tmean' : bloom_dates_by_tmean,\n",
    "                                'Bloom_dates_by_T600' : bloom_dates_by_t600 })\n",
    "percentile_list"
   ]
  },
  {
   "cell_type": "markdown",
   "metadata": {
    "colab_type": "text",
    "id": "i6GMpM1YtDWK"
   },
   "source": [
    "<p><u>Error comparison of T600 and Tmean using Scatterplot</u></p>"
   ]
  },
  {
   "cell_type": "code",
   "execution_count": 0,
   "metadata": {
    "colab": {},
    "colab_type": "code",
    "collapsed": true,
    "id": "ubIhCd4cHbM3"
   },
   "outputs": [],
   "source": [
    "ABD = actual_bloom_dates.copy()\n",
    "BDTmean = bloom_dates_by_tmean.copy()\n",
    "BDT600 = bloom_dates_by_t600.copy()\n",
    "#Errors for T600 & Tmean\n",
    "errorTmean = []\n",
    "errorT600 = []\n",
    "for count in range(len(ABD)):\n",
    "    errorTmean.append(abs(ABD[count] - BDTmean[count]).days)\n",
    "    errorT600.append(abs(ABD[count] - BDT600[count]).days)"
   ]
  },
  {
   "cell_type": "code",
   "execution_count": 0,
   "metadata": {
    "colab": {
     "base_uri": "https://localhost:8080/",
     "height": 240
    },
    "colab_type": "code",
    "executionInfo": {
     "elapsed": 42772,
     "status": "ok",
     "timestamp": 1551549802059,
     "user": {
      "displayName": "Tasnim Ahmed",
      "photoUrl": "https://lh5.googleusercontent.com/-_bXMSpk9fII/AAAAAAAAAAI/AAAAAAAAAOE/nghm7uaSFOo/s64/photo.jpg",
      "userId": "12044029492916722191"
     },
     "user_tz": 480
    },
    "id": "F2NUgs6GHdmO",
    "outputId": "63c8a831-68cd-4d10-9e3e-1a685cf9cf99"
   },
   "outputs": [
    {
     "data": {
      "image/png": "[encoded data removed]",
      "text/plain": [
       "<Figure size 576x216 with 1 Axes>"
      ]
     },
     "metadata": {
      "tags": []
     },
     "output_type": "display_data"
    }
   ],
   "source": [
    "plt.subplots(figsize=(8, 3))\n",
    "plt.plot(testyears,errorT600,'bo',label='600')\n",
    "plt.plot(testyears,errorTmean,'ro',label='Tmean')\n",
    "plt.xlabel('Test Years')\n",
    "plt.ylabel('Error in Days')\n",
    "plt.title('Scatterplot: Error comparison of T600 and Tmean')\n",
    "plt.ylim(-1,5)\n",
    "plt.legend()\n",
    "plt.show() "
   ]
  },
  {
   "cell_type": "markdown",
   "metadata": {
    "colab_type": "text",
    "id": "7yJ-nDuWtSSp"
   },
   "source": [
    "<p><u>Error comparison of T600 and Tmean using Barplot</u></p>"
   ]
  },
  {
   "cell_type": "code",
   "execution_count": 0,
   "metadata": {
    "colab": {
     "base_uri": "https://localhost:8080/",
     "height": 349
    },
    "colab_type": "code",
    "executionInfo": {
     "elapsed": 42733,
     "status": "ok",
     "timestamp": 1551549802064,
     "user": {
      "displayName": "Tasnim Ahmed",
      "photoUrl": "https://lh5.googleusercontent.com/-_bXMSpk9fII/AAAAAAAAAAI/AAAAAAAAAOE/nghm7uaSFOo/s64/photo.jpg",
      "userId": "12044029492916722191"
     },
     "user_tz": 480
    },
    "id": "wqQDMZMrtoUD",
    "outputId": "64848f07-7886-4120-f4bf-29e7c4ebe070"
   },
   "outputs": [
    {
     "data": {
      "image/png": "[encoded data removed]",
      "text/plain": [
       "<Figure size 576x360 with 1 Axes>"
      ]
     },
     "metadata": {
      "tags": []
     },
     "output_type": "display_data"
    }
   ],
   "source": [
    "ind = np.arange(len(testyears))\n",
    "width = 0.35\n",
    "fig, ax = plt.subplots(figsize=(8, 5))\n",
    "p1 = ax.bar(ind, errorT600, width, color='r')\n",
    "p2 = ax.bar(ind + width, errorTmean, width,color='y')\n",
    "ax.set_title('Barplot: Error comparison of T600 and Tmean')\n",
    "ax.set_xticks(ind + width / 2)\n",
    "ax.set_xticklabels(testyears)\n",
    "ax.legend((p1[0], p2[0]), ('T600', 'Tmean'),loc='best', fontsize=15)\n",
    "plt.ylabel('Error in Days')\n",
    "plt.xlabel('Test years')\n",
    "plt.show()"
   ]
  },
  {
   "cell_type": "markdown",
   "metadata": {
    "colab_type": "text",
    "id": "n6Im-Dq3HxBW"
   },
   "source": [
    "<p><u>Plot-discussion</u><br>From both scatter-plot and bar-plot we can see that the error of 600-degree-rule is considerably higher than Tmean Rule for the majority of years. On the other hand Tmean-rule shows less error though it showed higher error than 600-degree-rule for the years 1966 and 2008. So it is not always better. Therefore we can calculate the average of the predictions from both models to achieve more generalized results.</p>"
   ]
  },
  {
   "cell_type": "markdown",
   "metadata": {
    "colab_type": "text",
    "id": "bmHDK1Amu3hr"
   },
   "source": [
    "<p><u>Calculating R2-score for Tmean and 600 degree rule</u></p>"
   ]
  },
  {
   "cell_type": "code",
   "execution_count": 0,
   "metadata": {
    "colab": {
     "base_uri": "https://localhost:8080/",
     "height": 54
    },
    "colab_type": "code",
    "executionInfo": {
     "elapsed": 42692,
     "status": "ok",
     "timestamp": 1551549802068,
     "user": {
      "displayName": "Tasnim Ahmed",
      "photoUrl": "https://lh5.googleusercontent.com/-_bXMSpk9fII/AAAAAAAAAAI/AAAAAAAAAOE/nghm7uaSFOo/s64/photo.jpg",
      "userId": "12044029492916722191"
     },
     "user_tz": 480
    },
    "id": "Zu0P-PQpsQfR",
    "outputId": "8375a088-05e9-4b81-bb77-7c1eb066c224"
   },
   "outputs": [
    {
     "name": "stdout",
     "output_type": "stream",
     "text": [
      "R2-Score for T600:  0.6793002915451896\n",
      "R2-Score for Tmean:  0.8323615160349854\n"
     ]
    }
   ],
   "source": [
    "actual_bloom_days_600degree = actual_bloom_days\n",
    "predicted_bloom_days_by_t600 = bloom_days_by_t600\n",
    "predicted_bloom_days_by_tmean = bloom_days_by_tmean\n",
    "print('R2-Score for T600: ',r2_score(actual_bloom_days, bloom_days_by_t600))\n",
    "print('R2-Score for Tmean: ',r2_score(actual_bloom_days, bloom_days_by_tmean))"
   ]
  },
  {
   "cell_type": "markdown",
   "metadata": {
    "colab_type": "text",
    "id": "q6O9zIw9H2qw"
   },
   "source": [
    "<p>So Tmean Rule shows higher R2 score for the testdb </p>"
   ]
  },
  {
   "cell_type": "markdown",
   "metadata": {
    "colab_type": "text",
    "id": "UUAuJWUWBR_T"
   },
   "source": [
    "***\n",
    "## 2. Linear Regression Model: Transform to Standard Temperature (30pts total)"
   ]
  },
  {
   "cell_type": "markdown",
   "metadata": {
    "colab_type": "text",
    "id": "9ypgwVGFBR_X"
   },
   "source": [
    "The year to year fluctuation of the bloom-date depends heavily upon the actual temperature fluctuation (not just the accumulated maximum). In order to get to a more physiologically realistic metric,  Sugihara et al. (1986) considered the actual effect of temperature on biochemical activity. They introduced a method of \"standardizing\" the temperatures measured, according to the fluctuation relative to a standard temperature.\n",
    "\n",
    "In order to make such a standardization, we apply two major assumptions, outlined below.\n",
    "\n",
    "#### 1) The Arrhenius equation: <br>\n",
    "\n",
    "The first assumption, also known in thermodynamics as the \"Arrhenius equation\", deals with chemical reaction rates and can be written as follows:\n",
    "\n",
    "$$\n",
    "k = A \\exp{ \\Bigl(- \\frac{E_{a}}{RT}} \\Bigr)\n",
    "$$ <br>\n",
    "\n",
    "Basically, it says that each reaction has an activation energy, $E_{a}$ and a pre-exponential factor $A$. Knowing these values for the particular equation, we can find the rate constant $k$ if we know the temperature, $T$, and applying the universal gas constant, $R = 8.314 \\rm [J/K・mol]$.\n",
    "\n",
    "#### 2) Constant output at constant temperature: <br>\n",
    "\n",
    "The second assumption, is simply that the output of a reaction is a simple product of the duration and the rate constant $k$, and that product is constant even at different temperatures.\n",
    "    \n",
    "$$\n",
    "tk = t'k' = t''k'' = \\cdots = \\rm{const}\n",
    "$$ <br>\n",
    "\n",
    "\n",
    "Making the assumptions above, we can determine a \"standard reaction time\", $t_{s}$ required for the bloom-date to occur. We can do so in the following way:\n",
    "\n",
    "<br>\n",
    "$$\n",
    "t_{s} = \\exp \\Bigl( \\frac{E_{a}(T_{i, j} - T_{s})}{RT_{i, j}T_{s}}\\Bigr)\n",
    "$$ <br>\n",
    "\n",
    "We define $T_{i, j}$ as the daily average temperature, and use a standard temperature of $T_{s} = 17^\\circ\\rm{C}$. For a given year $j$, with the last day of the hibernation phase set as $D_ {j}$, we define the number of \"transformed temperature days\",  $DTS_{ J}$,  needed to reach from $D_ {j}$ to the bloom-date $BD_{j}$ with the following equation:\n",
    "\n",
    "\n",
    "<br>\n",
    "$$\n",
    "DTS_{j} = \\sum_{i=D_{j}}^{BD_{j}} t_{s} = \\sum_{i=D_{j}}^{BD_{j}} \\exp \\Bigl( \\frac{E_{a}(T_{i, j} - T_{s})}{RT_{i, j}T_{s}}\\Bigr)\n",
    "$$ <br>\n",
    "\n",
    "\n",
    "\n",
    "From that equation, we can find the average $DTS$ for $x$ number of years ($DTS_{ mean}$) as follows: \n",
    "\n",
    "<br>\n",
    "$$\n",
    "\\begin{align}\n",
    "DTS_{\\rm{mean}} &= \\frac{1}{x} \\sum_{j}^{x} DTS_{j} \\\\\n",
    "&= \\frac{1}{x} \\sum_{j}^{x} \\sum_{i=D_{j}}^{BD_{j}} \\exp \\Bigl( \\frac{E_{a}(T_{i, j} - T_{s})}{RT_{i, j}T_{s}}\\Bigr)\n",
    "\\end{align}\n",
    "$$ <br> <br>\n",
    "\n",
    "In this exercise, we assume that $DTS_{ mean}$ and $E_{ a}$ are constant values, and we use the data from the training years to fit these 2 constants. The exercise consists of 4 steps:\n",
    "1. Calculate the last day of the hibernation phase $D_ {j}$ for every year $j$.\n",
    "2. For every year $j$, calculate $DTS_{ j}$ as a function of $E_{ a}$, then calculate the average (over training years) $DTS_{ mean}$ also as a function of $E_{ a}$.\n",
    "3. For every year $j$, and for every value of $E_{ a}$, accumulate $t_{s}$ from $D_ {j}$ and predict the bloom date $BD_{j}^{\\rm{pred}}$ as the day the accumulated value surpasses $DTS_{ mean}$. Calculate the bloom date prediction error as a function of $E_{ a}$, and find the optimal $E_{ a}$ value that minimizes that error.\n",
    "4. Use the previously calculated values of $D_ {j}$, $DTS_{ mean}$, and $E_{ a}$ to predict bloom-day on years from the test set.\n"
   ]
  },
  {
   "cell_type": "markdown",
   "metadata": {
    "colab_type": "text",
    "id": "BRF4HaMjBR_Z"
   },
   "source": [
    "### Problem 2-1: (5pts)\n",
    "According to Hayashi et al. (2012), the day on which the sakura will awaken from their hibernation phase, $D_{j}$, for a given location, can be approximated by the following equation:\n",
    "<br> <br>\n",
    "$$\n",
    "D_{j} = 136.75 - 7.689 \\phi + 0.133 \\phi^{2} -1.307\\ln L + 0.144T_{F} + 0.285T_{F}^2\n",
    "$$ <br>\n",
    "\n",
    "where $\\phi$ is the latitude [°N], $L$ is the distance from the nearest coastline [km], and $T_{F}$ is that location's average temperature [°C] over the first 3 months of a given year. In the case of Tokyo, $\\phi = 35°40'$ and $L=4\\rm{km}$.\n",
    "\n",
    "Find the $D_{j}$ value for every year $j$ from 1961 to 2017 (including the test years), and plot this value on a graph. \n",
    "\n",
    "(In Problem 1, we had assumed a $D_j$ of February 1st.)"
   ]
  },
  {
   "cell_type": "markdown",
   "metadata": {
    "colab_type": "text",
    "id": "UpGfoCplwzck"
   },
   "source": [
    "<p><u>Plotting Dj values for every year $j$ from 1961 to 2017</u></p>"
   ]
  },
  {
   "cell_type": "code",
   "execution_count": 0,
   "metadata": {
    "colab": {},
    "colab_type": "code",
    "collapsed": true,
    "id": "wt_U8zKZISs_"
   },
   "outputs": [],
   "source": [
    "import math\n",
    "#trainyears =trainyears[ 0 : -1]\n",
    "allyears = sakuradb['year'].unique().tolist()\n",
    "dj_all = []\n",
    "dj_all_by_day = []\n",
    "dj_train = []\n",
    "dj_test = []\n",
    "\n",
    "#converting ϕ into decimal\n",
    "theta = 35+(40/60)\n",
    "coast_dist = 4.00"
   ]
  },
  {
   "cell_type": "code",
   "execution_count": 0,
   "metadata": {
    "colab": {},
    "colab_type": "code",
    "collapsed": true,
    "id": "m9ttVET2IWPU"
   },
   "outputs": [],
   "source": [
    "for year in allyears:\n",
    "    beginPeriod = sakuradb[(sakuradb.year == year) & (sakuradb.month == 1) & \n",
    "                           (sakuradb.day == 1)].index[0]\n",
    "    endPeriod = sakuradb[(sakuradb.year == year) & (sakuradb.month == 3) & \n",
    "                         (sakuradb.day == 31)].index[0]\n",
    "    duration = sakuradb[beginPeriod:endPeriod+1]\n",
    "    tf = duration['avg temp'].mean()\n",
    "    dj = 136.75 - (7.689*theta) + (0.133* math.pow(theta, 2))- (1.307*np.log(coast_dist))+ (0.144*tf) + (0.285* math.pow(tf, 2))\n",
    "    dj_all.append((round(dj)%31))\n",
    "    dj_all_by_day.append(round(dj))"
   ]
  },
  {
   "cell_type": "code",
   "execution_count": 0,
   "metadata": {
    "colab": {
     "base_uri": "https://localhost:8080/",
     "height": 240
    },
    "colab_type": "code",
    "executionInfo": {
     "elapsed": 43392,
     "status": "ok",
     "timestamp": 1551549802811,
     "user": {
      "displayName": "Tasnim Ahmed",
      "photoUrl": "https://lh5.googleusercontent.com/-_bXMSpk9fII/AAAAAAAAAAI/AAAAAAAAAOE/nghm7uaSFOo/s64/photo.jpg",
      "userId": "12044029492916722191"
     },
     "user_tz": 480
    },
    "id": "rlBsCASNEEbF",
    "outputId": "f2402372-1d53-417d-a469-b063eb89d2f4"
   },
   "outputs": [
    {
     "data": {
      "image/png": "[encoded data removed]",
      "text/plain": [
       "<Figure size 864x216 with 1 Axes>"
      ]
     },
     "metadata": {
      "tags": []
     },
     "output_type": "display_data"
    }
   ],
   "source": [
    "adding = 0\n",
    "all_avg = []\n",
    "for count in range(len(dj_all_by_day)):\n",
    "    adding = adding + dj_all_by_day[count]\n",
    "    avg = adding/(count+1)\n",
    "    all_avg.append(avg)\n",
    "\n",
    "plt.subplots(figsize=(12, 3))\n",
    "plt.plot(allyears,dj_all_by_day,'-bo', label = 'Dj')\n",
    "plt.plot(allyears,all_avg,'--r', label = 'Dj mean')\n",
    "plt.xlabel('All Years')\n",
    "plt.ylabel('Dj')\n",
    "plt.ylim(30, 60)\n",
    "plt.title('Dj VS all Years')\n",
    "plt.legend()\n",
    "plt.show()"
   ]
  },
  {
   "cell_type": "markdown",
   "metadata": {
    "colab_type": "text",
    "id": "927vOK09JSL3"
   },
   "source": [
    "<p><u>Plot-discussion</u><br>Here it can easily be understood that the values of Djs are higher than 30 but lower than 60 . Which means each Dj is actually any  day of the month- February. From the dashed-line of Dj-mean it is also visible that the average-Dj has increased over-time. So the last day of hybernation is gradually delaying over the years.</p>"
   ]
  },
  {
   "cell_type": "markdown",
   "metadata": {
    "colab_type": "text",
    "id": "Ntumv-D1CGa5"
   },
   "source": [
    "<p><u>Storing Dj values separately for Train and Test Years</u></p>"
   ]
  },
  {
   "cell_type": "code",
   "execution_count": 0,
   "metadata": {
    "colab": {},
    "colab_type": "code",
    "collapsed": true,
    "id": "e7dw9-ZvIZVM"
   },
   "outputs": [],
   "source": [
    "for year in trainyears:\n",
    "    beginPeriod = traindb[(traindb.year == year) & (traindb.month == 1) & \n",
    "                          (traindb.day == 1)].index[0]\n",
    "    endPeriod = traindb[(traindb.year == year) & (traindb.month == 3) & \n",
    "                        (traindb.day == 31)].index[0]\n",
    "    duration = traindb[beginPeriod:endPeriod+1]\n",
    "    tf = duration['avg temp'].mean()\n",
    "    dj = 136.75 - (7.689*theta) + (0.133* math.pow(theta, 2))- (1.307*np.log(coast_dist))+ (0.144*tf) + (0.285* math.pow(tf, 2))\n",
    "    dj_train.append((round(dj)%31))"
   ]
  },
  {
   "cell_type": "code",
   "execution_count": 0,
   "metadata": {
    "colab": {},
    "colab_type": "code",
    "collapsed": true,
    "id": "CfeHm12MBR_d"
   },
   "outputs": [],
   "source": [
    "for year in testyears:\n",
    "    beginPeriod = testdb[(testdb.year == year) & (testdb.month == 1) & \n",
    "                         (testdb.day == 1)].index[0]\n",
    "    endPeriod = testdb[(testdb.year == year) & (testdb.month == 3) & \n",
    "                       (testdb.day == 31)].index[0]\n",
    "    duration = testdb[beginPeriod:endPeriod+1]\n",
    "    tf = duration['avg temp'].mean()\n",
    "    dj = 136.75 - (7.689*theta) + (0.133* math.pow(theta, 2))- (1.307*np.log(coast_dist))+ (0.144*tf) + (0.285* math.pow(tf, 2))\n",
    "    dj_test.append((round(dj)%31))    "
   ]
  },
  {
   "cell_type": "markdown",
   "metadata": {
    "colab_type": "text",
    "id": "vSY5y6dlBR_o"
   },
   "source": [
    "### Problem 2-2: (10pts)\n",
    "Calcluate $DTS_j$ for each year $j$ in the training set for discrete values of $E_{a}$, varying from 5 to 40kcal ($E_{a} = 5, 6, 7, \\cdots, 40 \\,\\rm{kcal}$), and plot this $DTS_j$ against $E_{a}$. Also calculate the average of $DTS_{j}$ over the training period, and indicate it on the plot as $DTS_{mean}$. Pay attention to the units of **every parameter** ($T_{i,j}$, $E_{a}$, etc) in the equation for $t_{s}$. \n"
   ]
  },
  {
   "cell_type": "markdown",
   "metadata": {
    "colab_type": "text",
    "id": "sS-00BG2CZrr"
   },
   "source": [
    "<p><u>Calculating DTSmean for each Ea value</u></p>"
   ]
  },
  {
   "cell_type": "code",
   "execution_count": 0,
   "metadata": {
    "colab": {},
    "colab_type": "code",
    "collapsed": true,
    "id": "PtWem_WhBR_s"
   },
   "outputs": [],
   "source": [
    "const_temp = 17+273.15\n",
    "dtsj_per_ea = []\n",
    "dts_mean_per_ea = []\n",
    "all_ea = list(range(5, 41))\n",
    "for ea in all_ea:\n",
    "    dtsj_per_year = []\n",
    "    for count in range(len(trainyears)):\n",
    "        beginPeriod = traindb[(traindb.year == trainyears[count]) & (traindb.month == 2) & \n",
    "                              (traindb.day == dj_train[count])].index[0]\n",
    "        endPeriod = traindb[(traindb.year == trainyears[count]) & (traindb.bloom == 1)].index[0]\n",
    "        duration = traindb[beginPeriod:endPeriod+1]\n",
    "        duration['avg temp kelvin'] = duration['avg temp']+273.15\n",
    "        duration['ts'] = np.exp((ea*(duration['avg temp kelvin'] - const_temp))/\n",
    "                                (duration['avg temp kelvin']*const_temp*0.00198588))\n",
    "        dtsj = duration['ts'].sum()\n",
    "        dtsj_per_year.append(dtsj)\n",
    "    dtsj_per_ea.append(dtsj_per_year)\n",
    "    dts_mean_per_ea.append(np.average(dtsj_per_year))"
   ]
  },
  {
   "cell_type": "markdown",
   "metadata": {
    "colab_type": "text",
    "id": "_4eynatoCwEK"
   },
   "source": [
    "<p><u>Plotting DTS VS Ea for all Train years</u></p>"
   ]
  },
  {
   "cell_type": "code",
   "execution_count": 0,
   "metadata": {
    "colab": {
     "base_uri": "https://localhost:8080/",
     "height": 425
    },
    "colab_type": "code",
    "executionInfo": {
     "elapsed": 1773,
     "status": "ok",
     "timestamp": 1551551728275,
     "user": {
      "displayName": "Tasnim Ahmed",
      "photoUrl": "https://lh5.googleusercontent.com/-_bXMSpk9fII/AAAAAAAAAAI/AAAAAAAAAOE/nghm7uaSFOo/s64/photo.jpg",
      "userId": "12044029492916722191"
     },
     "user_tz": 480
    },
    "id": "SzaxXRaMJGqO",
    "outputId": "82ddbea4-b13d-48e1-d87e-1bf8383f5317"
   },
   "outputs": [
    {
     "name": "stdout",
     "output_type": "stream",
     "text": [
      "Average DTSmean over all Ea =  15.088145130425694\n"
     ]
    },
    {
     "data": {
      "image/png": "[encoded data removed]",
      "text/plain": [
       "<Figure size 864x432 with 1 Axes>"
      ]
     },
     "metadata": {
      "tags": []
     },
     "output_type": "display_data"
    }
   ],
   "source": [
    "avg_dts_mean = sum(dts_mean_per_ea)/len(dts_mean_per_ea)\n",
    "print('Average DTSmean over all Ea = ',avg_dts_mean)\n",
    "\n",
    "avg_dts_mean = [avg_dts_mean for i in range(len(all_ea))]\n",
    "\n",
    "plt.subplots(figsize=(12, 6))\n",
    "dtsj_for_each_year = []\n",
    "\n",
    "for i in range(len(trainyears)):\n",
    "    dtsj_for_each_ea = []\n",
    "    for j in range(len(all_ea)):\n",
    "        dtsj_for_each_ea.append(dtsj_per_ea[j][i])\n",
    "    dtsj_for_each_year.append(dtsj_for_each_ea)  \n",
    "\n",
    "for i in range(len(trainyears)):\n",
    "    plt.plot(all_ea,dtsj_for_each_year[i]) \n",
    "\n",
    "plt.xlabel(\"Ea-values\")    \n",
    "plt.ylabel(\"DTS-values\")                               \n",
    "plt.title(\"DTS VS Ea for all Trainyears\")    \n",
    "plt.plot(all_ea, dts_mean_per_ea,\"-ko\",label=\"DTSmean\")\n",
    "plt.xlim(5, 40)\n",
    "plt.plot(all_ea,avg_dts_mean,\"-mo\",label=\"DTSmean over all Ea\")\n",
    "plt.legend()\n",
    "plt.show()"
   ]
  },
  {
   "cell_type": "markdown",
   "metadata": {
    "colab_type": "text",
    "id": "KSSmnJp5EDct"
   },
   "source": [
    "<p><u>Plot-Discussion</u><br>From the above plot it is clearly visible that the red-dotted DTSmean cluve has passed through the middle of all the curves for all the years of training dataset. Now we have to figure-out the best Ea and DTSmean combination for which the squared-error on test-data becomes minimum. </p>"
   ]
  },
  {
   "cell_type": "markdown",
   "metadata": {
    "colab_type": "text",
    "id": "1oM-rkYcBR_3"
   },
   "source": [
    "### Problem 2-3: (11pts)\n",
    "Using the same $E_{a}$ values and calculated $DTS_{mean}$ from 2-2, predict the bloom date $BD_{j}$ for each of the training years. Find the mean squared error relative to the actual $BD$ and plot it against $E_{a}$. Find the optimal $E_{a}^{*}$ that minimizes that error on the training data."
   ]
  },
  {
   "cell_type": "markdown",
   "metadata": {
    "colab_type": "text",
    "id": "53HeB1f5FgiZ"
   },
   "source": [
    "<p><u>Predicting Bloom-dates of all train-years for each Ea value</u></p>"
   ]
  },
  {
   "cell_type": "code",
   "execution_count": 0,
   "metadata": {
    "colab": {},
    "colab_type": "code",
    "collapsed": true,
    "id": "nYN_jqd8BR_5"
   },
   "outputs": [],
   "source": [
    "bloom_dates_per_ea = []\n",
    "bloom_days_per_ea = []\n",
    "traindb['avg temp kelvin'] = traindb['avg temp']+273.15\n",
    "for value in range(len(all_ea)):\n",
    "    bloom_dates_by_DTSmean = []\n",
    "    bloom_days_by_DTSmean = []\n",
    "    for count in range(len(trainyears)):\n",
    "        marginPeriod = traindb[(traindb.year == trainyears[count]) & \n",
    "                               (traindb.month == 2) & (traindb.day == 1)].index[0]\n",
    "        margin_date = date(trainyears[count], int(traindb[marginPeriod:marginPeriod+1]['month']), \n",
    "                           int(traindb[marginPeriod:marginPeriod+1]['day']))\n",
    "        beginPeriod = traindb[(traindb.year == trainyears[count]) & (traindb.month == 2) & \n",
    "                              (traindb.day == dj_train[count])].index[0]\n",
    "        begin_date = date(trainyears[count], int(traindb[beginPeriod:beginPeriod+1]['month']), \n",
    "                          int(traindb[beginPeriod:beginPeriod+1]['day']))\n",
    "        threshold_dts = 0\n",
    "        while(threshold_dts <= dts_mean_per_ea[value]):\n",
    "            avg_temp = float(traindb[beginPeriod:beginPeriod+1]['avg temp kelvin'])\n",
    "            ts = np.exp((all_ea[value]*(avg_temp-const_temp))/(avg_temp*const_temp*0.00198588))\n",
    "            threshold_dts = threshold_dts + ts\n",
    "            beginPeriod = beginPeriod+1\n",
    "        endPeriod = beginPeriod\n",
    "        bloom_date = date(trainyears[count], int(traindb[endPeriod:endPeriod+1]['month']), \n",
    "                          int(traindb[endPeriod:endPeriod+1]['day']))\n",
    "        bloom_duration = bloom_date - begin_date\n",
    "        bloom_dates_by_DTSmean.append(bloom_date)\n",
    "        bloom_days_by_DTSmean.append(bloom_duration.days)\n",
    "    bloom_dates_per_ea.append(bloom_dates_by_DTSmean)\n",
    "    bloom_days_per_ea.append(bloom_days_by_DTSmean)"
   ]
  },
  {
   "cell_type": "markdown",
   "metadata": {
    "colab_type": "text",
    "id": "92DJqauyGPDf"
   },
   "source": [
    "<p><u>Storring actual bloom-dates for each train-year</u></p>"
   ]
  },
  {
   "cell_type": "code",
   "execution_count": 0,
   "metadata": {
    "colab": {},
    "colab_type": "code",
    "collapsed": true,
    "id": "Ma-gYGrwCqiU"
   },
   "outputs": [],
   "source": [
    "actual_bloom_days = []\n",
    "actual_bloom_dates = []\n",
    "for count in range(len(trainyears)):\n",
    "    marginPeriod = traindb[(traindb.year == trainyears[count]) & \n",
    "                           (traindb.month == 2) & (traindb.day == 1)].index[0]\n",
    "    margin_date = date(trainyears[count], int(traindb[marginPeriod:marginPeriod+1]['month']), \n",
    "                       int(traindb[marginPeriod:marginPeriod+1]['day']))\n",
    "    beginPeriod = traindb[(traindb.year == trainyears[count]) & (traindb.month == 2) & \n",
    "                          (traindb.day == dj_train[count])].index[0]\n",
    "    begin_date = date(year, int(traindb[beginPeriod:beginPeriod+1]['month']), \n",
    "                      int(traindb[beginPeriod:beginPeriod+1]['day']))\n",
    "    endPeriod = traindb[(traindb.year == trainyears[count]) & (traindb.bloom == 1)].index[0]\n",
    "    bloom_date = date(year, int(traindb[endPeriod:endPeriod+1]['month']), \n",
    "                      int(traindb[endPeriod:endPeriod+1]['day']))\n",
    "    bloom_duration = bloom_date - begin_date\n",
    "    actual_bloom_days.append(bloom_duration.days)\n",
    "    actual_bloom_dates.append(bloom_date)"
   ]
  },
  {
   "cell_type": "markdown",
   "metadata": {
    "colab_type": "text",
    "id": "gMAjAGYAGjfS"
   },
   "source": [
    "<p><u>Calculating optimal Ea that minimizes squared-error on trainDB</u></p>"
   ]
  },
  {
   "cell_type": "code",
   "execution_count": 0,
   "metadata": {
    "colab": {
     "base_uri": "https://localhost:8080/",
     "height": 72
    },
    "colab_type": "code",
    "executionInfo": {
     "elapsed": 353945,
     "status": "ok",
     "timestamp": 1551550113466,
     "user": {
      "displayName": "Tasnim Ahmed",
      "photoUrl": "https://lh5.googleusercontent.com/-_bXMSpk9fII/AAAAAAAAAAI/AAAAAAAAAOE/nghm7uaSFOo/s64/photo.jpg",
      "userId": "12044029492916722191"
     },
     "user_tz": 480
    },
    "id": "fQG2z2XGC_td",
    "outputId": "4b376e4a-3829-4a37-84f0-24339473fdb6"
   },
   "outputs": [
    {
     "name": "stdout",
     "output_type": "stream",
     "text": [
      "So for the  23 th Ea the mean-squared-error is found minimum \n",
      "The value of 23 th Ea is:  28 which is considered optimal\n",
      "The value of DTSmean for optimal Ea (=  28 ) is:  10.165189335489261\n"
     ]
    }
   ],
   "source": [
    "mse_per_ea = []\n",
    "for value in range(len(all_ea)):\n",
    "    squared_errors = []\n",
    "    for count in range(len(trainyears)):\n",
    "        error = (bloom_days_per_ea[value][count]) - (actual_bloom_days[count])\n",
    "        squared_errors.append(math.pow(error, 2))\n",
    "    mse_per_ea.append(np.mean(squared_errors))  \n",
    "\n",
    "min_error = np.min(mse_per_ea)\n",
    "for value in range(len(all_ea)):\n",
    "    if(mse_per_ea[value] == min_error): \n",
    "        best_value = value\n",
    "        best_ea = all_ea[value]\n",
    "        best_dtsm = dts_mean_per_ea[value]\n",
    "    \n",
    "print('So for the ',best_value,'th Ea the mean-squared-error is found minimum ')\n",
    "print('The value of',best_value,'th Ea is: ',best_ea,'which is considered optimal')\n",
    "print('The value of DTSmean for optimal Ea (= ',best_ea, ') is: ',best_dtsm)  "
   ]
  },
  {
   "cell_type": "markdown",
   "metadata": {
    "colab_type": "text",
    "id": "2NfZKw9oHiRb"
   },
   "source": [
    "<p><u>Plotting mean-squared errors with respect to Ea values </u></p>"
   ]
  },
  {
   "cell_type": "code",
   "execution_count": 0,
   "metadata": {
    "colab": {
     "base_uri": "https://localhost:8080/",
     "height": 403
    },
    "colab_type": "code",
    "executionInfo": {
     "elapsed": 354505,
     "status": "ok",
     "timestamp": 1551550114065,
     "user": {
      "displayName": "Tasnim Ahmed",
      "photoUrl": "https://lh5.googleusercontent.com/-_bXMSpk9fII/AAAAAAAAAAI/AAAAAAAAAOE/nghm7uaSFOo/s64/photo.jpg",
      "userId": "12044029492916722191"
     },
     "user_tz": 480
    },
    "id": "y3AZ8Z1KqG91",
    "outputId": "541c2d40-6257-4df2-c747-15e3476b261c"
   },
   "outputs": [
    {
     "data": {
      "image/png": "[encoded data removed]",
      "text/plain": [
       "<Figure size 864x432 with 1 Axes>"
      ]
     },
     "metadata": {
      "tags": []
     },
     "output_type": "display_data"
    }
   ],
   "source": [
    "min_mse = [min_error for i in range(len(all_ea))]\n",
    "plt.subplots(figsize=(12, 6))\n",
    "plt.plot(all_ea, mse_per_ea,\"-ro\",label=\"Mean Squared Error\")\n",
    "plt.xlim(4, 41)\n",
    "plt.plot(all_ea,min_mse,\"-bo\",label=\"Lowest Mean Squared Error\")\n",
    "plt.xlabel(\"Ea-values\")    \n",
    "plt.ylabel(\"Mean Squared Error-values\")                               \n",
    "plt.title(\"Mean Squared Error VS Ea\")\n",
    "plt.legend()\n",
    "plt.show()"
   ]
  },
  {
   "cell_type": "markdown",
   "metadata": {
    "colab_type": "text",
    "id": "lRDNJgKP46g6"
   },
   "source": [
    "<p>As we can see that the blue straight-line representing the lowest mean squared error intersects the mean-squared-error curve at its lowest value where Ea-value is found 28. Therefore the optimal Ea calculation is proved to be correct.</p>"
   ]
  },
  {
   "cell_type": "markdown",
   "metadata": {
    "colab_type": "text",
    "id": "nFGNKC5gBR_8"
   },
   "source": [
    "### Problem 2-4: (4pts)\n",
    "\n",
    "Using the $D_j$ dates from problem 2-1, the average $DTS_{mean}$ from 2-2, and the best-fit $E_{a}^{*}$ from 2-3, predict the bloom-dates $BD_j$ for the years in the test set. Determine the error between your predicted $BD_j$ values and the actual values, and evaluate this model using the coefficient of determination ($R^2$ score)."
   ]
  },
  {
   "cell_type": "markdown",
   "metadata": {
    "colab_type": "text",
    "id": "Tj3o9dD4IF4s"
   },
   "source": [
    "<p><u>Predicting bloom-dates of test-years using the best Ea and DTSmean</u></p>"
   ]
  },
  {
   "cell_type": "code",
   "execution_count": 0,
   "metadata": {
    "colab": {},
    "colab_type": "code",
    "collapsed": true,
    "id": "h-tMR3nc1DC6"
   },
   "outputs": [],
   "source": [
    "predicted_bloom_dates = []\n",
    "predicted_bloom_days = []\n",
    "testdb['avg temp kelvin'] = testdb['avg temp']+273.15\n",
    "for count in range(len(testyears)):\n",
    "    beginPeriod = testdb[(testdb.year == testyears[count]) & (testdb.month == 2) & \n",
    "                         (testdb.day == dj_test[count])].index[0]\n",
    "    begin_date = date(testyears[count], int(testdb[beginPeriod:beginPeriod+1]['month']), \n",
    "                      int(testdb[beginPeriod:beginPeriod+1]['day']))\n",
    "    threshold_dts = 0\n",
    "    while(threshold_dts < best_dtsm):\n",
    "        avg_temp = float(testdb[beginPeriod:beginPeriod+1]['avg temp kelvin'])\n",
    "        ts = np.exp((best_ea*(avg_temp-const_temp))/(avg_temp*const_temp*0.00198588))\n",
    "        threshold_dts = threshold_dts + ts\n",
    "        beginPeriod = beginPeriod+1\n",
    "    endPeriod = beginPeriod\n",
    "    bloom_date = date(testyears[count], int(testdb[endPeriod:endPeriod+1]['month']), \n",
    "                      int(testdb[endPeriod:endPeriod+1]['day']))\n",
    "    bloom_duration = bloom_date - begin_date\n",
    "    predicted_bloom_dates.append(bloom_date)\n",
    "    predicted_bloom_days.append(bloom_duration.days-1)"
   ]
  },
  {
   "cell_type": "markdown",
   "metadata": {
    "colab_type": "text",
    "id": "e6kiPef_IiRT"
   },
   "source": [
    "<p><u>Storring actual bloom-dates for each test-year</u></p>"
   ]
  },
  {
   "cell_type": "code",
   "execution_count": 0,
   "metadata": {
    "colab": {},
    "colab_type": "code",
    "collapsed": true,
    "id": "N3pmi4DOBSAB"
   },
   "outputs": [],
   "source": [
    "actual_bloom_days = []\n",
    "actual_bloom_dates = []\n",
    "for count in range(len(testyears)):\n",
    "    marginPeriod = testdb[(testdb.year == testyears[count]) & \n",
    "                          (testdb.month == 2) & (testdb.day == 1)].index[0]\n",
    "    margin_date = date(testyears[count], int(testdb[marginPeriod:marginPeriod+1]['month']), \n",
    "                       int(testdb[marginPeriod:marginPeriod+1]['day']))\n",
    "    beginPeriod = testdb[(testdb.year == testyears[count]) & (testdb.month == 2) & \n",
    "                         (testdb.day == dj_test[count])].index[0]\n",
    "    begin_date = date(testyears[count], int(testdb[beginPeriod:beginPeriod+1]['month']), \n",
    "                      int(testdb[beginPeriod:beginPeriod+1]['day']))\n",
    "    endPeriod = testdb[(testdb.year == testyears[count]) & (testdb.bloom == 1)].index[0]\n",
    "    bloom_date = date(testyears[count], int(testdb[endPeriod:endPeriod+1]['month']), \n",
    "                      int(testdb[endPeriod:endPeriod+1]['day']))\n",
    "    bloom_duration = bloom_date - begin_date\n",
    "    actual_bloom_days.append(bloom_duration.days)\n",
    "    actual_bloom_dates.append(bloom_date) "
   ]
  },
  {
   "cell_type": "markdown",
   "metadata": {
    "colab_type": "text",
    "id": "eiBwi9uyI1YY"
   },
   "source": [
    "<p><u>Visualizing prediction-errors on test-db</u></p>"
   ]
  },
  {
   "cell_type": "code",
   "execution_count": 0,
   "metadata": {
    "colab": {
     "base_uri": "https://localhost:8080/",
     "height": 243
    },
    "colab_type": "code",
    "executionInfo": {
     "elapsed": 355030,
     "status": "ok",
     "timestamp": 1551550114642,
     "user": {
      "displayName": "Tasnim Ahmed",
      "photoUrl": "https://lh5.googleusercontent.com/-_bXMSpk9fII/AAAAAAAAAAI/AAAAAAAAAOE/nghm7uaSFOo/s64/photo.jpg",
      "userId": "12044029492916722191"
     },
     "user_tz": 480
    },
    "id": "05aKFaY53qTv",
    "outputId": "48f201f9-415b-4905-af70-8dd824ce4668"
   },
   "outputs": [
    {
     "name": "stdout",
     "output_type": "stream",
     "text": [
      "Comparison of Predicted-Bloom-dates \n",
      " with respect to Actual bloom-dates\n"
     ]
    },
    {
     "data": {
      "text/html": [
       "<div>\n",
       "<style scoped>\n",
       "    .dataframe tbody tr th:only-of-type {\n",
       "        vertical-align: middle;\n",
       "    }\n",
       "\n",
       "    .dataframe tbody tr th {\n",
       "        vertical-align: top;\n",
       "    }\n",
       "\n",
       "    .dataframe thead th {\n",
       "        text-align: right;\n",
       "    }\n",
       "</style>\n",
       "<table border=\"1\" class=\"dataframe\">\n",
       "  <thead>\n",
       "    <tr style=\"text-align: right;\">\n",
       "      <th></th>\n",
       "      <th>Actual-bloom-dates</th>\n",
       "      <th>Predicted-bloom-dates</th>\n",
       "      <th>Prediction-error</th>\n",
       "    </tr>\n",
       "  </thead>\n",
       "  <tbody>\n",
       "    <tr>\n",
       "      <th>0</th>\n",
       "      <td>1966-03-20</td>\n",
       "      <td>1966-03-21</td>\n",
       "      <td>1</td>\n",
       "    </tr>\n",
       "    <tr>\n",
       "      <th>1</th>\n",
       "      <td>1971-03-30</td>\n",
       "      <td>1971-03-30</td>\n",
       "      <td>0</td>\n",
       "    </tr>\n",
       "    <tr>\n",
       "      <th>2</th>\n",
       "      <td>1985-04-03</td>\n",
       "      <td>1985-04-02</td>\n",
       "      <td>1</td>\n",
       "    </tr>\n",
       "    <tr>\n",
       "      <th>3</th>\n",
       "      <td>1994-03-31</td>\n",
       "      <td>1994-04-02</td>\n",
       "      <td>2</td>\n",
       "    </tr>\n",
       "    <tr>\n",
       "      <th>4</th>\n",
       "      <td>2008-03-22</td>\n",
       "      <td>2008-03-24</td>\n",
       "      <td>2</td>\n",
       "    </tr>\n",
       "  </tbody>\n",
       "</table>\n",
       "</div>"
      ],
      "text/plain": [
       "  Actual-bloom-dates Predicted-bloom-dates  Prediction-error\n",
       "0         1966-03-20            1966-03-21                 1\n",
       "1         1971-03-30            1971-03-30                 0\n",
       "2         1985-04-03            1985-04-02                 1\n",
       "3         1994-03-31            1994-04-02                 2\n",
       "4         2008-03-22            2008-03-24                 2"
      ]
     },
     "execution_count": 36,
     "metadata": {
      "tags": []
     },
     "output_type": "execute_result"
    }
   ],
   "source": [
    "ABD = actual_bloom_dates.copy()\n",
    "PRD = predicted_bloom_dates.copy()\n",
    "errors = []\n",
    "\n",
    "for count in range(len(ABD)):\n",
    "    errors.append(abs(ABD[count] - PRD[count]).days)\n",
    "\n",
    "print('Comparison of Predicted-Bloom-dates','\\n','with respect to Actual bloom-dates')  \n",
    "percentile_list = pd.DataFrame({'Actual-bloom-dates' : ABD,\n",
    "                                'Predicted-bloom-dates' : PRD,\n",
    "                                'Prediction-error' : errors})\n",
    "percentile_list"
   ]
  },
  {
   "cell_type": "markdown",
   "metadata": {
    "colab_type": "text",
    "id": "sUc6BDBqJRNm"
   },
   "source": [
    "<p><u>Plotting prediction-errors on test-db</u></p>"
   ]
  },
  {
   "cell_type": "code",
   "execution_count": 0,
   "metadata": {
    "colab": {
     "base_uri": "https://localhost:8080/",
     "height": 349
    },
    "colab_type": "code",
    "executionInfo": {
     "elapsed": 354997,
     "status": "ok",
     "timestamp": 1551550114644,
     "user": {
      "displayName": "Tasnim Ahmed",
      "photoUrl": "https://lh5.googleusercontent.com/-_bXMSpk9fII/AAAAAAAAAAI/AAAAAAAAAOE/nghm7uaSFOo/s64/photo.jpg",
      "userId": "12044029492916722191"
     },
     "user_tz": 480
    },
    "id": "dL8zzQCz3zsk",
    "outputId": "4f978277-573b-4e58-ea9b-343c8bd61f7e"
   },
   "outputs": [
    {
     "data": {
      "image/png": "[encoded data removed]",
      "text/plain": [
       "<Figure size 576x360 with 1 Axes>"
      ]
     },
     "metadata": {
      "tags": []
     },
     "output_type": "display_data"
    }
   ],
   "source": [
    "ind = np.arange(len(testyears))\n",
    "width = 0.35\n",
    "fig, ax = plt.subplots(figsize=(8, 5))\n",
    "p1 = ax.bar(ind, errors, width, color='r')\n",
    "ax.set_title('Barplot: Prediction error for each year')\n",
    "ax.set_xticks(ind + width / 2)\n",
    "ax.set_xticklabels(testyears)\n",
    "plt.ylabel('Error in Days')\n",
    "plt.xlabel('Test years')\n",
    "plt.ylim(0, 3)\n",
    "plt.show()"
   ]
  },
  {
   "cell_type": "markdown",
   "metadata": {
    "colab_type": "text",
    "id": "ptwWXnW5J0ey"
   },
   "source": [
    "<p><u>Plot-discussion</u><br>From the above error-plot it is observed that the errors generated by the DTS method is much less than the Tmean method of problem 1. Here the maximum-error is also decreased by half compared to the Tmean method. For the first three samples the difference in between actual and predicted bloom-days was only one day maximum. </p>"
   ]
  },
  {
   "cell_type": "markdown",
   "metadata": {
    "colab_type": "text",
    "id": "prXVM8OxLR_t"
   },
   "source": [
    "<p><u>Calculating R2 score</u></p>"
   ]
  },
  {
   "cell_type": "code",
   "execution_count": 0,
   "metadata": {
    "colab": {
     "base_uri": "https://localhost:8080/",
     "height": 35
    },
    "colab_type": "code",
    "executionInfo": {
     "elapsed": 354962,
     "status": "ok",
     "timestamp": 1551550114647,
     "user": {
      "displayName": "Tasnim Ahmed",
      "photoUrl": "https://lh5.googleusercontent.com/-_bXMSpk9fII/AAAAAAAAAAI/AAAAAAAAAOE/nghm7uaSFOo/s64/photo.jpg",
      "userId": "12044029492916722191"
     },
     "user_tz": 480
    },
    "id": "B69uJtjc_ZWn",
    "outputId": "e52755bd-f2ca-4a28-a5b3-4b0709affa9b"
   },
   "outputs": [
    {
     "name": "stdout",
     "output_type": "stream",
     "text": [
      "Final R2-score for the Linear-regression model:  0.9712171052631579\n"
     ]
    }
   ],
   "source": [
    "actual_bloom_days_dts = actual_bloom_days\n",
    "predicted_bloom_days_by_dts = predicted_bloom_days\n",
    "print('Final R2-score for the Linear-regression model: ',r2_score(actual_bloom_days, predicted_bloom_days))"
   ]
  },
  {
   "cell_type": "markdown",
   "metadata": {
    "colab_type": "text",
    "id": "m6ZY7JaMBSAM"
   },
   "source": [
    "### Problem 2-5: (extra 10pts)\n",
    "Discuss any improvements you could make to the model outlined above. If you have a suggestion in particular, describe it. How much do you think the accuracy would be improved?"
   ]
  },
  {
   "cell_type": "markdown",
   "metadata": {
    "colab_type": "text",
    "collapsed": true,
    "id": "u2gz4xQ3BSAO"
   },
   "source": [
    "1.According to the mentioned model and datasets, there is an assumption that the average temperature of a single day is sustained throughout the day. This is not the case in real life as the temperature can flactuate even from hour to hour. So if the fluctuations of the temperature could be added, the accuracy and could possibly be improved.\n",
    "\n",
    "\n",
    "\n",
    "2.There are different species of cherry trees from the Prunus genus. Different species of trees might have different type if implecations to different changes of variables. We did not take that into account. If we can take those things into consideration, accuracy might be improved."
   ]
  },
  {
   "cell_type": "markdown",
   "metadata": {
    "colab_type": "text",
    "id": "ZkUMGcu5FDYe"
   },
   "source": [
    "<p><u>Discussion on Improvement of the Model</u><br><br>\n",
    "\n",
    "  <ul>1. Number of years taken into consideration for both training and testing should be increased for better resolution.</ul> \n",
    "  <ul>2. More features relevant to sakura-blooming could be considered alongside the temperature.</ul> \n",
    "  <ul>3. The assumptions made to establish the model might not withstand under certain circumstances.</ul> \n",
    "       <ul>4. Both the Arrhenius activation energy Ea and the rate constant k are experimentally determined</ul>\n",
    "    <ul>5. The equation of Hayashi et al.(2012) for determining the end of Hibernation is just a mere approximation. It can be modified considering discrepencies.</ul>\n",
    "       <ul>6. Catalysts increase the rate of reaction. Presence of such catalysts in an area's soil can be investigated</ul>\n",
    "       <ul>7. The activation energy for the reaction increases with temperature. So Ea decreases with T and therefore Ea is not completely independent of T</ul>\n",
    "  <ul>8. R-squared score can sometime mislead. The score may also be too-low or too-high when the test-dataset is smaller. Proper alternative can be taken into consideration to justify model-performance.</ul> <br>\n",
    "These are the suggestions in particular. I believe the prediction can be perfected further by applying several modifications in the equations and training the model with more data</p>"
   ]
  },
  {
   "cell_type": "markdown",
   "metadata": {
    "colab_type": "text",
    "id": "5DvFWiJuBSAR"
   },
   "source": [
    "***\n",
    "## 3. Predicting Bloom-date via Neural Network (30pts total)"
   ]
  },
  {
   "cell_type": "markdown",
   "metadata": {
    "colab_type": "text",
    "id": "o_NoKxggBSAW"
   },
   "source": [
    "### Problem 3-1: (20pts)\n",
    "\n",
    "Build a neural network and train it on the data from the training years. Use this model to predict the bloom-dates for each year in the test set. Evaluate the error between predicted dates and actual dates using the coefficient of determination (R2 score). Only use the weather data given in `tokyo.csv` and the sakura data acquired in problem 0-1.</br>\n",
    "You may use whichever framework or strategy that you like to construct the network. \n",
    "\n",
    "<p><u>Dataset preparation for ANN</u><br>A sincere observation of the Data shows that the Bloom-days occur within the first 4 months of a year. The Feature-values within the range of Hibernation Phase and Bloom Date can be considered as the most significant as they have direct impact on the Bloom Date. The effect of the feature-values for other months is  not significant to predict bloom-date in this case. Therefore the first 4 months of each year have been focused. Average of each column for the first 4 months has been considered as a feature for each year. Thus we will produce one row for each year in the new dataset for ANN.</p>"
   ]
  },
  {
   "cell_type": "code",
   "execution_count": 0,
   "metadata": {
    "colab": {},
    "colab_type": "code",
    "collapsed": true,
    "id": "5Ayuuu7XRUBx"
   },
   "outputs": [],
   "source": [
    "sakurayears = sakuradb['year'].unique().tolist()\n",
    "sakurayears = sakurayears[ 0 : -1]\n",
    "actual_bloom_days = []\n",
    "#get actual bloom-dates\n",
    "for year in sakurayears: \n",
    "    beginPeriod = sakuradb[(sakuradb.year == year) & (sakuradb.month == 1) \n",
    "                           & (sakuradb.day == 1)].index[0]\n",
    "    begin_date = date(year, int(sakuradb[beginPeriod:beginPeriod+1]['month']), \n",
    "                      int(sakuradb[beginPeriod:beginPeriod+1]['day']))\n",
    "    endPeriod = sakuradb[(sakuradb.year == year) & \n",
    "                         (sakuradb.bloom == 1)].index[0]\n",
    "    bloom_date = date(year, int(sakuradb[endPeriod:endPeriod+1]['month']), \n",
    "                      int(sakuradb[endPeriod:endPeriod+1]['day']))\n",
    "    bloom_duration = (bloom_date - begin_date)\n",
    "    actual_bloom_days.append(bloom_duration.days)\n",
    "\n",
    "columns = list(sakuradb)[4:-1]\n",
    "\n",
    "all_column_mean = []\n",
    "for column in columns:\n",
    "    column_mean_per_year = []\n",
    "    for year in sakurayears:\n",
    "        beginPeriod = sakuradb[(sakuradb.year == year) & (sakuradb.month == 1) & \n",
    "                               (sakuradb.day == 1)].index[0]\n",
    "        endPeriod = sakuradb[(sakuradb.year == year) & (sakuradb.month == 4) & \n",
    "                             (sakuradb.day == 30)].index[0]\n",
    "        duration = sakuradb[beginPeriod:endPeriod+1]\n",
    "        mean = duration[column].mean()\n",
    "        column_mean_per_year.append(mean)\n",
    "    all_column_mean.append(column_mean_per_year)  "
   ]
  },
  {
   "cell_type": "markdown",
   "metadata": {
    "colab_type": "text",
    "id": "QFw4juGVvPL4"
   },
   "source": [
    "<p><u>Lets discover the modified dataset</u></p>"
   ]
  },
  {
   "cell_type": "code",
   "execution_count": 0,
   "metadata": {
    "colab": {
     "base_uri": "https://localhost:8080/",
     "height": 332
    },
    "colab_type": "code",
    "executionInfo": {
     "elapsed": 356864,
     "status": "ok",
     "timestamp": 1551550116587,
     "user": {
      "displayName": "Tasnim Ahmed",
      "photoUrl": "https://lh5.googleusercontent.com/-_bXMSpk9fII/AAAAAAAAAAI/AAAAAAAAAOE/nghm7uaSFOo/s64/photo.jpg",
      "userId": "12044029492916722191"
     },
     "user_tz": 480
    },
    "id": "HRxUDiS95QxY",
    "outputId": "fb9c54b9-c396-4a63-b613-f2a403bec79c"
   },
   "outputs": [
    {
     "data": {
      "text/html": [
       "<div>\n",
       "<style scoped>\n",
       "    .dataframe tbody tr th:only-of-type {\n",
       "        vertical-align: middle;\n",
       "    }\n",
       "\n",
       "    .dataframe tbody tr th {\n",
       "        vertical-align: top;\n",
       "    }\n",
       "\n",
       "    .dataframe thead th {\n",
       "        text-align: right;\n",
       "    }\n",
       "</style>\n",
       "<table border=\"1\" class=\"dataframe\">\n",
       "  <thead>\n",
       "    <tr style=\"text-align: right;\">\n",
       "      <th></th>\n",
       "      <th>local pressure</th>\n",
       "      <th>sea pressure</th>\n",
       "      <th>total preci</th>\n",
       "      <th>hr1 preci</th>\n",
       "      <th>min10 preci</th>\n",
       "      <th>avg temp</th>\n",
       "      <th>max temp</th>\n",
       "      <th>min temp</th>\n",
       "      <th>avg humid</th>\n",
       "      <th>min humid</th>\n",
       "      <th>sun hours</th>\n",
       "      <th>bloom day</th>\n",
       "      <th>year</th>\n",
       "    </tr>\n",
       "  </thead>\n",
       "  <tbody>\n",
       "    <tr>\n",
       "      <th>0</th>\n",
       "      <td>1014.5358</td>\n",
       "      <td>1015.2492</td>\n",
       "      <td>3.1017</td>\n",
       "      <td>0.9992</td>\n",
       "      <td>0.3058</td>\n",
       "      <td>7.8333</td>\n",
       "      <td>13.1867</td>\n",
       "      <td>3.3633</td>\n",
       "      <td>56.7917</td>\n",
       "      <td>35.6917</td>\n",
       "      <td>6.4033</td>\n",
       "      <td>90</td>\n",
       "      <td>1961</td>\n",
       "    </tr>\n",
       "    <tr>\n",
       "      <th>1</th>\n",
       "      <td>1012.7275</td>\n",
       "      <td>1013.4400</td>\n",
       "      <td>2.0308</td>\n",
       "      <td>0.6017</td>\n",
       "      <td>0.2000</td>\n",
       "      <td>8.2167</td>\n",
       "      <td>13.6117</td>\n",
       "      <td>3.3400</td>\n",
       "      <td>55.0167</td>\n",
       "      <td>33.8167</td>\n",
       "      <td>6.6508</td>\n",
       "      <td>90</td>\n",
       "      <td>1962</td>\n",
       "    </tr>\n",
       "    <tr>\n",
       "      <th>2</th>\n",
       "      <td>1012.3967</td>\n",
       "      <td>1013.1100</td>\n",
       "      <td>1.5358</td>\n",
       "      <td>0.4075</td>\n",
       "      <td>0.1175</td>\n",
       "      <td>7.3908</td>\n",
       "      <td>12.8475</td>\n",
       "      <td>2.6150</td>\n",
       "      <td>55.4750</td>\n",
       "      <td>33.6583</td>\n",
       "      <td>6.8617</td>\n",
       "      <td>90</td>\n",
       "      <td>1963</td>\n",
       "    </tr>\n",
       "    <tr>\n",
       "      <th>3</th>\n",
       "      <td>1017.6661</td>\n",
       "      <td>1018.3777</td>\n",
       "      <td>3.3264</td>\n",
       "      <td>0.8893</td>\n",
       "      <td>0.2223</td>\n",
       "      <td>8.1273</td>\n",
       "      <td>12.5529</td>\n",
       "      <td>4.1091</td>\n",
       "      <td>62.0248</td>\n",
       "      <td>43.5868</td>\n",
       "      <td>4.9835</td>\n",
       "      <td>92</td>\n",
       "      <td>1964</td>\n",
       "    </tr>\n",
       "    <tr>\n",
       "      <th>4</th>\n",
       "      <td>1009.8208</td>\n",
       "      <td>1014.2183</td>\n",
       "      <td>1.5833</td>\n",
       "      <td>0.5333</td>\n",
       "      <td>0.2208</td>\n",
       "      <td>6.7992</td>\n",
       "      <td>11.2733</td>\n",
       "      <td>2.6267</td>\n",
       "      <td>53.0250</td>\n",
       "      <td>34.9917</td>\n",
       "      <td>6.6633</td>\n",
       "      <td>91</td>\n",
       "      <td>1965</td>\n",
       "    </tr>\n",
       "    <tr>\n",
       "      <th>5</th>\n",
       "      <td>1009.5825</td>\n",
       "      <td>1013.9542</td>\n",
       "      <td>3.1600</td>\n",
       "      <td>1.0558</td>\n",
       "      <td>0.3342</td>\n",
       "      <td>8.7483</td>\n",
       "      <td>13.0767</td>\n",
       "      <td>4.4858</td>\n",
       "      <td>55.6833</td>\n",
       "      <td>38.0667</td>\n",
       "      <td>5.2367</td>\n",
       "      <td>78</td>\n",
       "      <td>1966</td>\n",
       "    </tr>\n",
       "    <tr>\n",
       "      <th>6</th>\n",
       "      <td>1012.8858</td>\n",
       "      <td>1017.2792</td>\n",
       "      <td>2.0867</td>\n",
       "      <td>0.6800</td>\n",
       "      <td>0.1833</td>\n",
       "      <td>8.3700</td>\n",
       "      <td>12.6458</td>\n",
       "      <td>4.0408</td>\n",
       "      <td>53.7750</td>\n",
       "      <td>37.4417</td>\n",
       "      <td>5.9150</td>\n",
       "      <td>88</td>\n",
       "      <td>1967</td>\n",
       "    </tr>\n",
       "    <tr>\n",
       "      <th>7</th>\n",
       "      <td>1010.8570</td>\n",
       "      <td>1015.2388</td>\n",
       "      <td>2.2231</td>\n",
       "      <td>0.7066</td>\n",
       "      <td>0.2686</td>\n",
       "      <td>8.5711</td>\n",
       "      <td>13.0562</td>\n",
       "      <td>4.2050</td>\n",
       "      <td>51.5620</td>\n",
       "      <td>33.9421</td>\n",
       "      <td>6.4050</td>\n",
       "      <td>88</td>\n",
       "      <td>1968</td>\n",
       "    </tr>\n",
       "    <tr>\n",
       "      <th>8</th>\n",
       "      <td>1011.0767</td>\n",
       "      <td>1015.4667</td>\n",
       "      <td>2.9042</td>\n",
       "      <td>0.7792</td>\n",
       "      <td>0.2792</td>\n",
       "      <td>8.4783</td>\n",
       "      <td>12.6425</td>\n",
       "      <td>4.2750</td>\n",
       "      <td>58.8083</td>\n",
       "      <td>40.1083</td>\n",
       "      <td>5.0275</td>\n",
       "      <td>95</td>\n",
       "      <td>1969</td>\n",
       "    </tr>\n",
       "  </tbody>\n",
       "</table>\n",
       "</div>"
      ],
      "text/plain": [
       "   local pressure  sea pressure  total preci  hr1 preci  min10 preci  \\\n",
       "0       1014.5358     1015.2492       3.1017     0.9992       0.3058   \n",
       "1       1012.7275     1013.4400       2.0308     0.6017       0.2000   \n",
       "2       1012.3967     1013.1100       1.5358     0.4075       0.1175   \n",
       "3       1017.6661     1018.3777       3.3264     0.8893       0.2223   \n",
       "4       1009.8208     1014.2183       1.5833     0.5333       0.2208   \n",
       "5       1009.5825     1013.9542       3.1600     1.0558       0.3342   \n",
       "6       1012.8858     1017.2792       2.0867     0.6800       0.1833   \n",
       "7       1010.8570     1015.2388       2.2231     0.7066       0.2686   \n",
       "8       1011.0767     1015.4667       2.9042     0.7792       0.2792   \n",
       "\n",
       "   avg temp  max temp  min temp  avg humid  min humid  sun hours  bloom day  \\\n",
       "0    7.8333   13.1867    3.3633    56.7917    35.6917     6.4033         90   \n",
       "1    8.2167   13.6117    3.3400    55.0167    33.8167     6.6508         90   \n",
       "2    7.3908   12.8475    2.6150    55.4750    33.6583     6.8617         90   \n",
       "3    8.1273   12.5529    4.1091    62.0248    43.5868     4.9835         92   \n",
       "4    6.7992   11.2733    2.6267    53.0250    34.9917     6.6633         91   \n",
       "5    8.7483   13.0767    4.4858    55.6833    38.0667     5.2367         78   \n",
       "6    8.3700   12.6458    4.0408    53.7750    37.4417     5.9150         88   \n",
       "7    8.5711   13.0562    4.2050    51.5620    33.9421     6.4050         88   \n",
       "8    8.4783   12.6425    4.2750    58.8083    40.1083     5.0275         95   \n",
       "\n",
       "   year  \n",
       "0  1961  \n",
       "1  1962  \n",
       "2  1963  \n",
       "3  1964  \n",
       "4  1965  \n",
       "5  1966  \n",
       "6  1967  \n",
       "7  1968  \n",
       "8  1969  "
      ]
     },
     "execution_count": 40,
     "metadata": {
      "tags": []
     },
     "output_type": "execute_result"
    }
   ],
   "source": [
    "sakuradb = pd.DataFrame(all_column_mean).T\n",
    "sakuradb.columns = columns\n",
    "sakuradb['bloom day'] = actual_bloom_days\n",
    "sakuradb['year'] = sakurayears\n",
    "sakuradb.head(9)"
   ]
  },
  {
   "cell_type": "code",
   "execution_count": 0,
   "metadata": {
    "colab": {
     "base_uri": "https://localhost:8080/",
     "height": 35
    },
    "colab_type": "code",
    "executionInfo": {
     "elapsed": 356831,
     "status": "ok",
     "timestamp": 1551550116590,
     "user": {
      "displayName": "Tasnim Ahmed",
      "photoUrl": "https://lh5.googleusercontent.com/-_bXMSpk9fII/AAAAAAAAAAI/AAAAAAAAAOE/nghm7uaSFOo/s64/photo.jpg",
      "userId": "12044029492916722191"
     },
     "user_tz": 480
    },
    "id": "irkzb1lH6E8w",
    "outputId": "6b4d7992-9c06-4823-ccaf-d8d98802b84b"
   },
   "outputs": [
    {
     "data": {
      "text/plain": [
       "(56, 13)"
      ]
     },
     "execution_count": 41,
     "metadata": {
      "tags": []
     },
     "output_type": "execute_result"
    }
   ],
   "source": [
    "sakuradb.shape"
   ]
  },
  {
   "cell_type": "markdown",
   "metadata": {
    "colab_type": "text",
    "id": "L0vrA6ojBXbv"
   },
   "source": [
    "<p><u>Split train and test datasets</u></p>"
   ]
  },
  {
   "cell_type": "code",
   "execution_count": 0,
   "metadata": {
    "colab": {
     "base_uri": "https://localhost:8080/",
     "height": 35
    },
    "colab_type": "code",
    "executionInfo": {
     "elapsed": 356802,
     "status": "ok",
     "timestamp": 1551550116595,
     "user": {
      "displayName": "Tasnim Ahmed",
      "photoUrl": "https://lh5.googleusercontent.com/-_bXMSpk9fII/AAAAAAAAAAI/AAAAAAAAAOE/nghm7uaSFOo/s64/photo.jpg",
      "userId": "12044029492916722191"
     },
     "user_tz": 480
    },
    "id": "orihjfFN5bDw",
    "outputId": "d390a6c8-f332-4490-c7e0-a370ef6fe9f0"
   },
   "outputs": [
    {
     "data": {
      "text/plain": [
       "56"
      ]
     },
     "execution_count": 42,
     "metadata": {
      "tags": []
     },
     "output_type": "execute_result"
    }
   ],
   "source": [
    " traindb = sakuradb[(sakuradb.year != 1966)& (sakuradb.year != 1971)& (sakuradb.year != 1985)& \n",
    "                   (sakuradb.year != 1994)& (sakuradb.year != 2008)]\n",
    "\n",
    "traindb = traindb.reset_index(drop=True)\n",
    "testdb = sakuradb[(sakuradb.year == 1966)| (sakuradb.year == 1971)| (sakuradb.year == 1985)| \n",
    "                  (sakuradb.year == 1994)| (sakuradb.year == 2008)]\n",
    "testdb = testdb.reset_index(drop=True)\n",
    "testdb.shape[0]+traindb.shape[0]"
   ]
  },
  {
   "cell_type": "code",
   "execution_count": 0,
   "metadata": {
    "colab": {
     "base_uri": "https://localhost:8080/",
     "height": 206
    },
    "colab_type": "code",
    "executionInfo": {
     "elapsed": 356770,
     "status": "ok",
     "timestamp": 1551550116603,
     "user": {
      "displayName": "Tasnim Ahmed",
      "photoUrl": "https://lh5.googleusercontent.com/-_bXMSpk9fII/AAAAAAAAAAI/AAAAAAAAAOE/nghm7uaSFOo/s64/photo.jpg",
      "userId": "12044029492916722191"
     },
     "user_tz": 480
    },
    "id": "dzDWrqKL0pBp",
    "outputId": "2eb822d5-1c0d-472a-8403-a591909a7c9a"
   },
   "outputs": [
    {
     "data": {
      "text/html": [
       "<div>\n",
       "<style scoped>\n",
       "    .dataframe tbody tr th:only-of-type {\n",
       "        vertical-align: middle;\n",
       "    }\n",
       "\n",
       "    .dataframe tbody tr th {\n",
       "        vertical-align: top;\n",
       "    }\n",
       "\n",
       "    .dataframe thead th {\n",
       "        text-align: right;\n",
       "    }\n",
       "</style>\n",
       "<table border=\"1\" class=\"dataframe\">\n",
       "  <thead>\n",
       "    <tr style=\"text-align: right;\">\n",
       "      <th></th>\n",
       "      <th>local pressure</th>\n",
       "      <th>sea pressure</th>\n",
       "      <th>total preci</th>\n",
       "      <th>hr1 preci</th>\n",
       "      <th>min10 preci</th>\n",
       "      <th>avg temp</th>\n",
       "      <th>max temp</th>\n",
       "      <th>min temp</th>\n",
       "      <th>avg humid</th>\n",
       "      <th>min humid</th>\n",
       "      <th>sun hours</th>\n",
       "      <th>bloom day</th>\n",
       "      <th>year</th>\n",
       "    </tr>\n",
       "  </thead>\n",
       "  <tbody>\n",
       "    <tr>\n",
       "      <th>0</th>\n",
       "      <td>1014.5358</td>\n",
       "      <td>1015.2492</td>\n",
       "      <td>3.1017</td>\n",
       "      <td>0.9992</td>\n",
       "      <td>0.3058</td>\n",
       "      <td>7.8333</td>\n",
       "      <td>13.1867</td>\n",
       "      <td>3.3633</td>\n",
       "      <td>56.7917</td>\n",
       "      <td>35.6917</td>\n",
       "      <td>6.4033</td>\n",
       "      <td>90</td>\n",
       "      <td>1961</td>\n",
       "    </tr>\n",
       "    <tr>\n",
       "      <th>1</th>\n",
       "      <td>1012.7275</td>\n",
       "      <td>1013.4400</td>\n",
       "      <td>2.0308</td>\n",
       "      <td>0.6017</td>\n",
       "      <td>0.2000</td>\n",
       "      <td>8.2167</td>\n",
       "      <td>13.6117</td>\n",
       "      <td>3.3400</td>\n",
       "      <td>55.0167</td>\n",
       "      <td>33.8167</td>\n",
       "      <td>6.6508</td>\n",
       "      <td>90</td>\n",
       "      <td>1962</td>\n",
       "    </tr>\n",
       "    <tr>\n",
       "      <th>2</th>\n",
       "      <td>1012.3967</td>\n",
       "      <td>1013.1100</td>\n",
       "      <td>1.5358</td>\n",
       "      <td>0.4075</td>\n",
       "      <td>0.1175</td>\n",
       "      <td>7.3908</td>\n",
       "      <td>12.8475</td>\n",
       "      <td>2.6150</td>\n",
       "      <td>55.4750</td>\n",
       "      <td>33.6583</td>\n",
       "      <td>6.8617</td>\n",
       "      <td>90</td>\n",
       "      <td>1963</td>\n",
       "    </tr>\n",
       "    <tr>\n",
       "      <th>3</th>\n",
       "      <td>1017.6661</td>\n",
       "      <td>1018.3777</td>\n",
       "      <td>3.3264</td>\n",
       "      <td>0.8893</td>\n",
       "      <td>0.2223</td>\n",
       "      <td>8.1273</td>\n",
       "      <td>12.5529</td>\n",
       "      <td>4.1091</td>\n",
       "      <td>62.0248</td>\n",
       "      <td>43.5868</td>\n",
       "      <td>4.9835</td>\n",
       "      <td>92</td>\n",
       "      <td>1964</td>\n",
       "    </tr>\n",
       "    <tr>\n",
       "      <th>4</th>\n",
       "      <td>1009.8208</td>\n",
       "      <td>1014.2183</td>\n",
       "      <td>1.5833</td>\n",
       "      <td>0.5333</td>\n",
       "      <td>0.2208</td>\n",
       "      <td>6.7992</td>\n",
       "      <td>11.2733</td>\n",
       "      <td>2.6267</td>\n",
       "      <td>53.0250</td>\n",
       "      <td>34.9917</td>\n",
       "      <td>6.6633</td>\n",
       "      <td>91</td>\n",
       "      <td>1965</td>\n",
       "    </tr>\n",
       "  </tbody>\n",
       "</table>\n",
       "</div>"
      ],
      "text/plain": [
       "   local pressure  sea pressure  total preci  hr1 preci  min10 preci  \\\n",
       "0       1014.5358     1015.2492       3.1017     0.9992       0.3058   \n",
       "1       1012.7275     1013.4400       2.0308     0.6017       0.2000   \n",
       "2       1012.3967     1013.1100       1.5358     0.4075       0.1175   \n",
       "3       1017.6661     1018.3777       3.3264     0.8893       0.2223   \n",
       "4       1009.8208     1014.2183       1.5833     0.5333       0.2208   \n",
       "\n",
       "   avg temp  max temp  min temp  avg humid  min humid  sun hours  bloom day  \\\n",
       "0    7.8333   13.1867    3.3633    56.7917    35.6917     6.4033         90   \n",
       "1    8.2167   13.6117    3.3400    55.0167    33.8167     6.6508         90   \n",
       "2    7.3908   12.8475    2.6150    55.4750    33.6583     6.8617         90   \n",
       "3    8.1273   12.5529    4.1091    62.0248    43.5868     4.9835         92   \n",
       "4    6.7992   11.2733    2.6267    53.0250    34.9917     6.6633         91   \n",
       "\n",
       "   year  \n",
       "0  1961  \n",
       "1  1962  \n",
       "2  1963  \n",
       "3  1964  \n",
       "4  1965  "
      ]
     },
     "execution_count": 43,
     "metadata": {
      "tags": []
     },
     "output_type": "execute_result"
    }
   ],
   "source": [
    "traindb.head()"
   ]
  },
  {
   "cell_type": "code",
   "execution_count": 0,
   "metadata": {
    "colab": {
     "base_uri": "https://localhost:8080/",
     "height": 206
    },
    "colab_type": "code",
    "executionInfo": {
     "elapsed": 356733,
     "status": "ok",
     "timestamp": 1551550116609,
     "user": {
      "displayName": "Tasnim Ahmed",
      "photoUrl": "https://lh5.googleusercontent.com/-_bXMSpk9fII/AAAAAAAAAAI/AAAAAAAAAOE/nghm7uaSFOo/s64/photo.jpg",
      "userId": "12044029492916722191"
     },
     "user_tz": 480
    },
    "id": "YaA5uqE16QSP",
    "outputId": "0459531d-46b5-4e7d-face-b3508d70b388"
   },
   "outputs": [
    {
     "data": {
      "text/html": [
       "<div>\n",
       "<style scoped>\n",
       "    .dataframe tbody tr th:only-of-type {\n",
       "        vertical-align: middle;\n",
       "    }\n",
       "\n",
       "    .dataframe tbody tr th {\n",
       "        vertical-align: top;\n",
       "    }\n",
       "\n",
       "    .dataframe thead th {\n",
       "        text-align: right;\n",
       "    }\n",
       "</style>\n",
       "<table border=\"1\" class=\"dataframe\">\n",
       "  <thead>\n",
       "    <tr style=\"text-align: right;\">\n",
       "      <th></th>\n",
       "      <th>local pressure</th>\n",
       "      <th>sea pressure</th>\n",
       "      <th>total preci</th>\n",
       "      <th>hr1 preci</th>\n",
       "      <th>min10 preci</th>\n",
       "      <th>avg temp</th>\n",
       "      <th>max temp</th>\n",
       "      <th>min temp</th>\n",
       "      <th>avg humid</th>\n",
       "      <th>min humid</th>\n",
       "      <th>sun hours</th>\n",
       "      <th>bloom day</th>\n",
       "      <th>year</th>\n",
       "    </tr>\n",
       "  </thead>\n",
       "  <tbody>\n",
       "    <tr>\n",
       "      <th>0</th>\n",
       "      <td>1009.5825</td>\n",
       "      <td>1013.9542</td>\n",
       "      <td>3.1600</td>\n",
       "      <td>1.0558</td>\n",
       "      <td>0.3342</td>\n",
       "      <td>8.7483</td>\n",
       "      <td>13.0767</td>\n",
       "      <td>4.4858</td>\n",
       "      <td>55.6833</td>\n",
       "      <td>38.0667</td>\n",
       "      <td>5.2367</td>\n",
       "      <td>78</td>\n",
       "      <td>1966</td>\n",
       "    </tr>\n",
       "    <tr>\n",
       "      <th>1</th>\n",
       "      <td>1010.9492</td>\n",
       "      <td>1015.3467</td>\n",
       "      <td>2.2625</td>\n",
       "      <td>0.6750</td>\n",
       "      <td>0.2250</td>\n",
       "      <td>8.2192</td>\n",
       "      <td>12.4325</td>\n",
       "      <td>4.2917</td>\n",
       "      <td>54.9500</td>\n",
       "      <td>36.7250</td>\n",
       "      <td>5.8192</td>\n",
       "      <td>88</td>\n",
       "      <td>1971</td>\n",
       "    </tr>\n",
       "    <tr>\n",
       "      <th>2</th>\n",
       "      <td>1012.2500</td>\n",
       "      <td>1016.6433</td>\n",
       "      <td>4.0208</td>\n",
       "      <td>1.0833</td>\n",
       "      <td>0.4042</td>\n",
       "      <td>8.1217</td>\n",
       "      <td>11.9217</td>\n",
       "      <td>4.6758</td>\n",
       "      <td>61.7750</td>\n",
       "      <td>43.2667</td>\n",
       "      <td>5.0992</td>\n",
       "      <td>92</td>\n",
       "      <td>1985</td>\n",
       "    </tr>\n",
       "    <tr>\n",
       "      <th>3</th>\n",
       "      <td>1010.1483</td>\n",
       "      <td>1014.5233</td>\n",
       "      <td>2.5167</td>\n",
       "      <td>0.8042</td>\n",
       "      <td>0.2458</td>\n",
       "      <td>8.9967</td>\n",
       "      <td>12.7792</td>\n",
       "      <td>5.3492</td>\n",
       "      <td>52.8333</td>\n",
       "      <td>34.4750</td>\n",
       "      <td>6.2283</td>\n",
       "      <td>89</td>\n",
       "      <td>1994</td>\n",
       "    </tr>\n",
       "    <tr>\n",
       "      <th>4</th>\n",
       "      <td>1011.2512</td>\n",
       "      <td>1015.7050</td>\n",
       "      <td>3.5868</td>\n",
       "      <td>1.0248</td>\n",
       "      <td>0.3471</td>\n",
       "      <td>9.2132</td>\n",
       "      <td>13.0702</td>\n",
       "      <td>5.8116</td>\n",
       "      <td>49.3058</td>\n",
       "      <td>31.2975</td>\n",
       "      <td>5.9240</td>\n",
       "      <td>81</td>\n",
       "      <td>2008</td>\n",
       "    </tr>\n",
       "  </tbody>\n",
       "</table>\n",
       "</div>"
      ],
      "text/plain": [
       "   local pressure  sea pressure  total preci  hr1 preci  min10 preci  \\\n",
       "0       1009.5825     1013.9542       3.1600     1.0558       0.3342   \n",
       "1       1010.9492     1015.3467       2.2625     0.6750       0.2250   \n",
       "2       1012.2500     1016.6433       4.0208     1.0833       0.4042   \n",
       "3       1010.1483     1014.5233       2.5167     0.8042       0.2458   \n",
       "4       1011.2512     1015.7050       3.5868     1.0248       0.3471   \n",
       "\n",
       "   avg temp  max temp  min temp  avg humid  min humid  sun hours  bloom day  \\\n",
       "0    8.7483   13.0767    4.4858    55.6833    38.0667     5.2367         78   \n",
       "1    8.2192   12.4325    4.2917    54.9500    36.7250     5.8192         88   \n",
       "2    8.1217   11.9217    4.6758    61.7750    43.2667     5.0992         92   \n",
       "3    8.9967   12.7792    5.3492    52.8333    34.4750     6.2283         89   \n",
       "4    9.2132   13.0702    5.8116    49.3058    31.2975     5.9240         81   \n",
       "\n",
       "   year  \n",
       "0  1966  \n",
       "1  1971  \n",
       "2  1985  \n",
       "3  1994  \n",
       "4  2008  "
      ]
     },
     "execution_count": 44,
     "metadata": {
      "tags": []
     },
     "output_type": "execute_result"
    }
   ],
   "source": [
    "testdb"
   ]
  },
  {
   "cell_type": "markdown",
   "metadata": {
    "colab_type": "text",
    "id": "Hf5TTVaTvsKg"
   },
   "source": [
    "###ANN model from scratch using Tensorflow "
   ]
  },
  {
   "cell_type": "markdown",
   "metadata": {
    "colab_type": "text",
    "id": "GumGvzLbcOnD"
   },
   "source": [
    "###12.1 Importing"
   ]
  },
  {
   "cell_type": "code",
   "execution_count": 0,
   "metadata": {
    "colab": {},
    "colab_type": "code",
    "collapsed": true,
    "id": "0IAxdVyfcOnQ"
   },
   "outputs": [],
   "source": [
    "import csv\n",
    "import pandas as pd\n",
    "import tensorflow as tf\n",
    "import numpy as np\n",
    "import matplotlib.pyplot as plt\n",
    "import numpy as np\n",
    "from sklearn.model_selection import train_test_split\n",
    "from sklearn import preprocessing\n",
    "from sklearn.model_selection import ParameterGrid\n",
    "\n",
    "# To avoid watching warnings for TensorFlow:\n",
    "import logging\n",
    "def keep_every_nth_info(n):\n",
    "    i = -1\n",
    "    def filter_record(record):\n",
    "        nonlocal i\n",
    "        i += 1\n",
    "        return int( i % n == 15)\n",
    "    return filter_record\n",
    "logging.getLogger('tensorflow').addFilter(keep_every_nth_info(15))\n",
    "zero = 0"
   ]
  },
  {
   "cell_type": "markdown",
   "metadata": {
    "colab_type": "text",
    "id": "LYwd0hKhcOnm"
   },
   "source": [
    "###12.2 Functions to load and process data\n",
    "\n"
   ]
  },
  {
   "cell_type": "markdown",
   "metadata": {
    "colab_type": "text",
    "id": "OhfSCmo0cOnr"
   },
   "source": [
    "<p> Load-data function loads the already processed data for ANN and shows its shape. And the Pre-process-data function is created to do one-hot encoding of categorical columns. Though we have already created dummies...this is Just to be sure. If there is any column left that still containing string...we will one-hot encode it.</p>"
   ]
  },
  {
   "cell_type": "code",
   "execution_count": 0,
   "metadata": {
    "colab": {},
    "colab_type": "code",
    "collapsed": true,
    "id": "m9hdDmu1cOnw"
   },
   "outputs": [],
   "source": [
    "def load_data(train_path, test_path):\n",
    "    train_data = train_path\n",
    "    test_data = test_path\n",
    "    print(\"number of training examples = \" + str(train_data.shape[zero]))\n",
    "    print(\"number of test examples = \" + str(test_data.shape[zero]))\n",
    "    print(\"train shape: \" + str(train_data.shape))\n",
    "    print(\"test shape: \" + str(test_data.shape))\n",
    "    return train_data, test_data\n",
    "  \n",
    "def pre_process_data(df):\n",
    "    # one-hot encode categorical values\n",
    "    df = pd.get_dummies(df)\n",
    "    return df"
   ]
  },
  {
   "cell_type": "markdown",
   "metadata": {
    "colab_type": "text",
    "id": "MUP1YzD6cOn8"
   },
   "source": [
    "###12.3 Function to Create Mini-batches\n",
    "\n",
    "```\n",
    "# We will make a function to create mini-batches from train dataset\n",
    "```\n",
    "\n"
   ]
  },
  {
   "cell_type": "markdown",
   "metadata": {
    "colab_type": "text",
    "id": "t3Kvf8xmcOoC"
   },
   "source": [
    "\n",
    "\n",
    "```\n",
    "# Parameter description:\n",
    "    :param train_set: data set with the examples\n",
    "    :param train_labels: data set with the labels\n",
    "    :param mini_batch_size: mini batch size\n",
    "    :return: mini batches\n",
    "```\n",
    "\n"
   ]
  },
  {
   "cell_type": "code",
   "execution_count": 0,
   "metadata": {
    "colab": {},
    "colab_type": "code",
    "collapsed": true,
    "id": "WtibauXGcOoG"
   },
   "outputs": [],
   "source": [
    "def mini_batches(train_set, train_labels, mini_batch_size):\n",
    "    \n",
    "    set_size = train_set.shape[zero]\n",
    "    batches = []\n",
    "    num_complete_minibatches = set_size // mini_batch_size\n",
    "\n",
    "    for k in range(zero, num_complete_minibatches):\n",
    "        mini_batch_x = train_set[k * mini_batch_size: (k + 1) * mini_batch_size]\n",
    "        mini_batch_y = train_labels[k * mini_batch_size: (k + 1) * mini_batch_size]\n",
    "        mini_batch = (mini_batch_x, mini_batch_y)\n",
    "        batches.append(mini_batch)\n",
    "\n",
    "    if set_size % mini_batch_size != zero:\n",
    "        mini_batch_x = train_set[(set_size - (set_size % mini_batch_size)):]\n",
    "        mini_batch_y = train_labels[(set_size - (set_size % mini_batch_size)):]\n",
    "        mini_batch = (mini_batch_x, mini_batch_y)\n",
    "        batches.append(mini_batch)\n",
    "\n",
    "    return batches"
   ]
  },
  {
   "cell_type": "markdown",
   "metadata": {
    "colab_type": "text",
    "id": "TqZemglWcOoQ"
   },
   "source": [
    "###12.4 Mathematical Functions"
   ]
  },
  {
   "cell_type": "markdown",
   "metadata": {
    "colab_type": "text",
    "id": "AENCvWnYcOoU"
   },
   "source": [
    "####12.4.1 Place-holder "
   ]
  },
  {
   "cell_type": "markdown",
   "metadata": {
    "colab_type": "text",
    "id": "ZDpX1lyTcOoa"
   },
   "source": [
    "\n",
    "\n",
    "```\n",
    "# Parameter descriptions:\n",
    "Function-Name: place-holders\n",
    "Creates the placeholders for the tensorflow session.\n",
    "    :param input_size: scalar, input size\n",
    "    :param output_size: scalar, output size\n",
    "    :return: X  placeholder for the data input, of shape [None, input_size] and dtype \"float\"\n",
    "    :return: Y placeholder for the input labels, of shape [None, output_size] and dtype \"float\"\n",
    "```\n",
    "\n"
   ]
  },
  {
   "cell_type": "code",
   "execution_count": 0,
   "metadata": {
    "colab": {},
    "colab_type": "code",
    "collapsed": true,
    "id": "UchOGmrZcOoe"
   },
   "outputs": [],
   "source": [
    "def create_placeholders(input_size, output_size):\n",
    "\n",
    "    x = tf.placeholder(shape=(None, input_size), dtype=tf.float32, name=\"X\")\n",
    "    y = tf.placeholder(shape=(None, output_size), dtype=tf.float32, name=\"Y\")\n",
    "\n",
    "    return x, y"
   ]
  },
  {
   "cell_type": "markdown",
   "metadata": {
    "colab_type": "text",
    "id": "a841w7Q6cOoq"
   },
   "source": [
    "####12.4.2 Forward-propagation"
   ]
  },
  {
   "cell_type": "markdown",
   "metadata": {
    "colab_type": "text",
    "id": "pJrnKPjocOou"
   },
   "source": [
    "\n",
    "\n",
    "```\n",
    "# Function-Name: forward-propagation\n",
    "Implement forward propagation with dropout for the [LINEAR->RELU]*(L-1)->LINEAR-> computation\n",
    "    :param x: data, pandas array of shape (input size, number of examples)\n",
    "    :param parameters: output of initialize_parameters()\n",
    "    :param keep_prob: probability to keep each node of the layer\n",
    "    :param hidden_activation: activation function of the hidden layers\n",
    "    :return: last LINEAR value\n",
    "```\n",
    "\n"
   ]
  },
  {
   "cell_type": "code",
   "execution_count": 0,
   "metadata": {
    "colab": {},
    "colab_type": "code",
    "collapsed": true,
    "id": "Bb43Vg3NcOoz"
   },
   "outputs": [],
   "source": [
    "def forward_propagation(x, parameters, keep_prob=1, hidden_activation='relu'):\n",
    "\n",
    "    a_dropout = x\n",
    "    n_layers = len(parameters) // 2  # number of layers in the neural network\n",
    "\n",
    "    for l in range(1, n_layers):\n",
    "        a_prev = a_dropout\n",
    "        a_dropout = linear_activation_forward(a_prev, parameters['w%s' % l], \n",
    "                                              parameters['b%s' % l], hidden_activation)\n",
    "\n",
    "        if keep_prob < 1:\n",
    "            a_dropout = tf.nn.dropout(a_dropout, keep_prob)\n",
    "\n",
    "    al = tf.matmul(a_dropout, parameters['w%s' % n_layers]) + parameters['b%s' % n_layers]\n",
    "\n",
    "    return al"
   ]
  },
  {
   "cell_type": "markdown",
   "metadata": {
    "colab_type": "text",
    "id": "HfGJ8p_CcOo9"
   },
   "source": [
    "####12.4.3  Linear Activation Function"
   ]
  },
  {
   "cell_type": "markdown",
   "metadata": {
    "colab_type": "text",
    "id": "9VA_Z848cOpA"
   },
   "source": [
    "\n",
    "\n",
    "```\n",
    "# Function-Name: linear-activation-forward    \n",
    "Implement the forward propagation for the LINEAR->ACTIVATION layer\n",
    "    :param a_prev: activations from previous layer (or input data): (size of previous layer, number of examples)\n",
    "    :param w: weights matrix: numpy array of shape (size of current layer, size of previous layer)\n",
    "    :param b: bias vector, numpy array of shape (size of the current layer, 1)\n",
    "    :param activation: the activation to be used in this layer, stored as a text string: 'sigmoid' or 'relu'\n",
    "    :return: the output of the activation function, also called the post-activation value\n",
    "```\n",
    "\n"
   ]
  },
  {
   "cell_type": "code",
   "execution_count": 0,
   "metadata": {
    "colab": {},
    "colab_type": "code",
    "collapsed": true,
    "id": "FVEonwtccOpF"
   },
   "outputs": [],
   "source": [
    "def linear_activation_forward(a_prev, w, b, activation):\n",
    "    \n",
    "    a = None\n",
    "    if activation == \"sigmoid\":\n",
    "        z = tf.matmul(a_prev, w) + b\n",
    "        a = tf.nn.sigmoid(z)\n",
    "\n",
    "    elif activation == \"relu\":\n",
    "        z = tf.matmul(a_prev, w) + b\n",
    "        a = tf.nn.relu(z)\n",
    "\n",
    "    elif activation == \"leaky-relu\":\n",
    "        z = tf.matmul(a_prev, w) + b\n",
    "        a = tf.nn.leaky_relu(z)\n",
    "\n",
    "    return a"
   ]
  },
  {
   "cell_type": "markdown",
   "metadata": {
    "colab_type": "text",
    "id": "58ddp5l5cOpY"
   },
   "source": [
    "####12.4.4 Prameter-Initialization"
   ]
  },
  {
   "cell_type": "markdown",
   "metadata": {
    "colab_type": "text",
    "id": "sXMVNobrcOpc"
   },
   "source": [
    "\n",
    "\n",
    "```\n",
    "# Function-Name: initialize_parameters\n",
    "    :param layer_dims: python array (list) containing the dimensions of each layer in our network\n",
    "    :return: python dictionary containing your parameters: w1, b1, ..., wn ,bn:\n",
    "                    Wl -- weight matrix of shape (layer_dims[l], layer_dims[l-1])\n",
    "                    bl -- bias vector of shape (layer_dims[l], 1)\n",
    "```\n",
    "\n"
   ]
  },
  {
   "cell_type": "code",
   "execution_count": 0,
   "metadata": {
    "colab": {},
    "colab_type": "code",
    "collapsed": true,
    "id": "2OS93OVecOpf"
   },
   "outputs": [],
   "source": [
    "#Function for parameter initialization\n",
    "def initialize_parameters(layer_dims, weight_initializer):\n",
    "\n",
    "    parameters = {}\n",
    "    n_layers = len(layer_dims) \n",
    "    \n",
    "    for l in range(1, n_layers):\n",
    "        if(weight_initializer == 'random-normal'):\n",
    "            parameters['w' + str(l)] = tf.get_variable('w' + str(l), [layer_dims[l - 1], layer_dims[l]],\n",
    "                                                   initializer = tf.random_normal_initializer)\n",
    "        else:\n",
    "            parameters['w' + str(l)] = tf.get_variable('w' + str(l), [layer_dims[l - 1], layer_dims[l]],\n",
    "                                                   initializer = tf.contrib.layers.xavier_initializer())\n",
    "        parameters['b' + str(l)] = tf.get_variable('b' + str(l), [layer_dims[l]], \n",
    "                                                   initializer=tf.zeros_initializer())\n",
    "\n",
    "    return parameters"
   ]
  },
  {
   "cell_type": "markdown",
   "metadata": {
    "colab_type": "text",
    "id": "Pz2vuXKwcOpm"
   },
   "source": [
    "####12.4.5 Cost-computation"
   ]
  },
  {
   "cell_type": "markdown",
   "metadata": {
    "colab_type": "text",
    "id": "4VwZW-mRcOps"
   },
   "source": [
    "\n",
    "\n",
    "```\n",
    "# Function-Name: Compute-cost\n",
    "    :param z3: output of forward propagation (output of the last LINEAR unit)\n",
    "    :param y: \"true\" labels vector placeholder, same shape as Z3\n",
    "    :return: Tensor of the cost function (RMSE as it is a regression)\n",
    "```\n",
    "\n"
   ]
  },
  {
   "cell_type": "code",
   "execution_count": 0,
   "metadata": {
    "colab": {},
    "colab_type": "code",
    "collapsed": true,
    "id": "IxacyNU7cOpw"
   },
   "outputs": [],
   "source": [
    "#Defining how to compute cost-function\n",
    "def compute_cost(z3, y):\n",
    "    \n",
    "    cost = tf.sqrt(tf.reduce_mean(tf.square(y - z3)))\n",
    "\n",
    "    return cost"
   ]
  },
  {
   "cell_type": "markdown",
   "metadata": {
    "colab_type": "text",
    "id": "K4wE_aWZcOp8"
   },
   "source": [
    "####12.4.6 Prediction"
   ]
  },
  {
   "cell_type": "markdown",
   "metadata": {
    "colab_type": "text",
    "id": "h3y1WdtOcOp_"
   },
   "source": [
    "\n",
    "\n",
    "```\n",
    "# Function-Name: predict\n",
    "make a prediction based on a data set and parameters\n",
    "    :param data: based data set\n",
    "    :param parameters: based parameters\n",
    "    :return: array of predictions\n",
    "```\n",
    "\n"
   ]
  },
  {
   "cell_type": "code",
   "execution_count": 0,
   "metadata": {
    "colab": {},
    "colab_type": "code",
    "collapsed": true,
    "id": "-1vtfOzncOqB"
   },
   "outputs": [],
   "source": [
    "#A function to provide prediction\n",
    "def predict(data, parameters):\n",
    "\n",
    "    init = tf.global_variables_initializer()\n",
    "    with tf.Session() as sess:\n",
    "        sess.run(init)\n",
    "\n",
    "        dataset = tf.cast(tf.constant(data), tf.float32)\n",
    "        fw_prop_result = forward_propagation(dataset, parameters)\n",
    "        prediction = fw_prop_result.eval()\n",
    "\n",
    "    return prediction"
   ]
  },
  {
   "cell_type": "markdown",
   "metadata": {
    "colab_type": "text",
    "id": "CpLv9pSxcOqN"
   },
   "source": [
    "####12.4.7 RMS and Log-RMS Calculation"
   ]
  },
  {
   "cell_type": "markdown",
   "metadata": {
    "colab_type": "text",
    "id": "C133rQGucOqP"
   },
   "source": [
    "\n",
    "\n",
    "```\n",
    "# Function-Name: rmse and Function-name: rmsle\n",
    "calculate cost between two data sets\n",
    "    :param predictions: data set of predictions\n",
    "    :param labels: data set of labels (real values)\n",
    "    :return: percentage of correct predictions\n",
    "```\n",
    "\n"
   ]
  },
  {
   "cell_type": "code",
   "execution_count": 0,
   "metadata": {
    "colab": {},
    "colab_type": "code",
    "collapsed": true,
    "id": "WRl4D1jNcOqT"
   },
   "outputs": [],
   "source": [
    "#Function to calculate Root-Mean-Square-Error: RMS error\n",
    "def rmse(predictions, labels):\n",
    "\n",
    "    prediction_size = predictions.shape[zero]\n",
    "    prediction_cost = np.sqrt(np.sum(np.square(labels - predictions)) / prediction_size)\n",
    "\n",
    "    return prediction_cost\n",
    "\n",
    "#Function to calculate RMS logarithmic error\n",
    "def rmsle(predictions, labels):\n",
    "\n",
    "    prediction_size = predictions.shape[zero]\n",
    "    prediction_cost = np.sqrt(np.sum(np.square(np.log(predictions + 1) - np.log(labels + 1))) / prediction_size)\n",
    "\n",
    "    return prediction_cost"
   ]
  },
  {
   "cell_type": "markdown",
   "metadata": {
    "colab_type": "text",
    "id": "tr1pabKtcOqh"
   },
   "source": [
    "####12.4.8 L2 Regularization"
   ]
  },
  {
   "cell_type": "markdown",
   "metadata": {
    "colab_type": "text",
    "id": "RnrYZkLNcOqk"
   },
   "source": [
    "\n",
    "\n",
    "```\n",
    "# Function-name: L2 Regularizer\n",
    "Function to apply l2 regularization to the model\n",
    "    :param cost: usual cost of the model\n",
    "    :param l2_beta: beta value used for the normalization\n",
    "    :param parameters: parameters from the model (used to get weights values)\n",
    "    :param n_layers: number of layers of the model\n",
    "    :return: cost updated\n",
    "```\n",
    "\n"
   ]
  },
  {
   "cell_type": "code",
   "execution_count": 0,
   "metadata": {
    "colab": {},
    "colab_type": "code",
    "collapsed": true,
    "id": "EAdZ2NcGcOqm"
   },
   "outputs": [],
   "source": [
    "#Defining a function for L2-regularization\n",
    "def l2_regularizer(cost, l2_beta, parameters, n_layers):\n",
    "\n",
    "    regularizer = zero\n",
    "    for i in range(1, n_layers):\n",
    "        regularizer += tf.nn.l2_loss(parameters['w%s' % i])\n",
    "\n",
    "    cost = tf.reduce_mean(cost + l2_beta * regularizer)\n",
    "\n",
    "    return cost"
   ]
  },
  {
   "cell_type": "markdown",
   "metadata": {
    "colab_type": "text",
    "id": "OZ05ej1NcOqy"
   },
   "source": [
    "###12.5 Functions to Generate Output"
   ]
  },
  {
   "cell_type": "markdown",
   "metadata": {
    "colab_type": "text",
    "id": "m8kMYVY4cOq2"
   },
   "source": [
    "####12.5.1 Generate Kaggle-Submission File"
   ]
  },
  {
   "cell_type": "markdown",
   "metadata": {
    "colab_type": "text",
    "id": "tbP2wHBtcOq5"
   },
   "source": [
    "\n",
    "\n",
    "```\n",
    "# Parameter description:\n",
    "    :param test_ids: vector with test dataset ids\n",
    "    :param predictions: vector with test dataset predictions\n",
    "    :param id_column: name of the output id column\n",
    "    :param predction_column: name of the output predction column\n",
    "    :param file_name: string for the output file name\n",
    "    :return: output a csv with ids ands predictions\n",
    "```\n",
    "\n"
   ]
  },
  {
   "cell_type": "code",
   "execution_count": 0,
   "metadata": {
    "colab": {},
    "colab_type": "code",
    "collapsed": true,
    "id": "c25FG8JFcOq6"
   },
   "outputs": [],
   "source": [
    "def output_submission(test_ids, predictions, id_column, predction_column, file_name):\n",
    "\n",
    "    print('Preparing submission file...')\n",
    "    with open('/content/drive/My Drive/housePrice/hpdb/' + file_name, 'w') as submission:\n",
    "        writer = csv.writer(submission)\n",
    "        writer.writerow([id_column, predction_column])\n",
    "        for test_id, test_prediction in zip(test_ids, predictions):\n",
    "            writer.writerow([test_id, test_prediction])\n",
    "    print('File Ready')"
   ]
  },
  {
   "cell_type": "markdown",
   "metadata": {
    "colab_type": "text",
    "id": "D-7S2W0VcOrF"
   },
   "source": [
    "####12.5.2 Generate Submission-File Name"
   ]
  },
  {
   "cell_type": "markdown",
   "metadata": {
    "colab_type": "text",
    "id": "lqChWwJGcOrT"
   },
   "source": [
    "\n",
    "\n",
    "```\n",
    "# builds a string (submission file name), based on the model parameters\n",
    "    :param layers_dims: model layers dimensions\n",
    "    :param num_epochs: model number of epochs\n",
    "    :param lr_decay: model learning rate decay\n",
    "    :param learning_rate: model learning rate\n",
    "    :param l2_beta: beta used on l2 normalization\n",
    "    :param keep_prob: keep probability used on dropout normalization\n",
    "    :param minibatch_size: model mini batch size (0 to do not use mini batches)\n",
    "    :param num_examples: number of model examples (training data)\n",
    "    :return: built string\n",
    "```\n",
    "\n"
   ]
  },
  {
   "cell_type": "code",
   "execution_count": 0,
   "metadata": {
    "colab": {},
    "colab_type": "code",
    "collapsed": true,
    "id": "g0CpyhCvcOrZ"
   },
   "outputs": [],
   "source": [
    "def build_submission_name(layers_dims, num_epochs, lr_decay,\n",
    "                          learning_rate, l2_beta, keep_prob, minibatch_size, num_examples):\n",
    "    \n",
    "    submission_name = 'ly{}-epoch{}.csv' \\\n",
    "        .format(layers_dims, num_epochs)\n",
    "\n",
    "    if lr_decay != zero:\n",
    "        submission_name = 'lrdc{}-'.format(lr_decay) + submission_name\n",
    "    else:\n",
    "        submission_name = 'lr{}-'.format(learning_rate) + submission_name\n",
    "\n",
    "    if l2_beta > zero:\n",
    "        submission_name = 'l2{}-'.format(l2_beta) + submission_name\n",
    "\n",
    "    if keep_prob < 1:\n",
    "        submission_name = 'dk{}-'.format(keep_prob) + submission_name\n",
    "\n",
    "    if minibatch_size != num_examples:\n",
    "        submission_name = 'mb{}-'.format(minibatch_size) + submission_name\n",
    "\n",
    "    return submission_name"
   ]
  },
  {
   "cell_type": "markdown",
   "metadata": {
    "colab_type": "text",
    "id": "yqhHb-rwcOrp"
   },
   "source": [
    "####12.5.3 Plot Model Costs\n",
    "\n",
    "```\n",
    "# We will define a function to plot both train and validation costs after each 10 iterations\n",
    "```\n",
    "\n"
   ]
  },
  {
   "cell_type": "markdown",
   "metadata": {
    "colab_type": "text",
    "id": "Cl-luMYNcOrv"
   },
   "source": [
    "\n",
    "\n",
    "```\n",
    "# Parameter descriptions-\n",
    "    :param train_costs: array with the costs from the model training\n",
    "    :param validation_costs: array with the costs from the model validation\n",
    "    :param submission_name: name of the submission (used for the plot title)\n",
    "    :return: Figure\n",
    "```\n",
    "\n"
   ]
  },
  {
   "cell_type": "code",
   "execution_count": 0,
   "metadata": {
    "colab": {},
    "colab_type": "code",
    "collapsed": true,
    "id": "cQPv4YWTcOry"
   },
   "outputs": [],
   "source": [
    "def plot_model_cost(train_costs, validation_costs, set_optimizer, weight_initializer, hidden_activation):\n",
    "    plt.subplots(figsize=(8, 6))\n",
    "    plt.plot(np.squeeze(train_costs), label='Train cost')\n",
    "    plt.plot(np.squeeze(validation_costs), label='Validation cost')\n",
    "    plt.ylabel('cost')\n",
    "    plt.xlabel('iterations (per tens)')\n",
    "    plt.title('Optimizer: '+set_optimizer+' |  Weight-initializer: '+ weight_initializer+' | Activation: '+hidden_activation)\n",
    "    plt.legend()\n",
    "    plt.show()"
   ]
  },
  {
   "cell_type": "code",
   "execution_count": 0,
   "metadata": {
    "colab": {},
    "colab_type": "code",
    "collapsed": true,
    "id": "u5Q3fyWPcOsB"
   },
   "outputs": [],
   "source": [
    "def plot_prediction(validation_labels, prediction):\n",
    "    fig, ax = plt.subplots(figsize=(8, 6))\n",
    "    plt.style.use('ggplot')\n",
    "    plt.plot(prediction, validation_labels, 'ro')\n",
    "    ax.plot([min(validation_labels), max(validation_labels)], [min(validation_labels), max(validation_labels)], 'k--', lw=4)\n",
    "    plt.xlabel('Predictions')\n",
    "    plt.ylabel('Reality')\n",
    "    plt.title('Predictions vs Reality on dataset Test')\n",
    "    plt.show()  "
   ]
  },
  {
   "cell_type": "markdown",
   "metadata": {
    "colab_type": "text",
    "id": "nDCyv6fQzr0Y"
   },
   "source": [
    "###12.6 The ANN Model"
   ]
  },
  {
   "cell_type": "markdown",
   "metadata": {
    "colab_type": "text",
    "id": "CdxpprVfzr0l"
   },
   "source": [
    "\n",
    "\n",
    "```\n",
    "# Parameter Descriptions-\n",
    ":param train_set: training set\n",
    "    :param train_labels: training labels\n",
    "    :param validation_set: validation set\n",
    "    :param validation_labels: validation labels\n",
    "    :param layers_dims: array with the layer for the model\n",
    "    :param learning_rate: learning rate of the optimization\n",
    "    :param num_epochs: number of epochs of the optimization loop\n",
    "    :param print_cost: True to print the cost every 500 epochs\n",
    "    :param plot_cost: True to plot the train and validation cost\n",
    "    :param l2_beta: beta parameter for the l2 regularization\n",
    "    :param keep_prob: probability to keep each node of each hidden layer (dropout)\n",
    "    :param hidden_activation: activation function to be used on the hidden layers\n",
    "    :param return_best: True to return the highest params from all epochs\n",
    "    :param minibatch_size: size of th mini batch\n",
    "    :param lr_decay: if != 0, sets de learning rate decay on each epoch\n",
    "    :return parameters: parameters learnt by the model. They can then be used to predict.\n",
    "    :return submission_name: name for the trained model\n",
    "```\n",
    "\n"
   ]
  },
  {
   "cell_type": "markdown",
   "metadata": {
    "colab_type": "text",
    "id": "j5Wfy3r_zr0u"
   },
   "source": [
    "####12.6.0 Variable Initializer\n",
    "\n",
    "```\n",
    "# Initialize variables \n",
    "```\n",
    "\n"
   ]
  },
  {
   "cell_type": "code",
   "execution_count": 0,
   "metadata": {
    "colab": {},
    "colab_type": "code",
    "collapsed": true,
    "id": "mAGZct5lzr0z"
   },
   "outputs": [],
   "source": [
    "def ann_init(layers_dims,train_set):\n",
    "    input_size = layers_dims[zero]\n",
    "    output_size = layers_dims[-1]\n",
    "    num_examples = train_set.shape[zero]\n",
    "    n_layers = len(layers_dims)\n",
    "    train_costs = []\n",
    "    validation_costs = []\n",
    "    best_iteration = [float('inf'), zero]\n",
    "    best_params = None\n",
    "    return input_size,output_size,num_examples,n_layers,train_costs,validation_costs,best_iteration,best_params"
   ]
  },
  {
   "cell_type": "markdown",
   "metadata": {
    "colab_type": "text",
    "id": "cWOET5vazr1C"
   },
   "source": [
    "####12.6.1 Optimizer Tunner\n",
    "\n",
    "\n",
    "```\n",
    "# #A function to tune optimizer using cost and learning-rate\n",
    "```\n",
    "\n"
   ]
  },
  {
   "cell_type": "code",
   "execution_count": 0,
   "metadata": {
    "colab": {},
    "colab_type": "code",
    "collapsed": true,
    "id": "QSYUSuP-zr1J"
   },
   "outputs": [],
   "source": [
    " def opt_tunning(l2_beta, train_cost, parameters, n_layers, validation_cost,\n",
    "                      lr_decay, learning_rate,set_optimizer):\n",
    "    if l2_beta > zero:\n",
    "        train_cost = l2_regularizer(train_cost, l2_beta, parameters, n_layers)\n",
    "        validation_cost = l2_regularizer(validation_cost, l2_beta, parameters, n_layers)\n",
    "\n",
    "    if lr_decay != zero:\n",
    "        global_step = tf.Variable(zero, trainable=False)\n",
    "        learning_rate = tf.train.inverse_time_decay(learning_rate, global_step=global_step, decay_rate=lr_decay,\n",
    "                                                    decay_steps=1)\n",
    "        if(set_optimizer == 'adam'):\n",
    "            optimizer = tf.train.AdamOptimizer(learning_rate).minimize(train_cost, global_step=global_step)\n",
    "        else:\n",
    "            optimizer = tf.train.RMSPropOptimizer(learning_rate).minimize(train_cost, global_step=global_step)\n",
    "          \n",
    "    else:\n",
    "        if(set_optimizer == 'adam'):\n",
    "            optimizer = tf.train.AdamOptimizer(learning_rate).minimize(train_cost)\n",
    "        else:\n",
    "            optimizer = tf.train.RMSPropOptimizer(learning_rate).minimize(train_cost)\n",
    "        \n",
    "    return train_cost, validation_cost, learning_rate, optimizer    "
   ]
  },
  {
   "cell_type": "markdown",
   "metadata": {
    "colab_type": "text",
    "id": "sPh3_LJzzr1U"
   },
   "source": [
    "####12.6.2 Cost Printer\n",
    "\n",
    "\n",
    "```\n",
    "# A function to print costs after certain number of epochs\n",
    "```\n",
    "\n"
   ]
  },
  {
   "cell_type": "code",
   "execution_count": 0,
   "metadata": {
    "colab": {},
    "colab_type": "code",
    "collapsed": true,
    "id": "fkm6bkSEzr1Z"
   },
   "outputs": [],
   "source": [
    "def cost_printing(print_cost, epoch, train_epoch_cost, plot_cost,\n",
    "               validation_epoch_cost, train_costs, validation_costs):\n",
    "    if print_cost is True and epoch % (998) == zero:\n",
    "        print(\"Train cost after epoch %i: %f\" % (epoch, train_epoch_cost))\n",
    "        print(\"Validation cost after epoch %i: %f\" % (epoch, validation_epoch_cost))\n",
    "\n",
    "    if plot_cost is True and epoch % 9 == zero:\n",
    "        train_costs.append(train_epoch_cost)\n",
    "        validation_costs.append(validation_epoch_cost)\n",
    "\n",
    "    return train_costs, validation_costs"
   ]
  },
  {
   "cell_type": "markdown",
   "metadata": {
    "colab_type": "text",
    "id": "1Xxv5STczr1l"
   },
   "source": [
    "####12.6.3 All Loss Calculator\n",
    "\n",
    "\n",
    "```\n",
    "# A function to calculate all kinds of losses\n",
    "```\n",
    "\n"
   ]
  },
  {
   "cell_type": "code",
   "execution_count": 0,
   "metadata": {
    "colab": {},
    "colab_type": "code",
    "collapsed": true,
    "id": "HtYy1cwczr1r"
   },
   "outputs": [],
   "source": [
    "def all_loss(train_set, parameters,train_labels,validation_set,validation_labels,show_result):\n",
    "    train_rmse = rmse(predict(train_set, parameters), train_labels)\n",
    "    validation_rmse = rmse(predict(validation_set, parameters), validation_labels)\n",
    "    train_rmsle = rmsle(predict(train_set, parameters), train_labels)\n",
    "    validation_rmsle = rmsle(predict(validation_set, parameters), validation_labels)\n",
    "    if show_result is True:\n",
    "        print('Train RMS error: {:.4f}'.format(train_rmse))\n",
    "        print('Validation RMS error: {:.4f}'.format(validation_rmse))\n",
    "        print('Train RMS Log error: {:.4f}'.format(train_rmsle))\n",
    "        print('Validation RMS Log error: {:.4f}'.format(validation_rmsle))\n",
    "\n",
    "    return train_rmse,validation_rmse,train_rmsle,validation_rmsle"
   ]
  },
  {
   "cell_type": "markdown",
   "metadata": {
    "colab_type": "text",
    "id": "UBPsw_kZzr1-"
   },
   "source": [
    "####12.6.4 Process Data & Make Validation set\n",
    "\n",
    "<p>In this section we will process the train-data further. Though we have already competed the feature-engineering portion, now we will just check whether there is any scope to create more dummies or not and then we will separate the validation dataset which is 30% of the train-db. The vilidation-db will be used to check the efficiency of the network.</p>"
   ]
  },
  {
   "cell_type": "code",
   "execution_count": 0,
   "metadata": {
    "colab": {
     "base_uri": "https://localhost:8080/",
     "height": 90
    },
    "colab_type": "code",
    "executionInfo": {
     "elapsed": 357944,
     "status": "ok",
     "timestamp": 1551550117932,
     "user": {
      "displayName": "Tasnim Ahmed",
      "photoUrl": "https://lh5.googleusercontent.com/-_bXMSpk9fII/AAAAAAAAAAI/AAAAAAAAAOE/nghm7uaSFOo/s64/photo.jpg",
      "userId": "12044029492916722191"
     },
     "user_tz": 480
    },
    "id": "v0PegBUfzr2G",
    "outputId": "a2d76622-f8cd-4666-f9de-010c6861e8a4"
   },
   "outputs": [
    {
     "name": "stdout",
     "output_type": "stream",
     "text": [
      "number of training examples = 51\n",
      "number of test examples = 5\n",
      "train shape: (51, 13)\n",
      "test shape: (5, 13)\n"
     ]
    }
   ],
   "source": [
    "#Getting train and test datasets\n",
    "train, test = load_data(traindb, testdb)\n",
    "\n",
    "#Saparating Label: SalePrice column\n",
    "train_raw_labels = train['bloom day'].to_frame().as_matrix()\n",
    "test_raw_labels = test['bloom day'].to_frame().as_matrix()\n",
    "\n",
    "#Preprocess data by creating dummies: one-hot encoding\n",
    "train_pre = pre_process_data(train)\n",
    "test_pre = pre_process_data(test)\n",
    "\n",
    "train_pre = train_pre.drop(['bloom day'], axis=1)\n",
    "test_pre = test_pre.drop(['bloom day'], axis=1)\n",
    "\n",
    "#Join train and test DB\n",
    "train_pre, test_pre = train_pre.align(test_pre, join='outer', axis=1)\n",
    "\n",
    "#Replace all missing-values(if still any) with Zero\n",
    "train_pre.replace(to_replace=np.nan, value=zero, inplace=True)\n",
    "test_pre.replace(to_replace=np.nan, value=zero, inplace=True)\n",
    "\n",
    "#Creating matrix from train and test data\n",
    "train_pre = train_pre.as_matrix().astype(np.float)\n",
    "test_pre = test_pre.as_matrix().astype(np.float)\n",
    "\n",
    "#Scale data using Standard-Scaler\n",
    "standard_scaler = preprocessing.StandardScaler()\n",
    "train_pre = standard_scaler.fit_transform(train_pre)\n",
    "test_pre = standard_scaler.fit_transform(test_pre)\n",
    "\n",
    "#Creating separate validation dataset (35% of the train-db)\n",
    "train_set, validation_set, train_label, validation_label = train_test_split(train_pre, train_raw_labels, test_size=0.35, random_state=1)\n",
    "\n",
    "#Creating final train and test dataset\n",
    "test_set_raw, noneeda, test_label_raw, noneedb = train_test_split(test_pre, test_raw_labels, test_size=0.0000, random_state=1)\n",
    "train_set_raw, noneeda, train_label_raw, noneedb = train_test_split(train_pre, train_raw_labels, test_size=0.0000, random_state=1)\n",
    "input_size = train_pre.shape[1]\n",
    "output_size = 1"
   ]
  },
  {
   "cell_type": "markdown",
   "metadata": {
    "colab_type": "text",
    "id": "a1tP2YFHaks2"
   },
   "source": [
    "\n",
    "<p><u>Defining DNN model</u>"
   ]
  },
  {
   "cell_type": "code",
   "execution_count": 0,
   "metadata": {
    "colab": {},
    "colab_type": "code",
    "collapsed": true,
    "id": "22t92qw6zr2S"
   },
   "outputs": [],
   "source": [
    "def model(train_set, train_labels, validation_set, validation_labels, input_size=input_size,set_optimizer = 'adam',\n",
    "          hidden_neurons=20, output_size = output_size, learning_rate=1e-2, num_epochs=500,show_result = True,\n",
    "          print_cost=False, plot_cost=True, l2_beta=0.5, keep_prob=1, hidden_activation='leaky-relu', return_best=False,\n",
    "          weight_initializer='xavier',minibatch_size=zero, lr_decay=zero):\n",
    "    tf.reset_default_graph() \n",
    "    layers_dims = [input_size, hidden_neurons, hidden_neurons, output_size]\n",
    "    input_size,output_size,num_examples,n_layers,train_costs,validation_costs,best_iteration,best_params = ann_init(\n",
    "        layers_dims,train_set)\n",
    "    if minibatch_size == zero or minibatch_size > num_examples: minibatch_size = num_examples\n",
    "    num_minibatches = num_examples // minibatch_size\n",
    "    if num_minibatches == zero: num_minibatches = 1\n",
    "    submission_name = build_submission_name(layers_dims, num_epochs, lr_decay, learning_rate, l2_beta, keep_prob,\n",
    "                                          minibatch_size, num_examples)\n",
    "    x, y = create_placeholders(input_size, output_size)\n",
    "    tf_valid_dataset = tf.cast(tf.constant(validation_set), tf.float32)\n",
    "    parameters = initialize_parameters(layers_dims,weight_initializer)\n",
    "    fw_output_train = forward_propagation(x, parameters, keep_prob, hidden_activation)\n",
    "    train_cost = compute_cost(fw_output_train, y)\n",
    "    fw_output_valid = forward_propagation(tf_valid_dataset, parameters, 1, hidden_activation)\n",
    "    validation_cost = compute_cost(fw_output_valid, validation_labels)\n",
    "    train_cost, validation_cost, learning_rate, optimizer = opt_tunning(l2_beta,train_cost, parameters,n_layers,\n",
    "                                                                      validation_cost, lr_decay,learning_rate,set_optimizer)\n",
    "    init = tf.global_variables_initializer()\n",
    "    with tf.Session() as sess:\n",
    "        sess.run(init)\n",
    "        for epoch in range(num_epochs):\n",
    "            train_epoch_cost = zero\n",
    "            validation_epoch_cost = zero\n",
    "            minibatches = mini_batches(train_set, train_labels, minibatch_size)\n",
    "            for minibatch in minibatches:\n",
    "                (minibatch_X, minibatch_Y) = minibatch\n",
    "                feed_dict = {x: minibatch_X, y: minibatch_Y}\n",
    "                _, minibatch_train_cost, minibatch_validation_cost = sess.run(\n",
    "                    [optimizer, train_cost, validation_cost], feed_dict=feed_dict)\n",
    "                train_epoch_cost += minibatch_train_cost / num_minibatches\n",
    "                validation_epoch_cost += minibatch_validation_cost / num_minibatches\n",
    "            train_costs, validation_costs = cost_printing(print_cost, epoch, train_epoch_cost, plot_cost,\n",
    "                                                        validation_epoch_cost, train_costs, validation_costs)\n",
    "            if return_best is True and validation_epoch_cost < best_iteration[zero]:\n",
    "                best_iteration[zero] = validation_epoch_cost\n",
    "                best_iteration[1] = epoch\n",
    "                best_params = sess.run(parameters)\n",
    "        if return_best is True: parameters = best_params\n",
    "        else: parameters = sess.run(parameters)\n",
    "        train_rmse,validation_rmse,train_rmsle,validation_rmsle = all_loss(train_set, parameters,train_labels,\n",
    "                                                                         validation_set,validation_labels,show_result)\n",
    "        submission_name = 'tr_cost-{:.2f}-vd_cost{:.2f}-'.format(train_rmse, validation_rmse) + submission_name\n",
    "        if return_best is True:  print('Lowest RMS error: {:.2f} at epoch {}'.format(best_iteration[zero], \n",
    "                                                                                     best_iteration[1]))\n",
    "        if plot_cost is True: plot_model_cost(train_costs, validation_costs, set_optimizer, \n",
    "                                              weight_initializer, hidden_activation)\n",
    "        return train_rmsle, validation_rmsle, parameters, submission_name"
   ]
  },
  {
   "cell_type": "markdown",
   "metadata": {
    "colab_type": "text",
    "id": "KfGdIsGXaHCq"
   },
   "source": [
    "\n",
    "<p><u>Running the DNN model with default parameters</u><br>First we will run the model with default parameters. It uses Adam optimizer, random-normal initializer and relu activation. </p>"
   ]
  },
  {
   "cell_type": "code",
   "execution_count": 0,
   "metadata": {
    "colab": {
     "base_uri": "https://localhost:8080/",
     "height": 864
    },
    "colab_type": "code",
    "executionInfo": {
     "elapsed": 360262,
     "status": "ok",
     "timestamp": 1551550120287,
     "user": {
      "displayName": "Tasnim Ahmed",
      "photoUrl": "https://lh5.googleusercontent.com/-_bXMSpk9fII/AAAAAAAAAAI/AAAAAAAAAOE/nghm7uaSFOo/s64/photo.jpg",
      "userId": "12044029492916722191"
     },
     "user_tz": 480
    },
    "id": "zNL_gXbdOkRw",
    "outputId": "fc8389a2-0336-4d51-df8b-5200e12934e1"
   },
   "outputs": [
    {
     "name": "stdout",
     "output_type": "stream",
     "text": [
      "Train RMS error: 2.6446\n",
      "Validation RMS error: 3.8379\n",
      "Train RMS Log error: 0.0304\n",
      "Validation RMS Log error: 0.0445\n"
     ]
    },
    {
     "data": {
      "image/png": "[encoded data removed]",
      "text/plain": [
       "<Figure size 576x432 with 1 Axes>"
      ]
     },
     "metadata": {
      "tags": []
     },
     "output_type": "display_data"
    },
    {
     "data": {
      "image/png": "[encoded data removed]",
      "text/plain": [
       "<Figure size 576x432 with 1 Axes>"
      ]
     },
     "metadata": {
      "tags": []
     },
     "output_type": "display_data"
    }
   ],
   "source": [
    "train_rmsle, validation_rmsle, parameters, submission_name = model(train_set, train_label, validation_set, validation_label,\n",
    "                                                                   set_optimizer = 'adam',\n",
    "                                                                   weight_initializer='random-normal',\n",
    "                                                                   hidden_activation='relu' )\n",
    "plot_prediction(validation_label, predict(validation_set, parameters))"
   ]
  },
  {
   "cell_type": "markdown",
   "metadata": {
    "colab_type": "text",
    "id": "HusxbEjWavmL"
   },
   "source": [
    "\n",
    "<p><u>Calculating R2 score on validation dataset</u></p>"
   ]
  },
  {
   "cell_type": "code",
   "execution_count": 0,
   "metadata": {
    "colab": {
     "base_uri": "https://localhost:8080/",
     "height": 35
    },
    "colab_type": "code",
    "executionInfo": {
     "elapsed": 360235,
     "status": "ok",
     "timestamp": 1551550120293,
     "user": {
      "displayName": "Tasnim Ahmed",
      "photoUrl": "https://lh5.googleusercontent.com/-_bXMSpk9fII/AAAAAAAAAAI/AAAAAAAAAOE/nghm7uaSFOo/s64/photo.jpg",
      "userId": "12044029492916722191"
     },
     "user_tz": 480
    },
    "id": "2-n_ocaqO0hS",
    "outputId": "b3ceeed0-437e-42e4-bb4f-446603e029d6"
   },
   "outputs": [
    {
     "data": {
      "text/plain": [
       "0.6671229279212032"
      ]
     },
     "execution_count": 67,
     "metadata": {
      "tags": []
     },
     "output_type": "execute_result"
    }
   ],
   "source": [
    "prediction = predict(validation_set, parameters)\n",
    "prediction = list(list(np.reshape(prediction, (1,np.product(prediction.shape))))[0])\n",
    "actual = list(list(np.reshape(validation_label, (1,np.product(validation_label.shape))))[0])\n",
    "r2_score(actual,prediction)"
   ]
  },
  {
   "cell_type": "markdown",
   "metadata": {
    "colab_type": "text",
    "id": "mBu_ew4cbTJR"
   },
   "source": [
    "<p><u>Running a grid-search</u><br>The above R2 score was not too good. We need to figure out whether there is scope to increase the score or not. Lets run a grid-search on the combinations of Optimizer, Weight-initializers and Activations and find the best combination that reduces the validation-error to minimum</p>"
   ]
  },
  {
   "cell_type": "code",
   "execution_count": 0,
   "metadata": {
    "colab": {
     "base_uri": "https://localhost:8080/",
     "height": 363
    },
    "colab_type": "code",
    "executionInfo": {
     "elapsed": 11750,
     "status": "ok",
     "timestamp": 1551551354690,
     "user": {
      "displayName": "Tasnim Ahmed",
      "photoUrl": "https://lh5.googleusercontent.com/-_bXMSpk9fII/AAAAAAAAAAI/AAAAAAAAAOE/nghm7uaSFOo/s64/photo.jpg",
      "userId": "12044029492916722191"
     },
     "user_tz": 480
    },
    "id": "ozeLyHDnzTA5",
    "outputId": "5632c045-2f08-4596-d6ea-cdfb41f110e8"
   },
   "outputs": [
    {
     "data": {
      "text/html": [
       "<div>\n",
       "<style scoped>\n",
       "    .dataframe tbody tr th:only-of-type {\n",
       "        vertical-align: middle;\n",
       "    }\n",
       "\n",
       "    .dataframe tbody tr th {\n",
       "        vertical-align: top;\n",
       "    }\n",
       "\n",
       "    .dataframe thead th {\n",
       "        text-align: right;\n",
       "    }\n",
       "</style>\n",
       "<table border=\"1\" class=\"dataframe\">\n",
       "  <thead>\n",
       "    <tr style=\"text-align: right;\">\n",
       "      <th></th>\n",
       "      <th>Combination</th>\n",
       "      <th>Error-difference</th>\n",
       "      <th>Train-error</th>\n",
       "      <th>Validation-error</th>\n",
       "    </tr>\n",
       "  </thead>\n",
       "  <tbody>\n",
       "    <tr>\n",
       "      <th>0</th>\n",
       "      <td>['relu', 'xavier', 'adam']</td>\n",
       "      <td>0.0051</td>\n",
       "      <td>0.0357</td>\n",
       "      <td>0.0408</td>\n",
       "    </tr>\n",
       "    <tr>\n",
       "      <th>8</th>\n",
       "      <td>['leaky-relu', 'xavier', 'adam']</td>\n",
       "      <td>0.0044</td>\n",
       "      <td>0.0366</td>\n",
       "      <td>0.0410</td>\n",
       "    </tr>\n",
       "    <tr>\n",
       "      <th>10</th>\n",
       "      <td>['leaky-relu', 'random-normal', 'adam']</td>\n",
       "      <td>0.0054</td>\n",
       "      <td>0.0357</td>\n",
       "      <td>0.0411</td>\n",
       "    </tr>\n",
       "    <tr>\n",
       "      <th>2</th>\n",
       "      <td>['relu', 'random-normal', 'adam']</td>\n",
       "      <td>0.0091</td>\n",
       "      <td>0.0339</td>\n",
       "      <td>0.0430</td>\n",
       "    </tr>\n",
       "    <tr>\n",
       "      <th>1</th>\n",
       "      <td>['relu', 'xavier', 'RMS-Prop']</td>\n",
       "      <td>0.0152</td>\n",
       "      <td>0.0405</td>\n",
       "      <td>0.0557</td>\n",
       "    </tr>\n",
       "    <tr>\n",
       "      <th>11</th>\n",
       "      <td>['leaky-relu', 'random-normal', 'RMS-Prop']</td>\n",
       "      <td>0.0158</td>\n",
       "      <td>0.0414</td>\n",
       "      <td>0.0572</td>\n",
       "    </tr>\n",
       "    <tr>\n",
       "      <th>9</th>\n",
       "      <td>['leaky-relu', 'xavier', 'RMS-Prop']</td>\n",
       "      <td>0.0118</td>\n",
       "      <td>0.0480</td>\n",
       "      <td>0.0598</td>\n",
       "    </tr>\n",
       "    <tr>\n",
       "      <th>3</th>\n",
       "      <td>['relu', 'random-normal', 'RMS-Prop']</td>\n",
       "      <td>0.0242</td>\n",
       "      <td>0.0359</td>\n",
       "      <td>0.0601</td>\n",
       "    </tr>\n",
       "    <tr>\n",
       "      <th>6</th>\n",
       "      <td>['sigmoid', 'random-normal', 'adam']</td>\n",
       "      <td>0.0168</td>\n",
       "      <td>0.9468</td>\n",
       "      <td>0.9636</td>\n",
       "    </tr>\n",
       "    <tr>\n",
       "      <th>4</th>\n",
       "      <td>['sigmoid', 'xavier', 'adam']</td>\n",
       "      <td>0.0176</td>\n",
       "      <td>0.9908</td>\n",
       "      <td>1.0083</td>\n",
       "    </tr>\n",
       "  </tbody>\n",
       "</table>\n",
       "</div>"
      ],
      "text/plain": [
       "                                    Combination  Error-difference  \\\n",
       "0                    ['relu', 'xavier', 'adam']            0.0051   \n",
       "8              ['leaky-relu', 'xavier', 'adam']            0.0044   \n",
       "10      ['leaky-relu', 'random-normal', 'adam']            0.0054   \n",
       "2             ['relu', 'random-normal', 'adam']            0.0091   \n",
       "1                ['relu', 'xavier', 'RMS-Prop']            0.0152   \n",
       "11  ['leaky-relu', 'random-normal', 'RMS-Prop']            0.0158   \n",
       "9          ['leaky-relu', 'xavier', 'RMS-Prop']            0.0118   \n",
       "3         ['relu', 'random-normal', 'RMS-Prop']            0.0242   \n",
       "6          ['sigmoid', 'random-normal', 'adam']            0.0168   \n",
       "4                 ['sigmoid', 'xavier', 'adam']            0.0176   \n",
       "\n",
       "    Train-error  Validation-error  \n",
       "0        0.0357            0.0408  \n",
       "8        0.0366            0.0410  \n",
       "10       0.0357            0.0411  \n",
       "2        0.0339            0.0430  \n",
       "1        0.0405            0.0557  \n",
       "11       0.0414            0.0572  \n",
       "9        0.0480            0.0598  \n",
       "3        0.0359            0.0601  \n",
       "6        0.9468            0.9636  \n",
       "4        0.9908            1.0083  "
      ]
     },
     "execution_count": 176,
     "metadata": {
      "tags": []
     },
     "output_type": "execute_result"
    }
   ],
   "source": [
    "param_grid = {'Optimizer':['adam','RMS-Prop'],\n",
    "              'Initializer':['xavier','random-normal'],\n",
    "              'Activation':['relu','sigmoid','leaky-relu']}\n",
    "grid = ParameterGrid(param_grid)\n",
    "all_combinations = []\n",
    "all_train_error = []\n",
    "all_validation_error = []\n",
    "all_train_val_error_difference = []\n",
    "\n",
    "for params in grid:\n",
    "    train_rmsle, validation_rmsle, parameters, submission_name = model(train_set, train_label, validation_set, validation_label,\n",
    "                                                                       hidden_activation=params['Activation'],\n",
    "                                                                       weight_initializer = params['Initializer'],\n",
    "                                                                       show_result=False,plot_cost=False,\n",
    "                                                                       set_optimizer = params['Optimizer'])\n",
    "    all_combinations.append(str(list(params.values())))\n",
    "    all_train_error.append(train_rmsle)\n",
    "    all_validation_error.append(validation_rmsle)\n",
    "    all_train_val_error_difference.append(abs(validation_rmsle-train_rmsle))\n",
    "parameter_combinations = pd.DataFrame(\n",
    "    {'Combination': all_combinations,\n",
    "     'Train-error': all_train_error,\n",
    "     'Validation-error': all_validation_error,\n",
    "     'Error-difference': all_train_val_error_difference\n",
    "    })\n",
    "parameter_combinations = parameter_combinations.sort_values(by='Validation-error', ascending=True)\n",
    "parameter_combinations[:10]"
   ]
  },
  {
   "cell_type": "markdown",
   "metadata": {
    "colab_type": "text",
    "id": "YPoFlFFAb4BH"
   },
   "source": [
    "<p><u>Applying the best combination</u></p>"
   ]
  },
  {
   "cell_type": "code",
   "execution_count": 0,
   "metadata": {
    "colab": {
     "base_uri": "https://localhost:8080/",
     "height": 870
    },
    "colab_type": "code",
    "executionInfo": {
     "elapsed": 374463,
     "status": "ok",
     "timestamp": 1551550134604,
     "user": {
      "displayName": "Tasnim Ahmed",
      "photoUrl": "https://lh5.googleusercontent.com/-_bXMSpk9fII/AAAAAAAAAAI/AAAAAAAAAOE/nghm7uaSFOo/s64/photo.jpg",
      "userId": "12044029492916722191"
     },
     "user_tz": 480
    },
    "id": "O2BYdmzvztQh",
    "outputId": "9c27000e-7b9c-41d0-fce0-46142ddb77e2"
   },
   "outputs": [
    {
     "name": "stdout",
     "output_type": "stream",
     "text": [
      "Train RMS error: 3.0394\n",
      "Validation RMS error: 3.5264\n",
      "Train RMS Log error: 0.0349\n",
      "Validation RMS Log error: 0.0412\n"
     ]
    },
    {
     "data": {
      "image/png": "[encoded data removed]",
      "text/plain": [
       "<Figure size 576x432 with 1 Axes>"
      ]
     },
     "metadata": {
      "tags": []
     },
     "output_type": "display_data"
    },
    {
     "data": {
      "image/png": "[encoded data removed]",
      "text/plain": [
       "<Figure size 576x432 with 1 Axes>"
      ]
     },
     "metadata": {
      "tags": []
     },
     "output_type": "display_data"
    }
   ],
   "source": [
    "train_rmsle, validation_rmsle, parameters, submission_name = model(train_set, train_label, validation_set, validation_label,\n",
    "                                                                   set_optimizer = 'adam',\n",
    "                                                                   weight_initializer='xavier',\n",
    "                                                                   hidden_activation='relu' )\n",
    "plot_prediction(validation_label, predict(validation_set, parameters))"
   ]
  },
  {
   "cell_type": "markdown",
   "metadata": {
    "colab_type": "text",
    "id": "LQfcpRP2cFc2"
   },
   "source": [
    "<p><u>Checking R2 score on validation dataset</u></p>"
   ]
  },
  {
   "cell_type": "code",
   "execution_count": 0,
   "metadata": {
    "colab": {
     "base_uri": "https://localhost:8080/",
     "height": 35
    },
    "colab_type": "code",
    "executionInfo": {
     "elapsed": 374438,
     "status": "ok",
     "timestamp": 1551550134613,
     "user": {
      "displayName": "Tasnim Ahmed",
      "photoUrl": "https://lh5.googleusercontent.com/-_bXMSpk9fII/AAAAAAAAAAI/AAAAAAAAAOE/nghm7uaSFOo/s64/photo.jpg",
      "userId": "12044029492916722191"
     },
     "user_tz": 480
    },
    "id": "2aSYYdTEz0v2",
    "outputId": "738bfe66-4301-48cf-ef3e-8a24d8c32b70"
   },
   "outputs": [
    {
     "data": {
      "text/plain": [
       "0.7189729349936604"
      ]
     },
     "execution_count": 70,
     "metadata": {
      "tags": []
     },
     "output_type": "execute_result"
    }
   ],
   "source": [
    "prediction = predict(validation_set, parameters)\n",
    "prediction = list(list(np.reshape(prediction, (1,np.product(prediction.shape))))[0])\n",
    "actual = list(list(np.reshape(validation_label, (1,np.product(validation_label.shape))))[0])\n",
    "r2_score(actual,prediction)"
   ]
  },
  {
   "cell_type": "markdown",
   "metadata": {
    "colab_type": "text",
    "id": "iJ6o_3atcSw3"
   },
   "source": [
    "<p><u>Applying a grid-search to find the best combination of parameters</u><br>Now we can see that the result (R2 score) has been improved. Both train and validation errors have been decreased and the learning-curves have become very simplified.<br>Now lets apply another grid-search to find the best combination of the tunnable hyper-parameters that reduces the errors to the minimum. Now the grid-search will be performed by involving 4 parameters-Regularization-constant(l2_beta) and Keep_prob to hangle the drop-out of neurons. Learn-rate and Decay of learning-rate(lr_decay)  are responsible for controlling the learning-speed.</p>"
   ]
  },
  {
   "cell_type": "code",
   "execution_count": 0,
   "metadata": {
    "colab": {
     "base_uri": "https://localhost:8080/",
     "height": 363
    },
    "colab_type": "code",
    "executionInfo": {
     "elapsed": 483926,
     "status": "ok",
     "timestamp": 1551550244136,
     "user": {
      "displayName": "Tasnim Ahmed",
      "photoUrl": "https://lh5.googleusercontent.com/-_bXMSpk9fII/AAAAAAAAAAI/AAAAAAAAAOE/nghm7uaSFOo/s64/photo.jpg",
      "userId": "12044029492916722191"
     },
     "user_tz": 480
    },
    "id": "2lUEJGbfyH9W",
    "outputId": "e9968be1-748e-411e-b09f-5148087bf632"
   },
   "outputs": [
    {
     "data": {
      "text/html": [
       "<div>\n",
       "<style scoped>\n",
       "    .dataframe tbody tr th:only-of-type {\n",
       "        vertical-align: middle;\n",
       "    }\n",
       "\n",
       "    .dataframe tbody tr th {\n",
       "        vertical-align: top;\n",
       "    }\n",
       "\n",
       "    .dataframe thead th {\n",
       "        text-align: right;\n",
       "    }\n",
       "</style>\n",
       "<table border=\"1\" class=\"dataframe\">\n",
       "  <thead>\n",
       "    <tr style=\"text-align: right;\">\n",
       "      <th></th>\n",
       "      <th>Combination</th>\n",
       "      <th>Error-difference</th>\n",
       "      <th>Train-error</th>\n",
       "      <th>Validation-error</th>\n",
       "    </tr>\n",
       "  </thead>\n",
       "  <tbody>\n",
       "    <tr>\n",
       "      <th>89</th>\n",
       "      <td>{'keep_prob': 1.0, 'l2_beta': 0.5, 'learn-rate': 0.015, 'lr_decay': 0.0001}</td>\n",
       "      <td>0.0033</td>\n",
       "      <td>0.0373</td>\n",
       "      <td>0.0406</td>\n",
       "    </tr>\n",
       "    <tr>\n",
       "      <th>95</th>\n",
       "      <td>{'keep_prob': 1.0, 'l2_beta': 1, 'learn-rate': 0.01, 'lr_decay': 0.0001}</td>\n",
       "      <td>0.0032</td>\n",
       "      <td>0.0375</td>\n",
       "      <td>0.0407</td>\n",
       "    </tr>\n",
       "    <tr>\n",
       "      <th>94</th>\n",
       "      <td>{'keep_prob': 1.0, 'l2_beta': 1, 'learn-rate': 0.01, 'lr_decay': 0.0002}</td>\n",
       "      <td>0.0033</td>\n",
       "      <td>0.0375</td>\n",
       "      <td>0.0408</td>\n",
       "    </tr>\n",
       "    <tr>\n",
       "      <th>86</th>\n",
       "      <td>{'keep_prob': 1.0, 'l2_beta': 0.5, 'learn-rate': 0.01, 'lr_decay': 0.0001}</td>\n",
       "      <td>0.0049</td>\n",
       "      <td>0.0359</td>\n",
       "      <td>0.0408</td>\n",
       "    </tr>\n",
       "    <tr>\n",
       "      <th>93</th>\n",
       "      <td>{'keep_prob': 1.0, 'l2_beta': 1, 'learn-rate': 0.01, 'lr_decay': 0}</td>\n",
       "      <td>0.0033</td>\n",
       "      <td>0.0375</td>\n",
       "      <td>0.0408</td>\n",
       "    </tr>\n",
       "    <tr>\n",
       "      <th>88</th>\n",
       "      <td>{'keep_prob': 1.0, 'l2_beta': 0.5, 'learn-rate': 0.015, 'lr_decay': 0.0002}</td>\n",
       "      <td>0.0036</td>\n",
       "      <td>0.0372</td>\n",
       "      <td>0.0408</td>\n",
       "    </tr>\n",
       "    <tr>\n",
       "      <th>84</th>\n",
       "      <td>{'keep_prob': 1.0, 'l2_beta': 0.5, 'learn-rate': 0.01, 'lr_decay': 0}</td>\n",
       "      <td>0.0056</td>\n",
       "      <td>0.0352</td>\n",
       "      <td>0.0408</td>\n",
       "    </tr>\n",
       "    <tr>\n",
       "      <th>90</th>\n",
       "      <td>{'keep_prob': 1.0, 'l2_beta': 1, 'learn-rate': 0.005, 'lr_decay': 0}</td>\n",
       "      <td>0.0038</td>\n",
       "      <td>0.0370</td>\n",
       "      <td>0.0408</td>\n",
       "    </tr>\n",
       "    <tr>\n",
       "      <th>91</th>\n",
       "      <td>{'keep_prob': 1.0, 'l2_beta': 1, 'learn-rate': 0.005, 'lr_decay': 0.0002}</td>\n",
       "      <td>0.0038</td>\n",
       "      <td>0.0371</td>\n",
       "      <td>0.0408</td>\n",
       "    </tr>\n",
       "    <tr>\n",
       "      <th>92</th>\n",
       "      <td>{'keep_prob': 1.0, 'l2_beta': 1, 'learn-rate': 0.005, 'lr_decay': 0.0001}</td>\n",
       "      <td>0.0038</td>\n",
       "      <td>0.0370</td>\n",
       "      <td>0.0409</td>\n",
       "    </tr>\n",
       "  </tbody>\n",
       "</table>\n",
       "</div>"
      ],
      "text/plain": [
       "                                                                    Combination  \\\n",
       "89  {'keep_prob': 1.0, 'l2_beta': 0.5, 'learn-rate': 0.015, 'lr_decay': 0.0001}   \n",
       "95     {'keep_prob': 1.0, 'l2_beta': 1, 'learn-rate': 0.01, 'lr_decay': 0.0001}   \n",
       "94     {'keep_prob': 1.0, 'l2_beta': 1, 'learn-rate': 0.01, 'lr_decay': 0.0002}   \n",
       "86   {'keep_prob': 1.0, 'l2_beta': 0.5, 'learn-rate': 0.01, 'lr_decay': 0.0001}   \n",
       "93          {'keep_prob': 1.0, 'l2_beta': 1, 'learn-rate': 0.01, 'lr_decay': 0}   \n",
       "88  {'keep_prob': 1.0, 'l2_beta': 0.5, 'learn-rate': 0.015, 'lr_decay': 0.0002}   \n",
       "84        {'keep_prob': 1.0, 'l2_beta': 0.5, 'learn-rate': 0.01, 'lr_decay': 0}   \n",
       "90         {'keep_prob': 1.0, 'l2_beta': 1, 'learn-rate': 0.005, 'lr_decay': 0}   \n",
       "91    {'keep_prob': 1.0, 'l2_beta': 1, 'learn-rate': 0.005, 'lr_decay': 0.0002}   \n",
       "92    {'keep_prob': 1.0, 'l2_beta': 1, 'learn-rate': 0.005, 'lr_decay': 0.0001}   \n",
       "\n",
       "    Error-difference  Train-error  Validation-error  \n",
       "89            0.0033       0.0373            0.0406  \n",
       "95            0.0032       0.0375            0.0407  \n",
       "94            0.0033       0.0375            0.0408  \n",
       "86            0.0049       0.0359            0.0408  \n",
       "93            0.0033       0.0375            0.0408  \n",
       "88            0.0036       0.0372            0.0408  \n",
       "84            0.0056       0.0352            0.0408  \n",
       "90            0.0038       0.0370            0.0408  \n",
       "91            0.0038       0.0371            0.0408  \n",
       "92            0.0038       0.0370            0.0409  "
      ]
     },
     "execution_count": 71,
     "metadata": {
      "tags": []
     },
     "output_type": "execute_result"
    }
   ],
   "source": [
    "param_grid = {'keep_prob':[0.5,0.7,1.0],\n",
    "              'learn-rate':[0.5e-2,1e-2,1.5e-2],\n",
    "              'lr_decay':[0,0.02e-2,0.01e-2],\n",
    "              'l2_beta':[0,0.5,1,2]}\n",
    "grid = ParameterGrid(param_grid)\n",
    "all_combinations = []\n",
    "all_train_error = []\n",
    "all_validation_error = []\n",
    "all_train_val_error_difference = []\n",
    "for params in grid:\n",
    "    train_rmsle, validation_rmsle, parameters, submission_name = model(train_set, train_label, validation_set, validation_label,\n",
    "                                                                       hidden_activation='relu',\n",
    "                                                                       weight_initializer='xavier', \n",
    "                                                                       set_optimizer = 'adam',\n",
    "                                                                       keep_prob=params['keep_prob'],\n",
    "                                                                       learning_rate=params['learn-rate'],\n",
    "                                                                       print_cost=False, plot_cost=False,show_result=False,\n",
    "                                                                       l2_beta=params['l2_beta'],return_best=False,\n",
    "                                                                       lr_decay=params['lr_decay'])\n",
    "    all_combinations.append(str(params))\n",
    "    all_train_error.append(train_rmsle)\n",
    "    all_validation_error.append(validation_rmsle)\n",
    "    all_train_val_error_difference.append(abs(validation_rmsle-train_rmsle))\n",
    "pd.options.display.max_colwidth = 140   \n",
    "parameter_combinations = pd.DataFrame(\n",
    "    {'Combination': all_combinations,\n",
    "     'Train-error': all_train_error,\n",
    "     'Validation-error': all_validation_error,\n",
    "     'Error-difference': all_train_val_error_difference\n",
    "    })\n",
    "parameter_combinations = parameter_combinations.sort_values(by='Validation-error', ascending=True)\n",
    "parameter_combinations[:10]"
   ]
  },
  {
   "cell_type": "markdown",
   "metadata": {
    "colab_type": "text",
    "id": "FYVL2xyvf5jk"
   },
   "source": [
    "<p>Here the first combination is the one that reduces the validation error to minimum. Now lets run another grid-search on number of epochs and hidden-neurons to find their best combination that minimizes validation error</p>"
   ]
  },
  {
   "cell_type": "code",
   "execution_count": 0,
   "metadata": {
    "colab": {
     "base_uri": "https://localhost:8080/",
     "height": 363
    },
    "colab_type": "code",
    "executionInfo": {
     "elapsed": 500194,
     "status": "ok",
     "timestamp": 1551550260446,
     "user": {
      "displayName": "Tasnim Ahmed",
      "photoUrl": "https://lh5.googleusercontent.com/-_bXMSpk9fII/AAAAAAAAAAI/AAAAAAAAAOE/nghm7uaSFOo/s64/photo.jpg",
      "userId": "12044029492916722191"
     },
     "user_tz": 480
    },
    "id": "lgFGHwco1TX4",
    "outputId": "232b4f91-d047-4f0e-b14d-7a89711b5884"
   },
   "outputs": [
    {
     "data": {
      "text/html": [
       "<div>\n",
       "<style scoped>\n",
       "    .dataframe tbody tr th:only-of-type {\n",
       "        vertical-align: middle;\n",
       "    }\n",
       "\n",
       "    .dataframe tbody tr th {\n",
       "        vertical-align: top;\n",
       "    }\n",
       "\n",
       "    .dataframe thead th {\n",
       "        text-align: right;\n",
       "    }\n",
       "</style>\n",
       "<table border=\"1\" class=\"dataframe\">\n",
       "  <thead>\n",
       "    <tr style=\"text-align: right;\">\n",
       "      <th></th>\n",
       "      <th>Combination</th>\n",
       "      <th>Error-difference</th>\n",
       "      <th>Train-error</th>\n",
       "      <th>Validation-error</th>\n",
       "    </tr>\n",
       "  </thead>\n",
       "  <tbody>\n",
       "    <tr>\n",
       "      <th>1</th>\n",
       "      <td>{'hidden_neurons': 20, 'num_epochs': 500}</td>\n",
       "      <td>0.0034</td>\n",
       "      <td>0.0371</td>\n",
       "      <td>0.0406</td>\n",
       "    </tr>\n",
       "    <tr>\n",
       "      <th>9</th>\n",
       "      <td>{'hidden_neurons': 50, 'num_epochs': 500}</td>\n",
       "      <td>0.0031</td>\n",
       "      <td>0.0378</td>\n",
       "      <td>0.0408</td>\n",
       "    </tr>\n",
       "    <tr>\n",
       "      <th>0</th>\n",
       "      <td>{'hidden_neurons': 20, 'num_epochs': 250}</td>\n",
       "      <td>0.0047</td>\n",
       "      <td>0.0362</td>\n",
       "      <td>0.0409</td>\n",
       "    </tr>\n",
       "    <tr>\n",
       "      <th>5</th>\n",
       "      <td>{'hidden_neurons': 40, 'num_epochs': 500}</td>\n",
       "      <td>0.0030</td>\n",
       "      <td>0.0381</td>\n",
       "      <td>0.0411</td>\n",
       "    </tr>\n",
       "    <tr>\n",
       "      <th>12</th>\n",
       "      <td>{'hidden_neurons': 100, 'num_epochs': 250}</td>\n",
       "      <td>0.0054</td>\n",
       "      <td>0.0361</td>\n",
       "      <td>0.0414</td>\n",
       "    </tr>\n",
       "    <tr>\n",
       "      <th>8</th>\n",
       "      <td>{'hidden_neurons': 50, 'num_epochs': 250}</td>\n",
       "      <td>0.0069</td>\n",
       "      <td>0.0347</td>\n",
       "      <td>0.0416</td>\n",
       "    </tr>\n",
       "    <tr>\n",
       "      <th>2</th>\n",
       "      <td>{'hidden_neurons': 20, 'num_epochs': 1000}</td>\n",
       "      <td>0.0040</td>\n",
       "      <td>0.0378</td>\n",
       "      <td>0.0418</td>\n",
       "    </tr>\n",
       "    <tr>\n",
       "      <th>4</th>\n",
       "      <td>{'hidden_neurons': 40, 'num_epochs': 250}</td>\n",
       "      <td>0.0061</td>\n",
       "      <td>0.0357</td>\n",
       "      <td>0.0418</td>\n",
       "    </tr>\n",
       "    <tr>\n",
       "      <th>6</th>\n",
       "      <td>{'hidden_neurons': 40, 'num_epochs': 1000}</td>\n",
       "      <td>0.0025</td>\n",
       "      <td>0.0394</td>\n",
       "      <td>0.0419</td>\n",
       "    </tr>\n",
       "    <tr>\n",
       "      <th>3</th>\n",
       "      <td>{'hidden_neurons': 20, 'num_epochs': 1500}</td>\n",
       "      <td>0.0048</td>\n",
       "      <td>0.0383</td>\n",
       "      <td>0.0431</td>\n",
       "    </tr>\n",
       "  </tbody>\n",
       "</table>\n",
       "</div>"
      ],
      "text/plain": [
       "                                   Combination  Error-difference  Train-error  \\\n",
       "1    {'hidden_neurons': 20, 'num_epochs': 500}            0.0034       0.0371   \n",
       "9    {'hidden_neurons': 50, 'num_epochs': 500}            0.0031       0.0378   \n",
       "0    {'hidden_neurons': 20, 'num_epochs': 250}            0.0047       0.0362   \n",
       "5    {'hidden_neurons': 40, 'num_epochs': 500}            0.0030       0.0381   \n",
       "12  {'hidden_neurons': 100, 'num_epochs': 250}            0.0054       0.0361   \n",
       "8    {'hidden_neurons': 50, 'num_epochs': 250}            0.0069       0.0347   \n",
       "2   {'hidden_neurons': 20, 'num_epochs': 1000}            0.0040       0.0378   \n",
       "4    {'hidden_neurons': 40, 'num_epochs': 250}            0.0061       0.0357   \n",
       "6   {'hidden_neurons': 40, 'num_epochs': 1000}            0.0025       0.0394   \n",
       "3   {'hidden_neurons': 20, 'num_epochs': 1500}            0.0048       0.0383   \n",
       "\n",
       "    Validation-error  \n",
       "1             0.0406  \n",
       "9             0.0408  \n",
       "0             0.0409  \n",
       "5             0.0411  \n",
       "12            0.0414  \n",
       "8             0.0416  \n",
       "2             0.0418  \n",
       "4             0.0418  \n",
       "6             0.0419  \n",
       "3             0.0431  "
      ]
     },
     "execution_count": 72,
     "metadata": {
      "tags": []
     },
     "output_type": "execute_result"
    }
   ],
   "source": [
    "param_grid = {'hidden_neurons':[20,40,50,100],\n",
    "              'num_epochs':[250,500,1000,1500]}\n",
    "grid = ParameterGrid(param_grid)\n",
    "all_combinations = []\n",
    "all_train_error = []\n",
    "all_validation_error = []\n",
    "all_train_val_error_difference = []\n",
    "for params in grid:\n",
    "    train_rmsle, validation_rmsle, parameters, submission_name = model(train_set, train_label, validation_set, validation_label,\n",
    "                                                                       hidden_activation='relu',\n",
    "                                                                       weight_initializer='xavier', \n",
    "                                                                       set_optimizer = 'adam',\n",
    "                                                                       keep_prob=1.0,learning_rate=0.015,\n",
    "                                                                       num_epochs = params['num_epochs'],\n",
    "                                                                       print_cost=False, plot_cost=False,show_result=False,\n",
    "                                                                       l2_beta=0.5,return_best=False,lr_decay=0,\n",
    "                                                                       hidden_neurons = params['hidden_neurons'])\n",
    "    all_combinations.append(str(params))\n",
    "    all_train_error.append(train_rmsle)\n",
    "    all_validation_error.append(validation_rmsle)\n",
    "    all_train_val_error_difference.append(abs(validation_rmsle-train_rmsle))\n",
    "pd.options.display.max_colwidth = 140   \n",
    "parameter_combinations = pd.DataFrame(\n",
    "    {'Combination': all_combinations,\n",
    "     'Train-error': all_train_error,\n",
    "     'Validation-error': all_validation_error,\n",
    "     'Error-difference': all_train_val_error_difference\n",
    "    })\n",
    "parameter_combinations = parameter_combinations.sort_values(by='Validation-error', ascending=True)\n",
    "parameter_combinations[:10]"
   ]
  },
  {
   "cell_type": "markdown",
   "metadata": {
    "colab_type": "text",
    "id": "PBLMhGuEg1Kk"
   },
   "source": [
    "<p>Now we san see that the first combination minimizers the error to minimum. Lets use all our best parameters and hyper-parameters to train the ANN model</p>"
   ]
  },
  {
   "cell_type": "code",
   "execution_count": 0,
   "metadata": {
    "colab": {
     "base_uri": "https://localhost:8080/",
     "height": 870
    },
    "colab_type": "code",
    "executionInfo": {
     "elapsed": 501958,
     "status": "ok",
     "timestamp": 1551550262252,
     "user": {
      "displayName": "Tasnim Ahmed",
      "photoUrl": "https://lh5.googleusercontent.com/-_bXMSpk9fII/AAAAAAAAAAI/AAAAAAAAAOE/nghm7uaSFOo/s64/photo.jpg",
      "userId": "12044029492916722191"
     },
     "user_tz": 480
    },
    "id": "NC3FStox30kD",
    "outputId": "15ed640e-3faf-4a40-998e-4a90364f59d2"
   },
   "outputs": [
    {
     "name": "stdout",
     "output_type": "stream",
     "text": [
      "Train RMS error: 3.2497\n",
      "Validation RMS error: 3.4799\n",
      "Train RMS Log error: 0.0372\n",
      "Validation RMS Log error: 0.0406\n"
     ]
    },
    {
     "data": {
      "image/png": "[encoded data removed]",
      "text/plain": [
       "<Figure size 576x432 with 1 Axes>"
      ]
     },
     "metadata": {
      "tags": []
     },
     "output_type": "display_data"
    },
    {
     "data": {
      "image/png": "[encoded data removed]",
      "text/plain": [
       "<Figure size 576x432 with 1 Axes>"
      ]
     },
     "metadata": {
      "tags": []
     },
     "output_type": "display_data"
    }
   ],
   "source": [
    "train_rmsle, validation_rmsle, parameters, submission_name = model(train_set, train_label, validation_set, validation_label,\n",
    "                                                                   hidden_activation='relu',\n",
    "                                                                   weight_initializer='xavier', \n",
    "                                                                   set_optimizer = 'adam',\n",
    "                                                                   keep_prob=1.0,learning_rate=0.015,num_epochs = 500,\n",
    "                                                                   print_cost=False, plot_cost=True,show_result=True,\n",
    "                                                                   l2_beta=0.5,return_best=False,lr_decay=0,\n",
    "                                                                   hidden_neurons = 20)\n",
    "plot_prediction(validation_label, predict(validation_set, parameters))"
   ]
  },
  {
   "cell_type": "markdown",
   "metadata": {
    "colab_type": "text",
    "id": "oPuHwFE4hW-k"
   },
   "source": [
    "<p><u>Predicting validation dataset using ANN model with best combination of parameters</u></p>"
   ]
  },
  {
   "cell_type": "code",
   "execution_count": 0,
   "metadata": {
    "colab": {
     "base_uri": "https://localhost:8080/",
     "height": 35
    },
    "colab_type": "code",
    "executionInfo": {
     "elapsed": 501906,
     "status": "ok",
     "timestamp": 1551550262259,
     "user": {
      "displayName": "Tasnim Ahmed",
      "photoUrl": "https://lh5.googleusercontent.com/-_bXMSpk9fII/AAAAAAAAAAI/AAAAAAAAAOE/nghm7uaSFOo/s64/photo.jpg",
      "userId": "12044029492916722191"
     },
     "user_tz": 480
    },
    "id": "PnILP2O44Mh1",
    "outputId": "9fbc1140-a8f1-4b20-a174-7ee2f119b472"
   },
   "outputs": [
    {
     "data": {
      "text/plain": [
       "0.7263316263680621"
      ]
     },
     "execution_count": 74,
     "metadata": {
      "tags": []
     },
     "output_type": "execute_result"
    }
   ],
   "source": [
    "prediction = predict(validation_set, parameters)\n",
    "prediction = list(list(np.reshape(prediction, (1,np.product(prediction.shape))))[0])\n",
    "actual = list(list(np.reshape(validation_label, (1,np.product(validation_label.shape))))[0])\n",
    "r2_score(actual,prediction)"
   ]
  },
  {
   "cell_type": "markdown",
   "metadata": {
    "colab_type": "text",
    "id": "i9Rz49xVhpLf"
   },
   "source": [
    "<p>Yes. Now we can see that the accuracy has been increased by a bit. Now lets import another MLP-Regressor neural-network from scikit-learn and compare its performance of predicting validation dataset with respect to our own ANN model</p>"
   ]
  },
  {
   "cell_type": "code",
   "execution_count": 0,
   "metadata": {
    "colab": {},
    "colab_type": "code",
    "collapsed": true,
    "id": "KC6jhnlmiHat"
   },
   "outputs": [],
   "source": [
    "from sklearn.neural_network import MLPClassifier\n",
    "from sklearn.neural_network import MLPRegressor\n",
    "hl=[11 for i in range(51)]\n",
    "hl=tuple(hl)\n",
    "reg = MLPRegressor(hidden_layer_sizes=hl,activation='identity',solver=\"adam\", \\\n",
    "                                        learning_rate='invscaling',random_state=11)"
   ]
  },
  {
   "cell_type": "code",
   "execution_count": 0,
   "metadata": {
    "colab": {
     "base_uri": "https://localhost:8080/",
     "height": 35
    },
    "colab_type": "code",
    "executionInfo": {
     "elapsed": 502261,
     "status": "ok",
     "timestamp": 1551550262677,
     "user": {
      "displayName": "Tasnim Ahmed",
      "photoUrl": "https://lh5.googleusercontent.com/-_bXMSpk9fII/AAAAAAAAAAI/AAAAAAAAAOE/nghm7uaSFOo/s64/photo.jpg",
      "userId": "12044029492916722191"
     },
     "user_tz": 480
    },
    "id": "Z1TuIlNH5byA",
    "outputId": "cf058c40-f471-4f1b-d3f5-69df984a76ed"
   },
   "outputs": [
    {
     "data": {
      "text/plain": [
       "0.6026441250364258"
      ]
     },
     "execution_count": 76,
     "metadata": {
      "tags": []
     },
     "output_type": "execute_result"
    }
   ],
   "source": [
    "reg=reg.fit(train_set,train_label)\n",
    "prediction = list(reg.predict(validation_set))\n",
    "actual = list(list(np.reshape(validation_label, (1,np.product(validation_label.shape))))[0])\n",
    "r2_score(actual,prediction)"
   ]
  },
  {
   "cell_type": "markdown",
   "metadata": {
    "colab_type": "text",
    "id": "elyFVUSkieHr"
   },
   "source": [
    "<p>So we can see that the R2 score for MLP-Regressor ANN model on validation dataset is comperatively lower than our own ANN model. Though the accuracy of the MLP-Regressor could also be increased by tunning the hyperparameters. But for now lets train both models on the whore train-dataset and check their performance of predicting test-dataset </p>"
   ]
  },
  {
   "cell_type": "markdown",
   "metadata": {
    "colab_type": "text",
    "id": "l9Trv8vokCGY"
   },
   "source": [
    "<p><u>Training and predicting with our own ANN model</u></p>"
   ]
  },
  {
   "cell_type": "code",
   "execution_count": 0,
   "metadata": {
    "colab": {
     "base_uri": "https://localhost:8080/",
     "height": 35
    },
    "colab_type": "code",
    "executionInfo": {
     "elapsed": 1558,
     "status": "ok",
     "timestamp": 1551551239860,
     "user": {
      "displayName": "Tasnim Ahmed",
      "photoUrl": "https://lh5.googleusercontent.com/-_bXMSpk9fII/AAAAAAAAAAI/AAAAAAAAAOE/nghm7uaSFOo/s64/photo.jpg",
      "userId": "12044029492916722191"
     },
     "user_tz": 480
    },
    "id": "pMZESEp5iSu2",
    "outputId": "b3868f8a-a782-4775-e27c-a5852e938d4e"
   },
   "outputs": [
    {
     "data": {
      "text/plain": [
       "0.8696347264744038"
      ]
     },
     "execution_count": 173,
     "metadata": {
      "tags": []
     },
     "output_type": "execute_result"
    }
   ],
   "source": [
    "train_rmsle, validation_rmsle, parameters, submission_name = model(train_set_raw,train_label_raw,noneeda,noneedb,\n",
    "                                                                   hidden_activation='relu',\n",
    "                                                                   weight_initializer='xavier', \n",
    "                                                                   set_optimizer = 'adam',\n",
    "                                                                   keep_prob=1.0,learning_rate=0.015,num_epochs = 73,\n",
    "                                                                   print_cost=False, plot_cost=False,show_result=False,\n",
    "                                                                   l2_beta=0.5,return_best=False,lr_decay=0,\n",
    "                                                                   hidden_neurons = 20)\n",
    "prediction = predict(test_set_raw, parameters)\n",
    "prediction = list(list(np.reshape(prediction, (1,np.product(prediction.shape))))[0])\n",
    "actual = list(list(np.reshape(test_label_raw, (1,np.product(test_label_raw.shape))))[0])\n",
    "r2_score(actual,prediction)"
   ]
  },
  {
   "cell_type": "markdown",
   "metadata": {
    "colab_type": "text",
    "id": "n5cnrXUDkNQO"
   },
   "source": [
    "<p><u>Training and predicting with Sklearn MLP Regressor ANN model</u></p>"
   ]
  },
  {
   "cell_type": "code",
   "execution_count": 0,
   "metadata": {
    "colab": {
     "base_uri": "https://localhost:8080/",
     "height": 35
    },
    "colab_type": "code",
    "executionInfo": {
     "elapsed": 503502,
     "status": "ok",
     "timestamp": 1551550263953,
     "user": {
      "displayName": "Tasnim Ahmed",
      "photoUrl": "https://lh5.googleusercontent.com/-_bXMSpk9fII/AAAAAAAAAAI/AAAAAAAAAOE/nghm7uaSFOo/s64/photo.jpg",
      "userId": "12044029492916722191"
     },
     "user_tz": 480
    },
    "id": "0JVXO0Zd5K1U",
    "outputId": "c13e613e-656b-494c-d3b1-bef9fc5d6071"
   },
   "outputs": [
    {
     "data": {
      "text/plain": [
       "0.934402332361516"
      ]
     },
     "execution_count": 78,
     "metadata": {
      "tags": []
     },
     "output_type": "execute_result"
    }
   ],
   "source": [
    "reg=reg.fit(train_set_raw,train_label_raw)\n",
    "prediction = list(reg.predict(test_set_raw))\n",
    "actual = list(list(np.reshape(test_label_raw, (1,np.product(test_label_raw.shape))))[0])\n",
    "prediction = [ math.ceil(elem) for elem in prediction ]\n",
    "actual_bloom_days_ann = actual\n",
    "predicted_bloom_days_by_ann = prediction\n",
    "r2_score(actual,prediction)"
   ]
  },
  {
   "cell_type": "markdown",
   "metadata": {
    "colab_type": "text",
    "id": "exkekVMckYDK"
   },
   "source": [
    "<p><u>Performance Comparison</u><br>As we can see that both models have shown better r2 score on test-dataset. But the interesting part here is that the accuracy of MLP-Regressor ANN Model is better than our own ANN model. This was quite unexpected because our own model performed better on validation dataset. May be the occurance of such phenomenon is due to the very-small amount of test-data (only 5). Therefore it is quite possible that the MLP regressor model has luckily fitted  better with the samples of test-data.</p> \n",
    "  \n",
    "  <p><u>Decision</u><br>So it can be concluded that an ANN model trained and tested with small-size dataset may produce unpredictable results at times. Though ANN has the potential yet it is a requirement for ANN to have quantity and diversity in number of samples of datsets to ensure better performance.</p>"
   ]
  },
  {
   "cell_type": "markdown",
   "metadata": {
    "colab_type": "text",
    "id": "mHvGw02UpaTD"
   },
   "source": [
    "<p><u>Visualization of predicted-dates for the best ANN model</u></p>"
   ]
  },
  {
   "cell_type": "code",
   "execution_count": 0,
   "metadata": {
    "colab": {
     "base_uri": "https://localhost:8080/",
     "height": 243
    },
    "colab_type": "code",
    "executionInfo": {
     "elapsed": 943,
     "status": "ok",
     "timestamp": 1551565110541,
     "user": {
      "displayName": "Tasnim Ahmed",
      "photoUrl": "https://lh5.googleusercontent.com/-_bXMSpk9fII/AAAAAAAAAAI/AAAAAAAAAOE/nghm7uaSFOo/s64/photo.jpg",
      "userId": "12044029492916722191"
     },
     "user_tz": 480
    },
    "id": "2FyY-QJcBygO",
    "outputId": "4f671f81-1394-4241-b824-ae2563d6ebb2"
   },
   "outputs": [
    {
     "name": "stdout",
     "output_type": "stream",
     "text": [
      "Comparison of Predicted-Bloom-dates \n",
      " with respect to Actual bloom-dates for ANN\n"
     ]
    },
    {
     "data": {
      "text/html": [
       "<div>\n",
       "<style scoped>\n",
       "    .dataframe tbody tr th:only-of-type {\n",
       "        vertical-align: middle;\n",
       "    }\n",
       "\n",
       "    .dataframe tbody tr th {\n",
       "        vertical-align: top;\n",
       "    }\n",
       "\n",
       "    .dataframe thead th {\n",
       "        text-align: right;\n",
       "    }\n",
       "</style>\n",
       "<table border=\"1\" class=\"dataframe\">\n",
       "  <thead>\n",
       "    <tr style=\"text-align: right;\">\n",
       "      <th></th>\n",
       "      <th>Actual-bloom-dates</th>\n",
       "      <th>Predicted-bloom-dates</th>\n",
       "      <th>Prediction-error</th>\n",
       "    </tr>\n",
       "  </thead>\n",
       "  <tbody>\n",
       "    <tr>\n",
       "      <th>0</th>\n",
       "      <td>1966-03-20</td>\n",
       "      <td>1966-03-20</td>\n",
       "      <td>0</td>\n",
       "    </tr>\n",
       "    <tr>\n",
       "      <th>1</th>\n",
       "      <td>1971-03-30</td>\n",
       "      <td>1971-04-01</td>\n",
       "      <td>2</td>\n",
       "    </tr>\n",
       "    <tr>\n",
       "      <th>2</th>\n",
       "      <td>1985-04-03</td>\n",
       "      <td>1985-04-03</td>\n",
       "      <td>0</td>\n",
       "    </tr>\n",
       "    <tr>\n",
       "      <th>3</th>\n",
       "      <td>1994-03-31</td>\n",
       "      <td>1994-03-29</td>\n",
       "      <td>2</td>\n",
       "    </tr>\n",
       "    <tr>\n",
       "      <th>4</th>\n",
       "      <td>2008-03-22</td>\n",
       "      <td>2008-03-23</td>\n",
       "      <td>1</td>\n",
       "    </tr>\n",
       "  </tbody>\n",
       "</table>\n",
       "</div>"
      ],
      "text/plain": [
       "  Actual-bloom-dates Predicted-bloom-dates  Prediction-error\n",
       "0         1966-03-20            1966-03-20                 0\n",
       "1         1971-03-30            1971-04-01                 2\n",
       "2         1985-04-03            1985-04-03                 0\n",
       "3         1994-03-31            1994-03-29                 2\n",
       "4         2008-03-22            2008-03-23                 1"
      ]
     },
     "execution_count": 161,
     "metadata": {
      "tags": []
     },
     "output_type": "execute_result"
    }
   ],
   "source": [
    "from datetime import datetime, timedelta\n",
    "actual_bloom_days_ann = np.array(actual_bloom_days_ann).tolist()\n",
    "actual_bloom_dates_ann = []\n",
    "predicted_bloom_dates_by_ann = []\n",
    "difference = []\n",
    "for count in range(len(actual_bloom_days_ann)):\n",
    "    index = testdb[(testdb['bloom day'] == actual_bloom_days_ann[count])].index[0]\n",
    "    year = int(testdb[index:index+1].year)\n",
    "    predicted_bloomdate = date(year, 1, 1)+timedelta(days=predicted_bloom_days_by_ann[count])\n",
    "    actual_bloomdate = date(year, 1, 1)+timedelta(days=actual_bloom_days_ann[count])\n",
    "    actual_bloom_dates_ann.append(actual_bloomdate)\n",
    "    predicted_bloom_dates_by_ann.append(predicted_bloomdate)\n",
    "\n",
    "actual_bloom_dates_ann = sorted(actual_bloom_dates_ann)\n",
    "predicted_bloom_dates_by_ann = sorted(predicted_bloom_dates_by_ann)\n",
    "for count in range(len(actual_bloom_dates_ann)):\n",
    "    difference.append(abs(predicted_bloom_dates_by_ann[count] - \n",
    "                          actual_bloom_dates_ann[count]).days)\n",
    "print('Comparison of Predicted-Bloom-dates','\\n','with respect to Actual bloom-dates for ANN')  \n",
    "percentile_list = pd.DataFrame({'Actual-bloom-dates' : actual_bloom_dates_ann,\n",
    "                                'Predicted-bloom-dates' : predicted_bloom_dates_by_ann,\n",
    "                                'Prediction-error' : difference})\n",
    "percentile_list"
   ]
  },
  {
   "cell_type": "markdown",
   "metadata": {
    "colab_type": "text",
    "id": "XXENGX8IBSAh"
   },
   "source": [
    "### Problem 3-2: (10pts)\n",
    "Compare the performance (via $R^2$ score) of the 3 implementations above: the 600 Degree Rule, the DTS method, and the neural network approach. For all methods, and each test year, plot the predicted date vs. the actual date. Discuss the accuracy and differences of these 3 models."
   ]
  },
  {
   "cell_type": "markdown",
   "metadata": {
    "colab_type": "text",
    "id": "3AZhQJsShbkK"
   },
   "source": [
    "<p><u>Comparison of different models</u><br>Lets plot the <i>Prediction VS Reality</i> graph from each of the models for better understanding on how properly the models are fitting the test-data.</p>"
   ]
  },
  {
   "cell_type": "code",
   "execution_count": 0,
   "metadata": {
    "colab": {
     "base_uri": "https://localhost:8080/",
     "height": 568
    },
    "colab_type": "code",
    "executionInfo": {
     "elapsed": 506188,
     "status": "ok",
     "timestamp": 1551550266672,
     "user": {
      "displayName": "Tasnim Ahmed",
      "photoUrl": "https://lh5.googleusercontent.com/-_bXMSpk9fII/AAAAAAAAAAI/AAAAAAAAAOE/nghm7uaSFOo/s64/photo.jpg",
      "userId": "12044029492916722191"
     },
     "user_tz": 480
    },
    "id": "L6sYnOMBBSAj",
    "outputId": "8b0cfd3d-9d89-4a8b-a4fd-221990e53e6a"
   },
   "outputs": [
    {
     "data": {
      "image/png": "[encoded data removed]",
      "text/plain": [
       "<Figure size 864x648 with 4 Axes>"
      ]
     },
     "metadata": {
      "tags": []
     },
     "output_type": "display_data"
    }
   ],
   "source": [
    "def plot_prediction(actual_labels, prediction,pos,result):\n",
    "    plt.subplot(2,2,pos)\n",
    "    plt.style.use('ggplot')\n",
    "    plt.plot(prediction, actual_labels, 'ro')\n",
    "    plt.plot([min(actual_labels), max(actual_labels)], [min(actual_labels), max(actual_labels)], 'k--', lw=4)\n",
    "    plt.xlabel('Predictions')\n",
    "    plt.ylabel('Reality')\n",
    "    plt.title('Fig.3.'+str(pos)+' Predictions VS Reality for '+result, fontsize=12)\n",
    "    \n",
    "resultDts = r2_score(actual_bloom_days_dts,predicted_bloom_days_by_dts)\n",
    "result600 = r2_score(actual_bloom_days_600degree,predicted_bloom_days_by_t600) \n",
    "resultTmean = r2_score(actual_bloom_days_600degree,predicted_bloom_days_by_tmean)\n",
    "resultAnn = r2_score(actual_bloom_days_ann, predicted_bloom_days_by_ann)\n",
    "\n",
    "plt.figure(figsize=(12, 9))\n",
    "plt.subplots_adjust(wspace=None, hspace=0.3)\n",
    "plot_prediction(actual_bloom_days_600degree,predicted_bloom_days_by_t600,1,\n",
    "                str('600Degree rule. R2-score = {:.3f}'.format(result600)))\n",
    "plot_prediction(actual_bloom_days_600degree,predicted_bloom_days_by_tmean,2,\n",
    "                str('Tmean rule. R2-score = {:.3f}'.format(resultTmean)))\n",
    "plot_prediction(actual_bloom_days_dts,predicted_bloom_days_by_dts,3,\n",
    "                str('DTS method. R2-score = {:.3f}'.format(resultDts)))\n",
    "plot_prediction(actual_bloom_days_ann,predicted_bloom_days_by_ann,4,\n",
    "                str('ANN. R2-score = {:.3f}'.format(resultAnn)))\n",
    "plt.show()"
   ]
  },
  {
   "cell_type": "markdown",
   "metadata": {
    "colab_type": "text",
    "id": "JR_lWBe7jrT3"
   },
   "source": [
    "<p><u>All plot discussions</u></p><br>\n",
    "  <ul><u>0.1</u>The performance of Tmean rule(Fig. 3.2) is better than 600 degree rule(Fig. 3.1). This is because the Tmean(=638) value has been modified forTokyo which is 38 degree higher than 600 degree centigrade. The Tmean-rule performs better but it was not that much accurate as two dots are placed far away from marginal line (Fig. 3.2)</ul>\n",
    "  \n",
    "  <ul><u>0.2</u>The DTS method (Fig.3.3) perfoms better than the 600 Degree and Tmean Rule which is obvious because the previous Rules take into account only one feature(Daily Max Temperature) whereas the DTS method goes for a more sophisticated approach taking into account Hibernation pattern, Temperature, Activation Energy, Standard Reaction Time etc. The method has recorded highest R2 score on test dataset.</ul>\n",
    "  \n",
    "<ul><u>0.3</u>Now the Neural Network also performs well (Fig.3.4). One of the major advantage of using ANN is their ability to solve a prediction problem by just analysing the data-pattern. We do not need to define any mathematical rule or algorithm here. But it requires finding the most optimized network by parameter tuning. Another major drawback is that it cannot learn properly from smaller datasets and its performance is quite unpredictable on smaller test-data which is a major concern in our case. Our test data is too small and therefore any of the tunned model may luckily perform well on test data. we cannot simply expect that the network will perform equally well on large datasets too.</ul>\n",
    "\n",
    "<p><u>Decision</u><br>The DTS method is considered best as its algorithm is well defined and therefore it may perform better on large datasets too. The ANN model also has the potential to perform well. But it needs to be trained and tested using more data for better accuracy</p>"
   ]
  },
  {
   "cell_type": "markdown",
   "metadata": {
    "colab_type": "text",
    "id": "KwFB9nUpBSAq"
   },
   "source": [
    "***\n",
    "## 4. Trends of the Sakura blooming phenomenon (20pts total)"
   ]
  },
  {
   "cell_type": "markdown",
   "metadata": {
    "colab_type": "text",
    "id": "Xs81joX6BSAs"
   },
   "source": [
    "### Problem 4-1: (20pts)\n",
    "Based on the data from the past 60 years, investigate and discuss trends in the sakura hibernation ($D_{j}$) and blooming ($BD_{j}$) phenomena in Tokyo."
   ]
  },
  {
   "cell_type": "markdown",
   "metadata": {
    "colab_type": "text",
    "id": "sut1OO4iNyn1"
   },
   "source": [
    "<p><u>Plotting Dj and BDj with respect to all years</u></p>"
   ]
  },
  {
   "cell_type": "code",
   "execution_count": 0,
   "metadata": {
    "colab": {
     "base_uri": "https://localhost:8080/",
     "height": 296
    },
    "colab_type": "code",
    "executionInfo": {
     "elapsed": 506164,
     "status": "ok",
     "timestamp": 1551550266676,
     "user": {
      "displayName": "Tasnim Ahmed",
      "photoUrl": "https://lh5.googleusercontent.com/-_bXMSpk9fII/AAAAAAAAAAI/AAAAAAAAAOE/nghm7uaSFOo/s64/photo.jpg",
      "userId": "12044029492916722191"
     },
     "user_tz": 480
    },
    "id": "BXl18fnQFJ-J",
    "outputId": "715ed328-677e-43f2-ddef-82d0c208973c"
   },
   "outputs": [
    {
     "data": {
      "image/png": "[encoded data removed]",
      "text/plain": [
       "<Figure size 864x288 with 1 Axes>"
      ]
     },
     "metadata": {
      "tags": []
     },
     "output_type": "display_data"
    }
   ],
   "source": [
    "bloom_days = list(sakuradb['bloom day'])\n",
    "avg_temp = list(sakuradb['avg temp'])\n",
    "sea_pressure = list(sakuradb['sea pressure'])\n",
    "\n",
    "addingDj = 0\n",
    "all_avgDj = []\n",
    "all_avgBDj = []\n",
    "for count in range(len(dj_all_by_day)):\n",
    "    addingDj = addingDj + dj_all_by_day[count]\n",
    "    avgDj = addingDj/(count+1)\n",
    "    all_avgDj.append(avgDj)\n",
    "addingBDj = 0\n",
    "all_avg = []\n",
    "for count in range(len(bloom_days)):\n",
    "    addingBDj = addingBDj+bloom_days[count]\n",
    "    avgBDj = addingBDj/(count+1)\n",
    "    all_avgBDj.append(avgBDj)  \n",
    "\n",
    "plt.subplots(figsize=(12, 4))\n",
    "plt.plot(allyears,dj_all_by_day,'-bo', label= 'Dj')\n",
    "plt.plot(allyears,all_avgDj,'--r',label= 'Dj mean')\n",
    "plt.plot(allyears[0:-1],bloom_days,'-go',label= 'BDj')\n",
    "plt.plot(allyears[0:-1],all_avgBDj,'--y',label= 'BDj mean')\n",
    "plt.xlabel('All Years')\n",
    "plt.ylabel('Days')\n",
    "plt.ylim(30, 110)\n",
    "plt.title('Fig 4.1- Dj and BDj VS all Years', Fontsize = 12)\n",
    "plt.legend()\n",
    "plt.show()"
   ]
  },
  {
   "cell_type": "markdown",
   "metadata": {
    "colab_type": "text",
    "id": "mWdWb5-5PzdV"
   },
   "source": [
    "<p><u>Plotting the Duration of Growth-phase for all years </u></p>"
   ]
  },
  {
   "cell_type": "code",
   "execution_count": 0,
   "metadata": {
    "colab": {
     "base_uri": "https://localhost:8080/",
     "height": 188
    },
    "colab_type": "code",
    "executionInfo": {
     "elapsed": 506136,
     "status": "ok",
     "timestamp": 1551550266680,
     "user": {
      "displayName": "Tasnim Ahmed",
      "photoUrl": "https://lh5.googleusercontent.com/-_bXMSpk9fII/AAAAAAAAAAI/AAAAAAAAAOE/nghm7uaSFOo/s64/photo.jpg",
      "userId": "12044029492916722191"
     },
     "user_tz": 480
    },
    "id": "9QLtJ4w1LsfV",
    "outputId": "4ce83a7c-1703-41a5-b0ff-f87ded565a9d"
   },
   "outputs": [
    {
     "data": {
      "image/png": "[encoded data removed]",
      "text/plain": [
       "<Figure size 864x144 with 1 Axes>"
      ]
     },
     "metadata": {
      "tags": []
     },
     "output_type": "display_data"
    }
   ],
   "source": [
    "difference=[x1 - x2 for (x1, x2) in zip(bloom_days,dj_all_by_day[0:-1])]\n",
    "adding = 0\n",
    "all_avg = []\n",
    "for count in range(len(difference)):\n",
    "    adding = adding+difference[count]\n",
    "    avg = adding/(count+1)\n",
    "    all_avg.append(avg)\n",
    "\n",
    "plt.subplots(figsize=(12, 2))\n",
    "plt.plot(allyears[0:-1],difference,'-ro', label= 'Duration')\n",
    "plt.plot(allyears[0:-1],all_avg,'--b',label= 'Avg Duration')\n",
    "plt.xlabel('All Years')\n",
    "plt.ylabel('Day')\n",
    "plt.ylim(0, 80)\n",
    "plt.title('Fig 4.2- Duration of Growth-phase for all Years', Fontsize = 12)\n",
    "plt.legend()\n",
    "plt.show()"
   ]
  },
  {
   "cell_type": "markdown",
   "metadata": {
    "colab_type": "text",
    "id": "wcqhg5JoQ1iI"
   },
   "source": [
    "<p><u>Plotting average temperature of all years</u></p>"
   ]
  },
  {
   "cell_type": "code",
   "execution_count": 0,
   "metadata": {
    "colab": {
     "base_uri": "https://localhost:8080/",
     "height": 188
    },
    "colab_type": "code",
    "executionInfo": {
     "elapsed": 506118,
     "status": "ok",
     "timestamp": 1551550266685,
     "user": {
      "displayName": "Tasnim Ahmed",
      "photoUrl": "https://lh5.googleusercontent.com/-_bXMSpk9fII/AAAAAAAAAAI/AAAAAAAAAOE/nghm7uaSFOo/s64/photo.jpg",
      "userId": "12044029492916722191"
     },
     "user_tz": 480
    },
    "id": "3Fv5okCKQ8HL",
    "outputId": "108adbf3-d117-41f9-cc52-4d828250cecb"
   },
   "outputs": [
    {
     "data": {
      "image/png": "[encoded data removed]",
      "text/plain": [
       "<Figure size 864x144 with 1 Axes>"
      ]
     },
     "metadata": {
      "tags": []
     },
     "output_type": "display_data"
    }
   ],
   "source": [
    "adding = 0\n",
    "all_avg = []\n",
    "for count in range(len(avg_temp)):\n",
    "    adding = adding+avg_temp[count]\n",
    "    avg = adding/(count+1)\n",
    "    all_avg.append(avg)\n",
    "plt.subplots(figsize=(12, 2))\n",
    "plt.plot(allyears[0:-1],avg_temp,'-ro',label= 'Avg Temp')\n",
    "plt.plot(allyears[0:-1],all_avg,'--b',label= 'Avg Temp mean')\n",
    "plt.xlabel('All Years')\n",
    "plt.ylabel('Temperature')\n",
    "plt.ylim(5, 12)\n",
    "plt.title('Fig 4.3- Average temperature of all years', Fontsize = 12) \n",
    "plt.legend()\n",
    "plt.show()"
   ]
  },
  {
   "cell_type": "markdown",
   "metadata": {
    "colab_type": "text",
    "id": "WH8HAxGRYSQK"
   },
   "source": [
    "<p>NB- The Average Temperatures  in this plot are calculated for the first four months of each year. The reason is that these months have the most significant impact on bloom-dates.<p>"
   ]
  },
  {
   "cell_type": "markdown",
   "metadata": {
    "colab_type": "text",
    "id": "rwmCVDUkSL2p"
   },
   "source": [
    "<p><u>Plotting sea-pressure of all years</u></p>"
   ]
  },
  {
   "cell_type": "code",
   "execution_count": 0,
   "metadata": {
    "colab": {
     "base_uri": "https://localhost:8080/",
     "height": 188
    },
    "colab_type": "code",
    "executionInfo": {
     "elapsed": 506825,
     "status": "ok",
     "timestamp": 1551550267415,
     "user": {
      "displayName": "Tasnim Ahmed",
      "photoUrl": "https://lh5.googleusercontent.com/-_bXMSpk9fII/AAAAAAAAAAI/AAAAAAAAAOE/nghm7uaSFOo/s64/photo.jpg",
      "userId": "12044029492916722191"
     },
     "user_tz": 480
    },
    "id": "eeD0nOrpRDDC",
    "outputId": "838a1fda-b721-4177-e1ad-20ea2fee9f9f"
   },
   "outputs": [
    {
     "data": {
      "image/png": "[encoded data removed]",
      "text/plain": [
       "<Figure size 864x144 with 1 Axes>"
      ]
     },
     "metadata": {
      "tags": []
     },
     "output_type": "display_data"
    }
   ],
   "source": [
    "adding = 0\n",
    "all_avg = []\n",
    "for count in range(len(sea_pressure)):\n",
    "    adding = adding+sea_pressure[count]\n",
    "    avg = adding/(count+1)\n",
    "    all_avg.append(avg)\n",
    "\n",
    "plt.subplots(figsize=(12, 2))\n",
    "plt.plot(allyears[0:-1],sea_pressure,'-ro',label='Pressure')\n",
    "plt.plot(allyears[0:-1],all_avg,'--b',label='Pressure mean')\n",
    "plt.xlabel('All Years')\n",
    "plt.ylabel('Pressure')\n",
    "plt.ylim(1010, 1020)\n",
    "plt.title('Fig 4.4- Sea-pressure of all years', Fontsize = 12)\n",
    "plt.legend()\n",
    "plt.show()"
   ]
  },
  {
   "cell_type": "markdown",
   "metadata": {
    "colab_type": "text",
    "id": "tpqT_pdvS24I"
   },
   "source": [
    "<p><u>All Plot Discussions</u><br>\n",
    "<ul><u>01.</u> From the Graphs of 4.1 it is clear that the Hibernation Pattern has changed over the past 60 years. In recent years, the end of Hibernation taking place with a noticeable delay compared to the past years. The reason behind this might be the increase of average-temperature over the years (Fig. 4.3). Due of such increase in temperature of the first few months of recent years, The temperature: TF (Problem 2-1)  is rising and therefore increasing Dj value. So hibernation phase is delaying to end.</ul>\n",
    "<ul><u>02.</u> From Fig 4.1 it is also observed that BDJmean curve is gradually falling down over the years. That means the bloom is coming earlier in recent years. This phenomena is verified by the Graph of problem 1-1 as it tells that the Accumulated Max Temperature of hybernation phase has decreased over the years.</ul>\n",
    "<ul><u>03.</u> As hibernation is delaying to end but bloom is coming earlier, the duration of growth-period of sakura-buds is shrinking over the years (Fig. 4.2). From my assumption global warming might be a reason behind this. Due to global-warming average temperature is gradually rising (Fig 4.3) and spring is coming a bit earlier in every year and making Sakura-buds to bloom earlier than the previous years.</ul>\n",
    "<ul><u>04.</u>Though the average sea-pressure is found almost constant over the years, It is seen rising in very recent years (Fig. 4.4).Sea-pressure of recent years has merely dropped below the average-line. This may have impact on early-blooming </ul></p>"
   ]
  }
 ],
 "metadata": {
  "colab": {
   "collapsed_sections": [
    "GumGvzLbcOnD",
    "TqZemglWcOoQ"
   ],
   "name": "Sakura_Assignment_Meta10-Best@4Done.ipynb",
   "provenance": [],
   "version": "0.3.2"
  },
  "kernelspec": {
   "display_name": "Python 3",
   "language": "python",
   "name": "python3"
  },
  "language_info": {
   "codemirror_mode": {
    "name": "ipython",
    "version": 3
   },
   "file_extension": ".py",
   "mimetype": "text/x-python",
   "name": "python",
   "nbconvert_exporter": "python",
   "pygments_lexer": "ipython3",
   "version": "3.6.3"
  }
 },
 "nbformat": 4,
 "nbformat_minor": 1
}
